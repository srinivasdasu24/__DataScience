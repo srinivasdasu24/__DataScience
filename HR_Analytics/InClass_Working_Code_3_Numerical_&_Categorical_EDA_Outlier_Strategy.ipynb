{
  "nbformat": 4,
  "nbformat_minor": 0,
  "metadata": {
    "kernelspec": {
      "display_name": "Python 3",
      "language": "python",
      "name": "python3"
    },
    "language_info": {
      "codemirror_mode": {
        "name": "ipython",
        "version": 3
      },
      "file_extension": ".py",
      "mimetype": "text/x-python",
      "name": "python",
      "nbconvert_exporter": "python",
      "pygments_lexer": "ipython3",
      "version": "3.7.6"
    },
    "colab": {
      "name": "InClass Working Code 3 - Numerical & Categorical EDA Outlier Strategy.ipynb",
      "provenance": [],
      "collapsed_sections": [
        "w1gJQ7Qsa70Y",
        "Omv4nWgwa70Z",
        "AqPB9qLLa70a",
        "MAZ0TP21a70g"
      ],
      "toc_visible": true,
      "include_colab_link": true
    }
  },
  "cells": [
    {
      "cell_type": "markdown",
      "metadata": {
        "id": "view-in-github",
        "colab_type": "text"
      },
      "source": [
        "<a href=\"https://colab.research.google.com/github/srinivasdasu24/__DataScience/blob/main/HR_Analytics/InClass_Working_Code_3_Numerical_%26_Categorical_EDA_Outlier_Strategy.ipynb\" target=\"_parent\"><img src=\"https://colab.research.google.com/assets/colab-badge.svg\" alt=\"Open In Colab\"/></a>"
      ]
    },
    {
      "cell_type": "markdown",
      "metadata": {
        "id": "lFwktUA6a7zH"
      },
      "source": [
        "# Code 3\n",
        "- Numerical & Categorical EDA\n",
        "  - Outlier Detection and Basic Imputation (Mean/Median/Mode)\n",
        "- Logistic Model (Balanced/ Unbalanced)"
      ]
    },
    {
      "cell_type": "markdown",
      "metadata": {
        "id": "9DXfa773a7zZ"
      },
      "source": [
        "## 1/ Import Libraries"
      ]
    },
    {
      "cell_type": "code",
      "metadata": {
        "colab": {
          "base_uri": "https://localhost:8080/"
        },
        "id": "s7o2t9blWo-b",
        "outputId": "d47bbd8b-983d-4a1e-c063-478fecb55417"
      },
      "source": [
        "#CodeSection1\n",
        "from google.colab import drive\n",
        "drive.mount('/mntDrive') "
      ],
      "execution_count": 1,
      "outputs": [
        {
          "output_type": "stream",
          "text": [
            "Mounted at /mntDrive\n"
          ],
          "name": "stdout"
        }
      ]
    },
    {
      "cell_type": "code",
      "metadata": {
        "id": "n8yqRIuha7zn"
      },
      "source": [
        "#CodeSection2\n",
        "import pandas as pd\n",
        "import numpy as np"
      ],
      "execution_count": 2,
      "outputs": []
    },
    {
      "cell_type": "markdown",
      "metadata": {
        "id": "wRz6crvoa7zo"
      },
      "source": [
        "## 2/ Import Data"
      ]
    },
    {
      "cell_type": "code",
      "metadata": {
        "id": "3u-V5dA4a7zp"
      },
      "source": [
        "#CodeSection3\n",
        "train = pd.read_csv(\"/mntDrive/MyDrive/__DataScience/3 HR Analytics/input/train.csv\")\n",
        "test = pd.read_csv(\"/mntDrive/MyDrive/__DataScience/3 HR Analytics/input/test.csv\")"
      ],
      "execution_count": 3,
      "outputs": []
    },
    {
      "cell_type": "markdown",
      "metadata": {
        "id": "k-SeaUk9a7zp"
      },
      "source": [
        "## 3/ Combine both Datasets (train, test)"
      ]
    },
    {
      "cell_type": "code",
      "metadata": {
        "id": "LOCJ0YdIa7zq"
      },
      "source": [
        "#CodeSection4\n",
        "all_data = [train, test]"
      ],
      "execution_count": 4,
      "outputs": []
    },
    {
      "cell_type": "markdown",
      "metadata": {
        "id": "ox_afLNJtkyO"
      },
      "source": [
        "### Check Combined Data \n",
        "- Missing Value\n",
        "- Data Types"
      ]
    },
    {
      "cell_type": "code",
      "metadata": {
        "id": "T_aFcU3Na7zq",
        "colab": {
          "base_uri": "https://localhost:8080/"
        },
        "outputId": "df96a95e-e41b-4252-c5a1-429b66c84caa"
      },
      "source": [
        "#CodeSection5\n",
        "# Combine both to check Missing Value\n",
        "pd.concat([train, test], axis = 0).isnull().sum()"
      ],
      "execution_count": 5,
      "outputs": [
        {
          "output_type": "execute_result",
          "data": {
            "text/plain": [
              "enrollee_id                   0\n",
              "city                          0\n",
              "city_development_index        0\n",
              "gender                     7486\n",
              "relevent_experience           0\n",
              "enrolled_university         621\n",
              "education_level             852\n",
              "major_discipline           5231\n",
              "experience                  103\n",
              "company_size               8830\n",
              "company_type               9369\n",
              "last_new_job                671\n",
              "training_hours                0\n",
              "target                    15021\n",
              "dtype: int64"
            ]
          },
          "metadata": {
            "tags": []
          },
          "execution_count": 5
        }
      ]
    },
    {
      "cell_type": "code",
      "metadata": {
        "id": "yCMGv2mOa7zu",
        "colab": {
          "base_uri": "https://localhost:8080/"
        },
        "outputId": "a0d8b352-83e4-41e4-ca19-6160603a233b"
      },
      "source": [
        "#CodeSection6\n",
        "# Check Data types for each variable\n",
        "train.info()"
      ],
      "execution_count": 6,
      "outputs": [
        {
          "output_type": "stream",
          "text": [
            "<class 'pandas.core.frame.DataFrame'>\n",
            "RangeIndex: 18359 entries, 0 to 18358\n",
            "Data columns (total 14 columns):\n",
            " #   Column                  Non-Null Count  Dtype  \n",
            "---  ------                  --------------  -----  \n",
            " 0   enrollee_id             18359 non-null  int64  \n",
            " 1   city                    18359 non-null  object \n",
            " 2   city_development_index  18359 non-null  float64\n",
            " 3   gender                  14261 non-null  object \n",
            " 4   relevent_experience     18359 non-null  object \n",
            " 5   enrolled_university     18017 non-null  object \n",
            " 6   education_level         17902 non-null  object \n",
            " 7   major_discipline        15521 non-null  object \n",
            " 8   experience              18300 non-null  object \n",
            " 9   company_size            13580 non-null  object \n",
            " 10  company_type            13320 non-null  object \n",
            " 11  last_new_job            17992 non-null  object \n",
            " 12  training_hours          18359 non-null  int64  \n",
            " 13  target                  18359 non-null  int64  \n",
            "dtypes: float64(1), int64(3), object(10)\n",
            "memory usage: 2.0+ MB\n"
          ],
          "name": "stdout"
        }
      ]
    },
    {
      "cell_type": "code",
      "metadata": {
        "colab": {
          "base_uri": "https://localhost:8080/",
          "height": 224
        },
        "id": "93o_WFkXI5AA",
        "outputId": "be922499-1f20-4193-d59f-6d6b6752d1c8"
      },
      "source": [
        "train.head()"
      ],
      "execution_count": 8,
      "outputs": [
        {
          "output_type": "execute_result",
          "data": {
            "text/html": [
              "<div>\n",
              "<style scoped>\n",
              "    .dataframe tbody tr th:only-of-type {\n",
              "        vertical-align: middle;\n",
              "    }\n",
              "\n",
              "    .dataframe tbody tr th {\n",
              "        vertical-align: top;\n",
              "    }\n",
              "\n",
              "    .dataframe thead th {\n",
              "        text-align: right;\n",
              "    }\n",
              "</style>\n",
              "<table border=\"1\" class=\"dataframe\">\n",
              "  <thead>\n",
              "    <tr style=\"text-align: right;\">\n",
              "      <th></th>\n",
              "      <th>enrollee_id</th>\n",
              "      <th>city</th>\n",
              "      <th>city_development_index</th>\n",
              "      <th>gender</th>\n",
              "      <th>relevent_experience</th>\n",
              "      <th>enrolled_university</th>\n",
              "      <th>education_level</th>\n",
              "      <th>major_discipline</th>\n",
              "      <th>experience</th>\n",
              "      <th>company_size</th>\n",
              "      <th>company_type</th>\n",
              "      <th>last_new_job</th>\n",
              "      <th>training_hours</th>\n",
              "      <th>target</th>\n",
              "    </tr>\n",
              "  </thead>\n",
              "  <tbody>\n",
              "    <tr>\n",
              "      <th>0</th>\n",
              "      <td>23798</td>\n",
              "      <td>city_149</td>\n",
              "      <td>0.689</td>\n",
              "      <td>Male</td>\n",
              "      <td>Has relevent experience</td>\n",
              "      <td>no_enrollment</td>\n",
              "      <td>Graduate</td>\n",
              "      <td>STEM</td>\n",
              "      <td>3</td>\n",
              "      <td>100-500</td>\n",
              "      <td>Pvt Ltd</td>\n",
              "      <td>1</td>\n",
              "      <td>106</td>\n",
              "      <td>0</td>\n",
              "    </tr>\n",
              "    <tr>\n",
              "      <th>1</th>\n",
              "      <td>29166</td>\n",
              "      <td>city_83</td>\n",
              "      <td>0.923</td>\n",
              "      <td>Male</td>\n",
              "      <td>Has relevent experience</td>\n",
              "      <td>no_enrollment</td>\n",
              "      <td>Graduate</td>\n",
              "      <td>STEM</td>\n",
              "      <td>14</td>\n",
              "      <td>&lt;10</td>\n",
              "      <td>Funded Startup</td>\n",
              "      <td>1</td>\n",
              "      <td>69</td>\n",
              "      <td>0</td>\n",
              "    </tr>\n",
              "    <tr>\n",
              "      <th>2</th>\n",
              "      <td>46</td>\n",
              "      <td>city_16</td>\n",
              "      <td>0.910</td>\n",
              "      <td>NaN</td>\n",
              "      <td>Has relevent experience</td>\n",
              "      <td>no_enrollment</td>\n",
              "      <td>Graduate</td>\n",
              "      <td>STEM</td>\n",
              "      <td>6</td>\n",
              "      <td>50-99</td>\n",
              "      <td>Public Sector</td>\n",
              "      <td>2</td>\n",
              "      <td>4</td>\n",
              "      <td>0</td>\n",
              "    </tr>\n",
              "    <tr>\n",
              "      <th>3</th>\n",
              "      <td>18527</td>\n",
              "      <td>city_64</td>\n",
              "      <td>0.666</td>\n",
              "      <td>Male</td>\n",
              "      <td>Has relevent experience</td>\n",
              "      <td>no_enrollment</td>\n",
              "      <td>Graduate</td>\n",
              "      <td>STEM</td>\n",
              "      <td>14</td>\n",
              "      <td>50-99</td>\n",
              "      <td>Pvt Ltd</td>\n",
              "      <td>1</td>\n",
              "      <td>26</td>\n",
              "      <td>0</td>\n",
              "    </tr>\n",
              "    <tr>\n",
              "      <th>4</th>\n",
              "      <td>21751</td>\n",
              "      <td>city_100</td>\n",
              "      <td>0.887</td>\n",
              "      <td>NaN</td>\n",
              "      <td>No relevent experience</td>\n",
              "      <td>no_enrollment</td>\n",
              "      <td>Masters</td>\n",
              "      <td>STEM</td>\n",
              "      <td>8</td>\n",
              "      <td>NaN</td>\n",
              "      <td>NaN</td>\n",
              "      <td>2</td>\n",
              "      <td>88</td>\n",
              "      <td>1</td>\n",
              "    </tr>\n",
              "  </tbody>\n",
              "</table>\n",
              "</div>"
            ],
            "text/plain": [
              "   enrollee_id      city  ...  training_hours target\n",
              "0        23798  city_149  ...             106      0\n",
              "1        29166   city_83  ...              69      0\n",
              "2           46   city_16  ...               4      0\n",
              "3        18527   city_64  ...              26      0\n",
              "4        21751  city_100  ...              88      1\n",
              "\n",
              "[5 rows x 14 columns]"
            ]
          },
          "metadata": {
            "tags": []
          },
          "execution_count": 8
        }
      ]
    },
    {
      "cell_type": "markdown",
      "metadata": {
        "id": "DdB8TzBPa7zv"
      },
      "source": [
        "## 4/ EDA - Check Numerical Variables"
      ]
    },
    {
      "cell_type": "code",
      "metadata": {
        "id": "vC53ci3Ja7zv"
      },
      "source": [
        "#CodeSection7\n",
        "# Lets Import the Seaborn Library\n",
        "import seaborn as sns"
      ],
      "execution_count": 7,
      "outputs": []
    },
    {
      "cell_type": "markdown",
      "metadata": {
        "id": "tZ9MGesTa7z_"
      },
      "source": [
        "### Lets start with Numerical Variable/Feature - 1"
      ]
    },
    {
      "cell_type": "code",
      "metadata": {
        "id": "uyguqgb2a70A",
        "colab": {
          "base_uri": "https://localhost:8080/",
          "height": 351
        },
        "outputId": "4931c21e-6890-4ab8-e99e-6d9b8d906a22"
      },
      "source": [
        "#CodeSection8\n",
        "# in this case we start with \"ApplicantIncome\"\n",
        "sns.boxplot(train['training_hours'])\n",
        "# Has Outliers"
      ],
      "execution_count": 13,
      "outputs": [
        {
          "output_type": "stream",
          "text": [
            "/usr/local/lib/python3.7/dist-packages/seaborn/_decorators.py:43: FutureWarning: Pass the following variable as a keyword arg: x. From version 0.12, the only valid positional argument will be `data`, and passing other arguments without an explicit keyword will result in an error or misinterpretation.\n",
            "  FutureWarning\n"
          ],
          "name": "stderr"
        },
        {
          "output_type": "execute_result",
          "data": {
            "text/plain": [
              "<matplotlib.axes._subplots.AxesSubplot at 0x7fa3e366a410>"
            ]
          },
          "metadata": {
            "tags": []
          },
          "execution_count": 13
        },
        {
          "output_type": "display_data",
          "data": {
            "image/png": "[encoded data removed]",
            "text/plain": [
              "<Figure size 432x288 with 1 Axes>"
            ]
          },
          "metadata": {
            "tags": [],
            "needs_background": "light"
          }
        }
      ]
    },
    {
      "cell_type": "markdown",
      "metadata": {
        "id": "KxOOS6FeXbYZ"
      },
      "source": [
        "### Inter Quantile Range Strategy \n",
        "- Outlier Detection\n",
        "- Outlier Treatment"
      ]
    },
    {
      "cell_type": "code",
      "metadata": {
        "id": "QaqPw5Zxa70A",
        "colab": {
          "base_uri": "https://localhost:8080/"
        },
        "outputId": "ee4acf70-a09f-4e4a-8f25-c71a0cd15cd0"
      },
      "source": [
        "#CodeSection9\n",
        "# Use quantile function\n",
        "# Find Q1 and Q3\n",
        "Q1 = train['training_hours'].quantile(0.25)\n",
        "Q3 = train['training_hours'].quantile(0.75)\n",
        "\n",
        "#Find IQR \n",
        "IQR = Q3 - Q1\n",
        "\n",
        "#Find Lower Limit and Higher Limit\n",
        "Lower_Whisker = Q1 - 1.5*Q3\n",
        "Upper_Whisker = Q1 + 1.5* Q3\n",
        "\n",
        "# Print all Values\n",
        "print('Q1 : {}'.format(Q1))\n",
        "print('Q3 : {}'.format(Q3))\n",
        "print('IQR : {}'.format(IQR))\n",
        "print(Lower_Whisker, Upper_Whisker)"
      ],
      "execution_count": 14,
      "outputs": [
        {
          "output_type": "stream",
          "text": [
            "Q1 : 23.0\n",
            "Q3 : 89.0\n",
            "IQR : 66.0\n",
            "-110.5 156.5\n"
          ],
          "name": "stdout"
        }
      ]
    },
    {
      "cell_type": "markdown",
      "metadata": {
        "id": "f7GDYbHtYghf"
      },
      "source": [
        "### Now lets Treat the value by imputing with Mean/Median"
      ]
    },
    {
      "cell_type": "code",
      "metadata": {
        "id": "mCYm1tIhYfcU"
      },
      "source": [
        "#CodeSection10\n",
        "# Replace Variable with Upper Whisker (there are other strategies)\n",
        "for data in all_data:\n",
        "  data['training_hours'] = data['training_hours'].apply(lambda x: Upper_Whisker if x > Upper_Whisker else x)"
      ],
      "execution_count": 15,
      "outputs": []
    },
    {
      "cell_type": "code",
      "metadata": {
        "colab": {
          "base_uri": "https://localhost:8080/",
          "height": 351
        },
        "id": "elfBu1UpZStT",
        "outputId": "73a6bb64-e04b-4d3e-8de1-677ee2daf93c"
      },
      "source": [
        "#CodeSection11\n",
        "# Lets check again\n",
        "sns.boxplot(train['training_hours'])\n",
        "# Now No Outliers"
      ],
      "execution_count": 16,
      "outputs": [
        {
          "output_type": "stream",
          "text": [
            "/usr/local/lib/python3.7/dist-packages/seaborn/_decorators.py:43: FutureWarning: Pass the following variable as a keyword arg: x. From version 0.12, the only valid positional argument will be `data`, and passing other arguments without an explicit keyword will result in an error or misinterpretation.\n",
            "  FutureWarning\n"
          ],
          "name": "stderr"
        },
        {
          "output_type": "execute_result",
          "data": {
            "text/plain": [
              "<matplotlib.axes._subplots.AxesSubplot at 0x7fa3e373c6d0>"
            ]
          },
          "metadata": {
            "tags": []
          },
          "execution_count": 16
        },
        {
          "output_type": "display_data",
          "data": {
            "image/png": "[encoded data removed]",
            "text/plain": [
              "<Figure size 432x288 with 1 Axes>"
            ]
          },
          "metadata": {
            "tags": [],
            "needs_background": "light"
          }
        }
      ]
    },
    {
      "cell_type": "markdown",
      "metadata": {
        "id": "KboVZiYca70C"
      },
      "source": [
        "### Replicate for other Numerical Variable/Features"
      ]
    },
    {
      "cell_type": "code",
      "metadata": {
        "id": "QITXr52ca70I"
      },
      "source": [
        "#CodeSection12\n",
        "\n",
        "# Identify all Numerical Variables \n",
        "numerical_features = ['training_hours','city_development_index']\n",
        "\n",
        "# Write a loop to do the same \n",
        "for num_feat in numerical_features:\n",
        "  Q1 = train[num_feat].quantile(0.25)\n",
        "  Q3 = train[num_feat].quantile(0.75)\n",
        "\n",
        "  #Find IQR \n",
        "  IQR = Q3-Q1\n",
        "\n",
        "  #Find Lower Limit and Higher Limit\n",
        "  Lower_Whisker = Q1 - 1.5 * IQR\n",
        "  Upper_Whisker = Q3 + 1.5 * IQR\n",
        "\n",
        "  for data in all_data:\n",
        "    data[num_feat] = data[num_feat].apply(lambda x: Upper_Whisker if x > Upper_Whisker else x)"
      ],
      "execution_count": 17,
      "outputs": []
    },
    {
      "cell_type": "markdown",
      "metadata": {
        "id": "am7cBDhea70L"
      },
      "source": [
        "## 5/ Impute Numerical Variables"
      ]
    },
    {
      "cell_type": "markdown",
      "metadata": {
        "id": "iYr79AHBa70L"
      },
      "source": [
        "### Impute all Numerical Variables at once\n",
        "\n"
      ]
    },
    {
      "cell_type": "code",
      "metadata": {
        "id": "HyWOSnV8a70M"
      },
      "source": [
        "#CodeSection13\n",
        "# Write a loop to Impute all Numerical Vairbales\n",
        "# for dataset in all_data:\n",
        "#   # Numerical Feature 1\n",
        "#   dataset['ApplicantIncome'] = dataset['ApplicantIncome'].fillna(dataset['ApplicantIncome'].median())\n",
        "  \n",
        "#   # Numerical Feature 2\n",
        "#   dataset['CoapplicantIncome'] = dataset['CoapplicantIncome'].fillna(dataset['CoapplicantIncome'].median())\n",
        "\n",
        "#   # Numerical Feature 3\n",
        "#   dataset['LoanAmount'] = dataset['LoanAmount'].fillna(dataset['LoanAmount'].median())\n",
        "  \n",
        "#   # Numerical Feature 4\n",
        "#   dataset['Loan_Amount_Term'] = dataset['Loan_Amount_Term'].fillna(dataset['Loan_Amount_Term'].median())\n",
        "\n",
        "#   # Numerical Feature 5\n",
        "#   dataset['Credit_History'] = dataset['Credit_History'].fillna(dataset['Credit_History'].median())"
      ],
      "execution_count": null,
      "outputs": []
    },
    {
      "cell_type": "markdown",
      "metadata": {
        "id": "HSChDYATa70P"
      },
      "source": [
        "## 6/ Impute Categorical Variables\n",
        "- Lets try another Strategy of Imputing \"Missing\" where a Category value is missing"
      ]
    },
    {
      "cell_type": "markdown",
      "metadata": {
        "id": "D-qhcS6Ma70P"
      },
      "source": [
        "### Impute all Categorical Variables at once"
      ]
    },
    {
      "cell_type": "code",
      "metadata": {
        "id": "_JgFfORJa70Q"
      },
      "source": [
        "#CodeSection14\n",
        "for dataset in all_data:\n",
        "  # Categorical Feature 1\n",
        "  dataset['gender'] = dataset['gender'].fillna('Missing')\n",
        "\n",
        "  # Categorical Feature 2\n",
        "  dataset['last_new_job'] = dataset['last_new_job'].fillna('Missing')\n",
        "  \n",
        "  # Categorical Feature 3\n",
        "  dataset['major_discipline'] = dataset['major_discipline'].fillna('Missing')\n",
        "\n",
        "  # Categorical Feature 4\n",
        "  dataset['company_size'] = dataset['company_size'].fillna('Missing')\n",
        "\n",
        "  dataset['company_type'] = dataset['company_type'].fillna('Missing')\n",
        "\n",
        "  dataset['education_level'] = dataset['education_level'].fillna('Missing')\n",
        "\n",
        "  dataset['enrolled_university'] = dataset['enrolled_university'].fillna('Missing')\n",
        "\n",
        "  dataset['experience'] = dataset['experience'].fillna('Missing')"
      ],
      "execution_count": 18,
      "outputs": []
    },
    {
      "cell_type": "markdown",
      "metadata": {
        "id": "Yn4guIioa70V"
      },
      "source": [
        "## 7/ Now Re Check all Features"
      ]
    },
    {
      "cell_type": "code",
      "metadata": {
        "id": "MHrl6vMma70W",
        "colab": {
          "base_uri": "https://localhost:8080/"
        },
        "outputId": "7fc9a685-840c-4f16-9a56-cbe4368fcfb8"
      },
      "source": [
        "#CodeSection15\n",
        "# Combine both to check Missing Value\n",
        "pd.concat([train, test], axis = 0).isnull().sum()"
      ],
      "execution_count": 19,
      "outputs": [
        {
          "output_type": "execute_result",
          "data": {
            "text/plain": [
              "enrollee_id                   0\n",
              "city                          0\n",
              "city_development_index        0\n",
              "gender                        0\n",
              "relevent_experience           0\n",
              "enrolled_university           0\n",
              "education_level               0\n",
              "major_discipline              0\n",
              "experience                    0\n",
              "company_size                  0\n",
              "company_type                  0\n",
              "last_new_job                  0\n",
              "training_hours                0\n",
              "target                    15021\n",
              "dtype: int64"
            ]
          },
          "metadata": {
            "tags": []
          },
          "execution_count": 19
        }
      ]
    },
    {
      "cell_type": "markdown",
      "metadata": {
        "id": "6Ade98pva70W"
      },
      "source": [
        "## 8/ Prepare Data for Model Model"
      ]
    },
    {
      "cell_type": "code",
      "metadata": {
        "id": "TEySx0Nza70X",
        "colab": {
          "base_uri": "https://localhost:8080/",
          "height": 224
        },
        "outputId": "8e5dea53-ed3d-4539-fe68-0a50c0fcc9cf"
      },
      "source": [
        "#CodeSection16\n",
        "# Check First 5 Rows of Test Data\n",
        "test.head()"
      ],
      "execution_count": 20,
      "outputs": [
        {
          "output_type": "execute_result",
          "data": {
            "text/html": [
              "<div>\n",
              "<style scoped>\n",
              "    .dataframe tbody tr th:only-of-type {\n",
              "        vertical-align: middle;\n",
              "    }\n",
              "\n",
              "    .dataframe tbody tr th {\n",
              "        vertical-align: top;\n",
              "    }\n",
              "\n",
              "    .dataframe thead th {\n",
              "        text-align: right;\n",
              "    }\n",
              "</style>\n",
              "<table border=\"1\" class=\"dataframe\">\n",
              "  <thead>\n",
              "    <tr style=\"text-align: right;\">\n",
              "      <th></th>\n",
              "      <th>enrollee_id</th>\n",
              "      <th>city</th>\n",
              "      <th>city_development_index</th>\n",
              "      <th>gender</th>\n",
              "      <th>relevent_experience</th>\n",
              "      <th>enrolled_university</th>\n",
              "      <th>education_level</th>\n",
              "      <th>major_discipline</th>\n",
              "      <th>experience</th>\n",
              "      <th>company_size</th>\n",
              "      <th>company_type</th>\n",
              "      <th>last_new_job</th>\n",
              "      <th>training_hours</th>\n",
              "    </tr>\n",
              "  </thead>\n",
              "  <tbody>\n",
              "    <tr>\n",
              "      <th>0</th>\n",
              "      <td>16548</td>\n",
              "      <td>city_33</td>\n",
              "      <td>0.448</td>\n",
              "      <td>Missing</td>\n",
              "      <td>No relevent experience</td>\n",
              "      <td>Full time course</td>\n",
              "      <td>Graduate</td>\n",
              "      <td>STEM</td>\n",
              "      <td>&lt;1</td>\n",
              "      <td>1000-4999</td>\n",
              "      <td>Public Sector</td>\n",
              "      <td>Missing</td>\n",
              "      <td>15.0</td>\n",
              "    </tr>\n",
              "    <tr>\n",
              "      <th>1</th>\n",
              "      <td>12036</td>\n",
              "      <td>city_28</td>\n",
              "      <td>0.939</td>\n",
              "      <td>Male</td>\n",
              "      <td>No relevent experience</td>\n",
              "      <td>no_enrollment</td>\n",
              "      <td>Graduate</td>\n",
              "      <td>STEM</td>\n",
              "      <td>&gt;20</td>\n",
              "      <td>50-99</td>\n",
              "      <td>Pvt Ltd</td>\n",
              "      <td>1</td>\n",
              "      <td>94.0</td>\n",
              "    </tr>\n",
              "    <tr>\n",
              "      <th>2</th>\n",
              "      <td>11061</td>\n",
              "      <td>city_103</td>\n",
              "      <td>0.920</td>\n",
              "      <td>Male</td>\n",
              "      <td>No relevent experience</td>\n",
              "      <td>Full time course</td>\n",
              "      <td>Graduate</td>\n",
              "      <td>STEM</td>\n",
              "      <td>3</td>\n",
              "      <td>Missing</td>\n",
              "      <td>Missing</td>\n",
              "      <td>1</td>\n",
              "      <td>17.0</td>\n",
              "    </tr>\n",
              "    <tr>\n",
              "      <th>3</th>\n",
              "      <td>5032</td>\n",
              "      <td>city_104</td>\n",
              "      <td>0.924</td>\n",
              "      <td>Male</td>\n",
              "      <td>No relevent experience</td>\n",
              "      <td>no_enrollment</td>\n",
              "      <td>Phd</td>\n",
              "      <td>STEM</td>\n",
              "      <td>&gt;20</td>\n",
              "      <td>50-99</td>\n",
              "      <td>Pvt Ltd</td>\n",
              "      <td>2</td>\n",
              "      <td>76.0</td>\n",
              "    </tr>\n",
              "    <tr>\n",
              "      <th>4</th>\n",
              "      <td>17599</td>\n",
              "      <td>city_77</td>\n",
              "      <td>0.830</td>\n",
              "      <td>Male</td>\n",
              "      <td>Has relevent experience</td>\n",
              "      <td>no_enrollment</td>\n",
              "      <td>Graduate</td>\n",
              "      <td>STEM</td>\n",
              "      <td>6</td>\n",
              "      <td>&lt;10</td>\n",
              "      <td>Pvt Ltd</td>\n",
              "      <td>2</td>\n",
              "      <td>65.0</td>\n",
              "    </tr>\n",
              "  </tbody>\n",
              "</table>\n",
              "</div>"
            ],
            "text/plain": [
              "   enrollee_id      city  ...  last_new_job training_hours\n",
              "0        16548   city_33  ...       Missing           15.0\n",
              "1        12036   city_28  ...             1           94.0\n",
              "2        11061  city_103  ...             1           17.0\n",
              "3         5032  city_104  ...             2           76.0\n",
              "4        17599   city_77  ...             2           65.0\n",
              "\n",
              "[5 rows x 13 columns]"
            ]
          },
          "metadata": {
            "tags": []
          },
          "execution_count": 20
        }
      ]
    },
    {
      "cell_type": "code",
      "metadata": {
        "id": "A6yS1pqza70X"
      },
      "source": [
        "#CodeSection17\n",
        "# Get X and y Variables for your Dataset\n",
        "X = train.drop(['enrollee_id','target'], axis =  1)\n",
        "y = train['target']"
      ],
      "execution_count": 21,
      "outputs": []
    },
    {
      "cell_type": "markdown",
      "metadata": {
        "id": "w1gJQ7Qsa70Y"
      },
      "source": [
        "### Create Dummy Variables for  Categorical Variables"
      ]
    },
    {
      "cell_type": "code",
      "metadata": {
        "id": "ipcXGR73a70Y"
      },
      "source": [
        "#CodeSection18\n",
        "# Get Dummy Variables\n",
        "X = pd.get_dummies(X)  # Keep only n - 1 Variables - Use \"drop_first = True\""
      ],
      "execution_count": 22,
      "outputs": []
    },
    {
      "cell_type": "markdown",
      "metadata": {
        "id": "p62cfPzVa70Y"
      },
      "source": [
        "## 9/ Build Model"
      ]
    },
    {
      "cell_type": "code",
      "metadata": {
        "id": "GdLbPTCXa70Y"
      },
      "source": [
        "#CodeSection19\n",
        "#Import Logistic Regression Library\n",
        "from sklearn.linear_model import LogisticRegression\n",
        "\n",
        "#Initialize LR\n",
        "clf = LogisticRegression(max_iter = 1000)"
      ],
      "execution_count": 23,
      "outputs": []
    },
    {
      "cell_type": "code",
      "metadata": {
        "id": "WrD0GfaSa70Z"
      },
      "source": [
        "#CodeSection20\n",
        "# Fit Model\n",
        "model = clf.fit(X, y)"
      ],
      "execution_count": 24,
      "outputs": []
    },
    {
      "cell_type": "markdown",
      "metadata": {
        "id": "Omv4nWgwa70Z"
      },
      "source": [
        "### Check Accuracy of Model on Train Data"
      ]
    },
    {
      "cell_type": "code",
      "metadata": {
        "id": "PQi2u6uQa70Z"
      },
      "source": [
        "#CodeSection21\n",
        "# Predict on Train Data\n",
        "y_pred = model.predict(X)"
      ],
      "execution_count": 25,
      "outputs": []
    },
    {
      "cell_type": "markdown",
      "metadata": {
        "id": "AqPB9qLLa70a"
      },
      "source": [
        "### We can use a Accuracy Function from Metrics\n",
        "- Check Train Accuracy"
      ]
    },
    {
      "cell_type": "code",
      "metadata": {
        "id": "L8VJNsHIa70a"
      },
      "source": [
        "#CodeSection22\n",
        "# Import metrics library\n",
        "from sklearn.metrics import accuracy_score"
      ],
      "execution_count": 26,
      "outputs": []
    },
    {
      "cell_type": "code",
      "metadata": {
        "id": "jeeS7nkja70a"
      },
      "source": [
        "#CodeSection23\n",
        "# get Actual \"y\" variables (use \"y_true\" as variable)\n",
        "y_true = train['target']"
      ],
      "execution_count": 27,
      "outputs": []
    },
    {
      "cell_type": "code",
      "metadata": {
        "id": "p7llEg7aa70b",
        "colab": {
          "base_uri": "https://localhost:8080/"
        },
        "outputId": "94836f89-4a26-4e74-e79c-dcee7c4aa3cb"
      },
      "source": [
        "#CodeSection24\n",
        "# Print Train Accuracy\n",
        "print(f\" Train Accuracy : {accuracy_score(y_true, y_pred):0.1%}\")"
      ],
      "execution_count": 28,
      "outputs": [
        {
          "output_type": "stream",
          "text": [
            " Train Accuracy : 86.8%\n"
          ],
          "name": "stdout"
        }
      ]
    },
    {
      "cell_type": "markdown",
      "metadata": {
        "id": "QIMZgLEWa70b"
      },
      "source": [
        "## 10/ Predict and Submit"
      ]
    },
    {
      "cell_type": "markdown",
      "metadata": {
        "id": "BwZubGmra70b"
      },
      "source": [
        "### Predict"
      ]
    },
    {
      "cell_type": "code",
      "metadata": {
        "id": "7qnE4K9Ca70c"
      },
      "source": [
        "#CodeSection25\n",
        "# Get all the X Variables from the Test Dataset\n",
        "X_test = test.drop(['enrollee_id'], axis =  1)"
      ],
      "execution_count": 29,
      "outputs": []
    },
    {
      "cell_type": "code",
      "metadata": {
        "id": "0ivs1ED7a70d"
      },
      "source": [
        "#CodeSection26\n",
        "#Covert to Dummies\n",
        "X_test = pd.get_dummies(X_test)"
      ],
      "execution_count": 30,
      "outputs": []
    },
    {
      "cell_type": "code",
      "metadata": {
        "id": "eE8sFN6Na70e"
      },
      "source": [
        "#CodeSection27\n",
        "# use this code if the next Code shows error\n",
        "#X_test['Married_Missing']  = 0"
      ],
      "execution_count": null,
      "outputs": []
    },
    {
      "cell_type": "code",
      "metadata": {
        "id": "cHsaBNQFa70e"
      },
      "source": [
        "#CodeSection28\n",
        "# Predict on X_test Data (\"X_test_prep\")\n",
        "X_test_prep = model.predict(X_test)"
      ],
      "execution_count": 31,
      "outputs": []
    },
    {
      "cell_type": "markdown",
      "metadata": {
        "id": "xNsntVeVVZJJ"
      },
      "source": [
        "### Import Sample Submission"
      ]
    },
    {
      "cell_type": "code",
      "metadata": {
        "id": "RN-xBj4aa70f",
        "colab": {
          "base_uri": "https://localhost:8080/",
          "height": 204
        },
        "outputId": "f7d8b40f-b439-47ed-c1ba-a9faca0a28f3"
      },
      "source": [
        "#CodeSection29\n",
        "sample_submission = pd.read_csv(\"/mntDrive/MyDrive/__DataScience/3 HR Analytics/input/sample_submission.csv\")\n",
        "sample_submission.head()"
      ],
      "execution_count": 32,
      "outputs": [
        {
          "output_type": "execute_result",
          "data": {
            "text/html": [
              "<div>\n",
              "<style scoped>\n",
              "    .dataframe tbody tr th:only-of-type {\n",
              "        vertical-align: middle;\n",
              "    }\n",
              "\n",
              "    .dataframe tbody tr th {\n",
              "        vertical-align: top;\n",
              "    }\n",
              "\n",
              "    .dataframe thead th {\n",
              "        text-align: right;\n",
              "    }\n",
              "</style>\n",
              "<table border=\"1\" class=\"dataframe\">\n",
              "  <thead>\n",
              "    <tr style=\"text-align: right;\">\n",
              "      <th></th>\n",
              "      <th>enrollee_id</th>\n",
              "      <th>target</th>\n",
              "    </tr>\n",
              "  </thead>\n",
              "  <tbody>\n",
              "    <tr>\n",
              "      <th>0</th>\n",
              "      <td>16548</td>\n",
              "      <td>0</td>\n",
              "    </tr>\n",
              "    <tr>\n",
              "      <th>1</th>\n",
              "      <td>12036</td>\n",
              "      <td>0</td>\n",
              "    </tr>\n",
              "    <tr>\n",
              "      <th>2</th>\n",
              "      <td>11061</td>\n",
              "      <td>0</td>\n",
              "    </tr>\n",
              "    <tr>\n",
              "      <th>3</th>\n",
              "      <td>5032</td>\n",
              "      <td>0</td>\n",
              "    </tr>\n",
              "    <tr>\n",
              "      <th>4</th>\n",
              "      <td>17599</td>\n",
              "      <td>0</td>\n",
              "    </tr>\n",
              "  </tbody>\n",
              "</table>\n",
              "</div>"
            ],
            "text/plain": [
              "   enrollee_id  target\n",
              "0        16548       0\n",
              "1        12036       0\n",
              "2        11061       0\n",
              "3         5032       0\n",
              "4        17599       0"
            ]
          },
          "metadata": {
            "tags": []
          },
          "execution_count": 32
        }
      ]
    },
    {
      "cell_type": "markdown",
      "metadata": {
        "id": "SClle2xqa70e"
      },
      "source": [
        "### Create Submission File"
      ]
    },
    {
      "cell_type": "code",
      "metadata": {
        "id": "LgdlFL46a70f"
      },
      "source": [
        "#CodeSection30\n",
        "submission = pd.DataFrame({\n",
        "    'enrollee_id' : test['enrollee_id']   ,\n",
        "    'target' : X_test_prep\n",
        "})"
      ],
      "execution_count": 34,
      "outputs": []
    },
    {
      "cell_type": "markdown",
      "metadata": {
        "id": "MAZ0TP21a70g"
      },
      "source": [
        "### Export Submission File"
      ]
    },
    {
      "cell_type": "code",
      "metadata": {
        "id": "AnfbYZoKa70g"
      },
      "source": [
        "#CodeSection31\n",
        "submission.to_csv('/mntDrive/MyDrive/__DataScience/3 HR Analytics/output/O3_LR_Outlier.csv', index = False)"
      ],
      "execution_count": 35,
      "outputs": []
    },
    {
      "cell_type": "code",
      "metadata": {
        "id": "n13R8vTfa70g"
      },
      "source": [
        "# LB Accuracy : 0.7777"
      ],
      "execution_count": null,
      "outputs": []
    }
  ]
}