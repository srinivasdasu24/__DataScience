{
  "nbformat": 4,
  "nbformat_minor": 0,
  "metadata": {
    "kernelspec": {
      "display_name": "Python 3",
      "language": "python",
      "name": "python3"
    },
    "language_info": {
      "codemirror_mode": {
        "name": "ipython",
        "version": 3
      },
      "file_extension": ".py",
      "mimetype": "text/x-python",
      "name": "python",
      "nbconvert_exporter": "python",
      "pygments_lexer": "ipython3",
      "version": "3.7.6"
    },
    "colab": {
      "name": "InClass Working Code 1 - Baseline Solution and first Submission.ipynb",
      "provenance": [],
      "collapsed_sections": [],
      "include_colab_link": true
    }
  },
  "cells": [
    {
      "cell_type": "markdown",
      "metadata": {
        "id": "view-in-github",
        "colab_type": "text"
      },
      "source": [
        "<a href=\"https://colab.research.google.com/github/srinivasdasu24/__DataScience/blob/main/HR_Analytics/InClass_Working_Code_1_Baseline_Solution_and_first_Submission.ipynb\" target=\"_parent\"><img src=\"https://colab.research.google.com/assets/colab-badge.svg\" alt=\"Open In Colab\"/></a>"
      ]
    },
    {
      "cell_type": "markdown",
      "metadata": {
        "id": "DyQyLBpafqN1"
      },
      "source": [
        "# Code 1\n",
        "- Build Basic Pipeline\n",
        "- DataFrame Checks\n",
        "- Group By\n",
        "- If Then Model\n",
        "- First Submission\n",
        "- Import & Export"
      ]
    },
    {
      "cell_type": "markdown",
      "metadata": {
        "id": "E6GGM7FCfqN7"
      },
      "source": [
        "## 1/ Import Libraries\n",
        "- Mount Google Drive\n",
        "- Import Pandas Library"
      ]
    },
    {
      "cell_type": "code",
      "metadata": {
        "id": "ds0TQ-Q0goNm",
        "colab": {
          "base_uri": "https://localhost:8080/"
        },
        "outputId": "977278ec-afb4-4a63-d9fa-d58f9e53f022"
      },
      "source": [
        "#CodeSection1\n",
        "from google.colab import drive\n",
        "drive.mount('/mntDrive') "
      ],
      "execution_count": null,
      "outputs": [
        {
          "output_type": "stream",
          "text": [
            "Mounted at /mntDrive\n"
          ],
          "name": "stdout"
        }
      ]
    },
    {
      "cell_type": "code",
      "metadata": {
        "id": "qh_ukDiHfqN8"
      },
      "source": [
        "#CodeSection2\n",
        "import pandas as pd"
      ],
      "execution_count": null,
      "outputs": []
    },
    {
      "cell_type": "markdown",
      "metadata": {
        "id": "-GJMWYMPfqN9"
      },
      "source": [
        "## 2/ Import Data\n",
        "- Import Train and Test [use read_csv()]"
      ]
    },
    {
      "cell_type": "code",
      "metadata": {
        "id": "JCWx92Ldhv-A"
      },
      "source": [
        "/mntDrive/MyDrive/Project MasterMind/1 - Planning Stage/2- Research/6- New Teaching Method/Loan Prediction (Webinar Flow)/Solution Codes/input/"
      ],
      "execution_count": null,
      "outputs": []
    },
    {
      "cell_type": "code",
      "metadata": {
        "id": "YJGrR7M8fqN9"
      },
      "source": [
        "#CodeSection3\n",
        "train = pd.read_csv(\"/mntDrive/MyDrive/__DataScience/3 HR Analytics/input/train.csv\")\n",
        "test = pd.read_csv(\"/mntDrive/MyDrive/__DataScience/3 HR Analytics/input/test.csv\")"
      ],
      "execution_count": null,
      "outputs": []
    },
    {
      "cell_type": "markdown",
      "metadata": {
        "id": "ASV_hmlEfqN9"
      },
      "source": [
        "### Check Train Data\n",
        "- Check first 5 rows of train [head(), info()]\n",
        "- Get Summary Statistics [describe()]\n",
        "- Check/Identify the \"y\"/dependent variable"
      ]
    },
    {
      "cell_type": "code",
      "metadata": {
        "colab": {
          "base_uri": "https://localhost:8080/",
          "height": 224
        },
        "id": "nad3bLcEfqN-",
        "outputId": "f8af98d2-5a3c-4bc8-a71a-982984a12347"
      },
      "source": [
        "#CodeSection4\n",
        "train.head()"
      ],
      "execution_count": null,
      "outputs": [
        {
          "output_type": "execute_result",
          "data": {
            "text/html": [
              "<div>\n",
              "<style scoped>\n",
              "    .dataframe tbody tr th:only-of-type {\n",
              "        vertical-align: middle;\n",
              "    }\n",
              "\n",
              "    .dataframe tbody tr th {\n",
              "        vertical-align: top;\n",
              "    }\n",
              "\n",
              "    .dataframe thead th {\n",
              "        text-align: right;\n",
              "    }\n",
              "</style>\n",
              "<table border=\"1\" class=\"dataframe\">\n",
              "  <thead>\n",
              "    <tr style=\"text-align: right;\">\n",
              "      <th></th>\n",
              "      <th>enrollee_id</th>\n",
              "      <th>city</th>\n",
              "      <th>city_development_index</th>\n",
              "      <th>gender</th>\n",
              "      <th>relevent_experience</th>\n",
              "      <th>enrolled_university</th>\n",
              "      <th>education_level</th>\n",
              "      <th>major_discipline</th>\n",
              "      <th>experience</th>\n",
              "      <th>company_size</th>\n",
              "      <th>company_type</th>\n",
              "      <th>last_new_job</th>\n",
              "      <th>training_hours</th>\n",
              "      <th>target</th>\n",
              "    </tr>\n",
              "  </thead>\n",
              "  <tbody>\n",
              "    <tr>\n",
              "      <th>0</th>\n",
              "      <td>23798</td>\n",
              "      <td>city_149</td>\n",
              "      <td>0.689</td>\n",
              "      <td>Male</td>\n",
              "      <td>Has relevent experience</td>\n",
              "      <td>no_enrollment</td>\n",
              "      <td>Graduate</td>\n",
              "      <td>STEM</td>\n",
              "      <td>3</td>\n",
              "      <td>100-500</td>\n",
              "      <td>Pvt Ltd</td>\n",
              "      <td>1</td>\n",
              "      <td>106</td>\n",
              "      <td>0</td>\n",
              "    </tr>\n",
              "    <tr>\n",
              "      <th>1</th>\n",
              "      <td>29166</td>\n",
              "      <td>city_83</td>\n",
              "      <td>0.923</td>\n",
              "      <td>Male</td>\n",
              "      <td>Has relevent experience</td>\n",
              "      <td>no_enrollment</td>\n",
              "      <td>Graduate</td>\n",
              "      <td>STEM</td>\n",
              "      <td>14</td>\n",
              "      <td>&lt;10</td>\n",
              "      <td>Funded Startup</td>\n",
              "      <td>1</td>\n",
              "      <td>69</td>\n",
              "      <td>0</td>\n",
              "    </tr>\n",
              "    <tr>\n",
              "      <th>2</th>\n",
              "      <td>46</td>\n",
              "      <td>city_16</td>\n",
              "      <td>0.910</td>\n",
              "      <td>NaN</td>\n",
              "      <td>Has relevent experience</td>\n",
              "      <td>no_enrollment</td>\n",
              "      <td>Graduate</td>\n",
              "      <td>STEM</td>\n",
              "      <td>6</td>\n",
              "      <td>50-99</td>\n",
              "      <td>Public Sector</td>\n",
              "      <td>2</td>\n",
              "      <td>4</td>\n",
              "      <td>0</td>\n",
              "    </tr>\n",
              "    <tr>\n",
              "      <th>3</th>\n",
              "      <td>18527</td>\n",
              "      <td>city_64</td>\n",
              "      <td>0.666</td>\n",
              "      <td>Male</td>\n",
              "      <td>Has relevent experience</td>\n",
              "      <td>no_enrollment</td>\n",
              "      <td>Graduate</td>\n",
              "      <td>STEM</td>\n",
              "      <td>14</td>\n",
              "      <td>50-99</td>\n",
              "      <td>Pvt Ltd</td>\n",
              "      <td>1</td>\n",
              "      <td>26</td>\n",
              "      <td>0</td>\n",
              "    </tr>\n",
              "    <tr>\n",
              "      <th>4</th>\n",
              "      <td>21751</td>\n",
              "      <td>city_100</td>\n",
              "      <td>0.887</td>\n",
              "      <td>NaN</td>\n",
              "      <td>No relevent experience</td>\n",
              "      <td>no_enrollment</td>\n",
              "      <td>Masters</td>\n",
              "      <td>STEM</td>\n",
              "      <td>8</td>\n",
              "      <td>NaN</td>\n",
              "      <td>NaN</td>\n",
              "      <td>2</td>\n",
              "      <td>88</td>\n",
              "      <td>1</td>\n",
              "    </tr>\n",
              "  </tbody>\n",
              "</table>\n",
              "</div>"
            ],
            "text/plain": [
              "   enrollee_id      city  ...  training_hours target\n",
              "0        23798  city_149  ...             106      0\n",
              "1        29166   city_83  ...              69      0\n",
              "2           46   city_16  ...               4      0\n",
              "3        18527   city_64  ...              26      0\n",
              "4        21751  city_100  ...              88      1\n",
              "\n",
              "[5 rows x 14 columns]"
            ]
          },
          "metadata": {
            "tags": []
          },
          "execution_count": 4
        }
      ]
    },
    {
      "cell_type": "code",
      "metadata": {
        "colab": {
          "base_uri": "https://localhost:8080/",
          "height": 297
        },
        "id": "Hd1i5xlafqN_",
        "outputId": "4f53df88-3a11-4687-fe43-115087acaff8"
      },
      "source": [
        "#CodeSection5\n",
        "train.describe()"
      ],
      "execution_count": null,
      "outputs": [
        {
          "output_type": "execute_result",
          "data": {
            "text/html": [
              "<div>\n",
              "<style scoped>\n",
              "    .dataframe tbody tr th:only-of-type {\n",
              "        vertical-align: middle;\n",
              "    }\n",
              "\n",
              "    .dataframe tbody tr th {\n",
              "        vertical-align: top;\n",
              "    }\n",
              "\n",
              "    .dataframe thead th {\n",
              "        text-align: right;\n",
              "    }\n",
              "</style>\n",
              "<table border=\"1\" class=\"dataframe\">\n",
              "  <thead>\n",
              "    <tr style=\"text-align: right;\">\n",
              "      <th></th>\n",
              "      <th>enrollee_id</th>\n",
              "      <th>city_development_index</th>\n",
              "      <th>training_hours</th>\n",
              "      <th>target</th>\n",
              "    </tr>\n",
              "  </thead>\n",
              "  <tbody>\n",
              "    <tr>\n",
              "      <th>count</th>\n",
              "      <td>18359.000000</td>\n",
              "      <td>18359.000000</td>\n",
              "      <td>18359.000000</td>\n",
              "      <td>18359.000000</td>\n",
              "    </tr>\n",
              "    <tr>\n",
              "      <th>mean</th>\n",
              "      <td>16729.360096</td>\n",
              "      <td>0.847140</td>\n",
              "      <td>65.899014</td>\n",
              "      <td>0.132088</td>\n",
              "    </tr>\n",
              "    <tr>\n",
              "      <th>std</th>\n",
              "      <td>9643.749725</td>\n",
              "      <td>0.110189</td>\n",
              "      <td>60.885300</td>\n",
              "      <td>0.338595</td>\n",
              "    </tr>\n",
              "    <tr>\n",
              "      <th>min</th>\n",
              "      <td>1.000000</td>\n",
              "      <td>0.448000</td>\n",
              "      <td>1.000000</td>\n",
              "      <td>0.000000</td>\n",
              "    </tr>\n",
              "    <tr>\n",
              "      <th>25%</th>\n",
              "      <td>8378.500000</td>\n",
              "      <td>0.796000</td>\n",
              "      <td>23.000000</td>\n",
              "      <td>0.000000</td>\n",
              "    </tr>\n",
              "    <tr>\n",
              "      <th>50%</th>\n",
              "      <td>16706.000000</td>\n",
              "      <td>0.910000</td>\n",
              "      <td>47.000000</td>\n",
              "      <td>0.000000</td>\n",
              "    </tr>\n",
              "    <tr>\n",
              "      <th>75%</th>\n",
              "      <td>25148.500000</td>\n",
              "      <td>0.920000</td>\n",
              "      <td>89.000000</td>\n",
              "      <td>0.000000</td>\n",
              "    </tr>\n",
              "    <tr>\n",
              "      <th>max</th>\n",
              "      <td>33380.000000</td>\n",
              "      <td>0.949000</td>\n",
              "      <td>336.000000</td>\n",
              "      <td>1.000000</td>\n",
              "    </tr>\n",
              "  </tbody>\n",
              "</table>\n",
              "</div>"
            ],
            "text/plain": [
              "        enrollee_id  city_development_index  training_hours        target\n",
              "count  18359.000000            18359.000000    18359.000000  18359.000000\n",
              "mean   16729.360096                0.847140       65.899014      0.132088\n",
              "std     9643.749725                0.110189       60.885300      0.338595\n",
              "min        1.000000                0.448000        1.000000      0.000000\n",
              "25%     8378.500000                0.796000       23.000000      0.000000\n",
              "50%    16706.000000                0.910000       47.000000      0.000000\n",
              "75%    25148.500000                0.920000       89.000000      0.000000\n",
              "max    33380.000000                0.949000      336.000000      1.000000"
            ]
          },
          "metadata": {
            "tags": []
          },
          "execution_count": 5
        }
      ]
    },
    {
      "cell_type": "code",
      "metadata": {
        "id": "UwEuGg3sfqN_"
      },
      "source": [
        "#CodeSection6\n",
        "# Convert/Map Load_Status (Y/N) to  (1/0)\n",
        "# Only do this step if you have non-numerical label in the \"y\" variable\n"
      ],
      "execution_count": null,
      "outputs": []
    },
    {
      "cell_type": "code",
      "metadata": {
        "colab": {
          "base_uri": "https://localhost:8080/"
        },
        "id": "CNnj4LL-fqN_",
        "outputId": "d736b191-8c91-4628-91b5-9ba11955247a"
      },
      "source": [
        "#CodeSection7\n",
        "train.info()"
      ],
      "execution_count": null,
      "outputs": [
        {
          "output_type": "stream",
          "text": [
            "<class 'pandas.core.frame.DataFrame'>\n",
            "RangeIndex: 18359 entries, 0 to 18358\n",
            "Data columns (total 14 columns):\n",
            " #   Column                  Non-Null Count  Dtype  \n",
            "---  ------                  --------------  -----  \n",
            " 0   enrollee_id             18359 non-null  int64  \n",
            " 1   city                    18359 non-null  object \n",
            " 2   city_development_index  18359 non-null  float64\n",
            " 3   gender                  14261 non-null  object \n",
            " 4   relevent_experience     18359 non-null  object \n",
            " 5   enrolled_university     18017 non-null  object \n",
            " 6   education_level         17902 non-null  object \n",
            " 7   major_discipline        15521 non-null  object \n",
            " 8   experience              18300 non-null  object \n",
            " 9   company_size            13580 non-null  object \n",
            " 10  company_type            13320 non-null  object \n",
            " 11  last_new_job            17992 non-null  object \n",
            " 12  training_hours          18359 non-null  int64  \n",
            " 13  target                  18359 non-null  int64  \n",
            "dtypes: float64(1), int64(3), object(10)\n",
            "memory usage: 2.0+ MB\n"
          ],
          "name": "stdout"
        }
      ]
    },
    {
      "cell_type": "markdown",
      "metadata": {
        "id": "iDTljRIXfqOA"
      },
      "source": [
        "### Check Test Data\n",
        "- Check first 5 rows of test [head(), info()]\n",
        "- Get Summary Statistics [describe()]\n",
        "- Check/Identify the \"y\"/dependent variable"
      ]
    },
    {
      "cell_type": "code",
      "metadata": {
        "colab": {
          "base_uri": "https://localhost:8080/",
          "height": 224
        },
        "id": "HoewayP1sIRb",
        "outputId": "104353d5-edf8-4dc9-d46d-5d6d752ae517"
      },
      "source": [
        "#CodeSection8\n",
        "test.head()"
      ],
      "execution_count": null,
      "outputs": [
        {
          "output_type": "execute_result",
          "data": {
            "text/html": [
              "<div>\n",
              "<style scoped>\n",
              "    .dataframe tbody tr th:only-of-type {\n",
              "        vertical-align: middle;\n",
              "    }\n",
              "\n",
              "    .dataframe tbody tr th {\n",
              "        vertical-align: top;\n",
              "    }\n",
              "\n",
              "    .dataframe thead th {\n",
              "        text-align: right;\n",
              "    }\n",
              "</style>\n",
              "<table border=\"1\" class=\"dataframe\">\n",
              "  <thead>\n",
              "    <tr style=\"text-align: right;\">\n",
              "      <th></th>\n",
              "      <th>enrollee_id</th>\n",
              "      <th>city</th>\n",
              "      <th>city_development_index</th>\n",
              "      <th>gender</th>\n",
              "      <th>relevent_experience</th>\n",
              "      <th>enrolled_university</th>\n",
              "      <th>education_level</th>\n",
              "      <th>major_discipline</th>\n",
              "      <th>experience</th>\n",
              "      <th>company_size</th>\n",
              "      <th>company_type</th>\n",
              "      <th>last_new_job</th>\n",
              "      <th>training_hours</th>\n",
              "    </tr>\n",
              "  </thead>\n",
              "  <tbody>\n",
              "    <tr>\n",
              "      <th>0</th>\n",
              "      <td>16548</td>\n",
              "      <td>city_33</td>\n",
              "      <td>0.448</td>\n",
              "      <td>NaN</td>\n",
              "      <td>No relevent experience</td>\n",
              "      <td>Full time course</td>\n",
              "      <td>Graduate</td>\n",
              "      <td>STEM</td>\n",
              "      <td>&lt;1</td>\n",
              "      <td>1000-4999</td>\n",
              "      <td>Public Sector</td>\n",
              "      <td>NaN</td>\n",
              "      <td>15</td>\n",
              "    </tr>\n",
              "    <tr>\n",
              "      <th>1</th>\n",
              "      <td>12036</td>\n",
              "      <td>city_28</td>\n",
              "      <td>0.939</td>\n",
              "      <td>Male</td>\n",
              "      <td>No relevent experience</td>\n",
              "      <td>no_enrollment</td>\n",
              "      <td>Graduate</td>\n",
              "      <td>STEM</td>\n",
              "      <td>&gt;20</td>\n",
              "      <td>50-99</td>\n",
              "      <td>Pvt Ltd</td>\n",
              "      <td>1</td>\n",
              "      <td>94</td>\n",
              "    </tr>\n",
              "    <tr>\n",
              "      <th>2</th>\n",
              "      <td>11061</td>\n",
              "      <td>city_103</td>\n",
              "      <td>0.920</td>\n",
              "      <td>Male</td>\n",
              "      <td>No relevent experience</td>\n",
              "      <td>Full time course</td>\n",
              "      <td>Graduate</td>\n",
              "      <td>STEM</td>\n",
              "      <td>3</td>\n",
              "      <td>NaN</td>\n",
              "      <td>NaN</td>\n",
              "      <td>1</td>\n",
              "      <td>17</td>\n",
              "    </tr>\n",
              "    <tr>\n",
              "      <th>3</th>\n",
              "      <td>5032</td>\n",
              "      <td>city_104</td>\n",
              "      <td>0.924</td>\n",
              "      <td>Male</td>\n",
              "      <td>No relevent experience</td>\n",
              "      <td>no_enrollment</td>\n",
              "      <td>Phd</td>\n",
              "      <td>STEM</td>\n",
              "      <td>&gt;20</td>\n",
              "      <td>50-99</td>\n",
              "      <td>Pvt Ltd</td>\n",
              "      <td>2</td>\n",
              "      <td>76</td>\n",
              "    </tr>\n",
              "    <tr>\n",
              "      <th>4</th>\n",
              "      <td>17599</td>\n",
              "      <td>city_77</td>\n",
              "      <td>0.830</td>\n",
              "      <td>Male</td>\n",
              "      <td>Has relevent experience</td>\n",
              "      <td>no_enrollment</td>\n",
              "      <td>Graduate</td>\n",
              "      <td>STEM</td>\n",
              "      <td>6</td>\n",
              "      <td>&lt;10</td>\n",
              "      <td>Pvt Ltd</td>\n",
              "      <td>2</td>\n",
              "      <td>65</td>\n",
              "    </tr>\n",
              "  </tbody>\n",
              "</table>\n",
              "</div>"
            ],
            "text/plain": [
              "   enrollee_id      city  ...  last_new_job training_hours\n",
              "0        16548   city_33  ...           NaN             15\n",
              "1        12036   city_28  ...             1             94\n",
              "2        11061  city_103  ...             1             17\n",
              "3         5032  city_104  ...             2             76\n",
              "4        17599   city_77  ...             2             65\n",
              "\n",
              "[5 rows x 13 columns]"
            ]
          },
          "metadata": {
            "tags": []
          },
          "execution_count": 7
        }
      ]
    },
    {
      "cell_type": "code",
      "metadata": {
        "colab": {
          "base_uri": "https://localhost:8080/"
        },
        "id": "EuELsx-cfqOA",
        "outputId": "ddd14364-d261-4166-93a9-9cc5fb13d226"
      },
      "source": [
        "#CodeSection9\n",
        "test.info()"
      ],
      "execution_count": null,
      "outputs": [
        {
          "output_type": "stream",
          "text": [
            "<class 'pandas.core.frame.DataFrame'>\n",
            "RangeIndex: 15021 entries, 0 to 15020\n",
            "Data columns (total 13 columns):\n",
            " #   Column                  Non-Null Count  Dtype  \n",
            "---  ------                  --------------  -----  \n",
            " 0   enrollee_id             15021 non-null  int64  \n",
            " 1   city                    15021 non-null  object \n",
            " 2   city_development_index  15021 non-null  float64\n",
            " 3   gender                  11633 non-null  object \n",
            " 4   relevent_experience     15021 non-null  object \n",
            " 5   enrolled_university     14742 non-null  object \n",
            " 6   education_level         14626 non-null  object \n",
            " 7   major_discipline        12628 non-null  object \n",
            " 8   experience              14977 non-null  object \n",
            " 9   company_size            10970 non-null  object \n",
            " 10  company_type            10691 non-null  object \n",
            " 11  last_new_job            14717 non-null  object \n",
            " 12  training_hours          15021 non-null  int64  \n",
            "dtypes: float64(1), int64(2), object(10)\n",
            "memory usage: 1.5+ MB\n"
          ],
          "name": "stdout"
        }
      ]
    },
    {
      "cell_type": "code",
      "metadata": {
        "colab": {
          "base_uri": "https://localhost:8080/",
          "height": 297
        },
        "id": "d9i2c0bCsLPI",
        "outputId": "4b2d7cfe-b6c6-4d6d-d5b5-e5aaceee2941"
      },
      "source": [
        "#CodeSection10\n",
        "test.describe()"
      ],
      "execution_count": null,
      "outputs": [
        {
          "output_type": "execute_result",
          "data": {
            "text/html": [
              "<div>\n",
              "<style scoped>\n",
              "    .dataframe tbody tr th:only-of-type {\n",
              "        vertical-align: middle;\n",
              "    }\n",
              "\n",
              "    .dataframe tbody tr th {\n",
              "        vertical-align: top;\n",
              "    }\n",
              "\n",
              "    .dataframe thead th {\n",
              "        text-align: right;\n",
              "    }\n",
              "</style>\n",
              "<table border=\"1\" class=\"dataframe\">\n",
              "  <thead>\n",
              "    <tr style=\"text-align: right;\">\n",
              "      <th></th>\n",
              "      <th>enrollee_id</th>\n",
              "      <th>city_development_index</th>\n",
              "      <th>training_hours</th>\n",
              "    </tr>\n",
              "  </thead>\n",
              "  <tbody>\n",
              "    <tr>\n",
              "      <th>count</th>\n",
              "      <td>15021.000000</td>\n",
              "      <td>15021.000000</td>\n",
              "      <td>15021.000000</td>\n",
              "    </tr>\n",
              "    <tr>\n",
              "      <th>mean</th>\n",
              "      <td>16643.004327</td>\n",
              "      <td>0.846683</td>\n",
              "      <td>65.158179</td>\n",
              "    </tr>\n",
              "    <tr>\n",
              "      <th>std</th>\n",
              "      <td>9626.895233</td>\n",
              "      <td>0.109709</td>\n",
              "      <td>59.719211</td>\n",
              "    </tr>\n",
              "    <tr>\n",
              "      <th>min</th>\n",
              "      <td>6.000000</td>\n",
              "      <td>0.448000</td>\n",
              "      <td>1.000000</td>\n",
              "    </tr>\n",
              "    <tr>\n",
              "      <th>25%</th>\n",
              "      <td>8316.000000</td>\n",
              "      <td>0.794000</td>\n",
              "      <td>23.000000</td>\n",
              "    </tr>\n",
              "    <tr>\n",
              "      <th>50%</th>\n",
              "      <td>16664.000000</td>\n",
              "      <td>0.910000</td>\n",
              "      <td>47.000000</td>\n",
              "    </tr>\n",
              "    <tr>\n",
              "      <th>75%</th>\n",
              "      <td>24908.000000</td>\n",
              "      <td>0.920000</td>\n",
              "      <td>89.000000</td>\n",
              "    </tr>\n",
              "    <tr>\n",
              "      <th>max</th>\n",
              "      <td>33378.000000</td>\n",
              "      <td>0.949000</td>\n",
              "      <td>336.000000</td>\n",
              "    </tr>\n",
              "  </tbody>\n",
              "</table>\n",
              "</div>"
            ],
            "text/plain": [
              "        enrollee_id  city_development_index  training_hours\n",
              "count  15021.000000            15021.000000    15021.000000\n",
              "mean   16643.004327                0.846683       65.158179\n",
              "std     9626.895233                0.109709       59.719211\n",
              "min        6.000000                0.448000        1.000000\n",
              "25%     8316.000000                0.794000       23.000000\n",
              "50%    16664.000000                0.910000       47.000000\n",
              "75%    24908.000000                0.920000       89.000000\n",
              "max    33378.000000                0.949000      336.000000"
            ]
          },
          "metadata": {
            "tags": []
          },
          "execution_count": 9
        }
      ]
    },
    {
      "cell_type": "markdown",
      "metadata": {
        "id": "WsmzQG4ZfqOA"
      },
      "source": [
        "## 3/ Explore any one Valuable Variable \n",
        "- Identify all the Categorical Features\n",
        "- Within them choose one feature that helps predict the dependent variable\n",
        "- Use groupby along with sum() to get the \"y\" variable by the selected categoical feature\n",
        "- Use value_counts() to get the total number of rows in each category"
      ]
    },
    {
      "cell_type": "code",
      "metadata": {
        "colab": {
          "base_uri": "https://localhost:8080/",
          "height": 266
        },
        "id": "p4QZfgrUfqOB",
        "outputId": "a8cbbb22-b91f-4355-cffb-348f2a561c13"
      },
      "source": [
        "#CodeSection11\n",
        "# We will use \"Married\" for this example\n",
        "# You can select any other variable of your choice\n",
        "train.groupby('major_discipline').sum()"
      ],
      "execution_count": null,
      "outputs": [
        {
          "output_type": "execute_result",
          "data": {
            "text/html": [
              "<div>\n",
              "<style scoped>\n",
              "    .dataframe tbody tr th:only-of-type {\n",
              "        vertical-align: middle;\n",
              "    }\n",
              "\n",
              "    .dataframe tbody tr th {\n",
              "        vertical-align: top;\n",
              "    }\n",
              "\n",
              "    .dataframe thead th {\n",
              "        text-align: right;\n",
              "    }\n",
              "</style>\n",
              "<table border=\"1\" class=\"dataframe\">\n",
              "  <thead>\n",
              "    <tr style=\"text-align: right;\">\n",
              "      <th></th>\n",
              "      <th>enrollee_id</th>\n",
              "      <th>city_development_index</th>\n",
              "      <th>training_hours</th>\n",
              "      <th>target</th>\n",
              "      <th>Prediction</th>\n",
              "    </tr>\n",
              "    <tr>\n",
              "      <th>major_discipline</th>\n",
              "      <th></th>\n",
              "      <th></th>\n",
              "      <th></th>\n",
              "      <th></th>\n",
              "      <th></th>\n",
              "    </tr>\n",
              "  </thead>\n",
              "  <tbody>\n",
              "    <tr>\n",
              "      <th>Arts</th>\n",
              "      <td>4154590</td>\n",
              "      <td>215.553</td>\n",
              "      <td>14818</td>\n",
              "      <td>25</td>\n",
              "      <td>150</td>\n",
              "    </tr>\n",
              "    <tr>\n",
              "      <th>Business Degree</th>\n",
              "      <td>5208045</td>\n",
              "      <td>267.576</td>\n",
              "      <td>19831</td>\n",
              "      <td>39</td>\n",
              "      <td>218</td>\n",
              "    </tr>\n",
              "    <tr>\n",
              "      <th>Humanities</th>\n",
              "      <td>12155124</td>\n",
              "      <td>613.805</td>\n",
              "      <td>45755</td>\n",
              "      <td>93</td>\n",
              "      <td>447</td>\n",
              "    </tr>\n",
              "    <tr>\n",
              "      <th>No Major</th>\n",
              "      <td>3487323</td>\n",
              "      <td>178.484</td>\n",
              "      <td>13375</td>\n",
              "      <td>20</td>\n",
              "      <td>155</td>\n",
              "    </tr>\n",
              "    <tr>\n",
              "      <th>Other</th>\n",
              "      <td>6123163</td>\n",
              "      <td>292.445</td>\n",
              "      <td>23158</td>\n",
              "      <td>37</td>\n",
              "      <td>225</td>\n",
              "    </tr>\n",
              "    <tr>\n",
              "      <th>STEM</th>\n",
              "      <td>228501801</td>\n",
              "      <td>11578.876</td>\n",
              "      <td>904045</td>\n",
              "      <td>1877</td>\n",
              "      <td>9792</td>\n",
              "    </tr>\n",
              "  </tbody>\n",
              "</table>\n",
              "</div>"
            ],
            "text/plain": [
              "                  enrollee_id  city_development_index  ...  target  Prediction\n",
              "major_discipline                                       ...                    \n",
              "Arts                  4154590                 215.553  ...      25         150\n",
              "Business Degree       5208045                 267.576  ...      39         218\n",
              "Humanities           12155124                 613.805  ...      93         447\n",
              "No Major              3487323                 178.484  ...      20         155\n",
              "Other                 6123163                 292.445  ...      37         225\n",
              "STEM                228501801               11578.876  ...    1877        9792\n",
              "\n",
              "[6 rows x 5 columns]"
            ]
          },
          "metadata": {
            "tags": []
          },
          "execution_count": 47
        }
      ]
    },
    {
      "cell_type": "code",
      "metadata": {
        "colab": {
          "base_uri": "https://localhost:8080/"
        },
        "id": "5mTGDDqvh8Yj",
        "outputId": "b9d09ab9-7b3a-4f40-e677-7ed0466a1ddf"
      },
      "source": [
        "#CodeSection12\n",
        "# Get count of rows based on each category in your selected Categorical Feature\n",
        "train['major_discipline'].value_counts()"
      ],
      "execution_count": null,
      "outputs": [
        {
          "output_type": "execute_result",
          "data": {
            "text/plain": [
              "STEM               13738\n",
              "Humanities           688\n",
              "Other                343\n",
              "Business Degree      307\n",
              "Arts                 239\n",
              "No Major             206\n",
              "Name: major_discipline, dtype: int64"
            ]
          },
          "metadata": {
            "tags": []
          },
          "execution_count": 48
        }
      ]
    },
    {
      "cell_type": "markdown",
      "metadata": {
        "id": "mD26U43kuvPR"
      },
      "source": [
        "***Note : If the categorical feature has more than 2 values, choose the one with highest probability***"
      ]
    },
    {
      "cell_type": "code",
      "metadata": {
        "colab": {
          "base_uri": "https://localhost:8080/"
        },
        "id": "VMWh3Ks_fqOB",
        "outputId": "1414549d-7110-410d-8dee-4aed173df577"
      },
      "source": [
        "#CodeSection13\n",
        "# Now the numbers to get the percentage of that category happening\n",
        "print(f\" Probability of <Category 1> happening: {9792/13738:0.1%}\")\n",
        "print(f\" Probability of <Category 2> happening : {447/688:0.1%}\")"
      ],
      "execution_count": null,
      "outputs": [
        {
          "output_type": "stream",
          "text": [
            " Probability of <Category 1> happening: 71.3%\n",
            " Probability of <Category 2> happening : 65.0%\n"
          ],
          "name": "stdout"
        }
      ]
    },
    {
      "cell_type": "markdown",
      "metadata": {
        "id": "0M8ck3hNfqOB"
      },
      "source": [
        "### Observation\n",
        "- Married Applicants have a higher probability of getting a Loan\n",
        "- use a IF then statement to Predict the \"y\"/dependent variable\n",
        "- Use apply(), lambda function on your selected categorical features"
      ]
    },
    {
      "cell_type": "code",
      "metadata": {
        "id": "wRJVdANhfqOB"
      },
      "source": [
        "#CodeSection14\n",
        "train['Prediction'] = train['major_discipline'].apply(lambda x: 1 if x == 'STEM' else 0)"
      ],
      "execution_count": null,
      "outputs": []
    },
    {
      "cell_type": "markdown",
      "metadata": {
        "id": "AutBPd9AfqOC"
      },
      "source": [
        "## 4/ Check Accuracy of Model on Train Data\n",
        "- Check using groupby() and sum() function"
      ]
    },
    {
      "cell_type": "code",
      "metadata": {
        "colab": {
          "base_uri": "https://localhost:8080/",
          "height": 266
        },
        "id": "YnqH-V54fqOC",
        "outputId": "bdd68171-2ab6-4392-e0af-bea585858bb7"
      },
      "source": [
        "#CodeSection15\n",
        "train.groupby('major_discipline').sum()"
      ],
      "execution_count": null,
      "outputs": [
        {
          "output_type": "execute_result",
          "data": {
            "text/html": [
              "<div>\n",
              "<style scoped>\n",
              "    .dataframe tbody tr th:only-of-type {\n",
              "        vertical-align: middle;\n",
              "    }\n",
              "\n",
              "    .dataframe tbody tr th {\n",
              "        vertical-align: top;\n",
              "    }\n",
              "\n",
              "    .dataframe thead th {\n",
              "        text-align: right;\n",
              "    }\n",
              "</style>\n",
              "<table border=\"1\" class=\"dataframe\">\n",
              "  <thead>\n",
              "    <tr style=\"text-align: right;\">\n",
              "      <th></th>\n",
              "      <th>enrollee_id</th>\n",
              "      <th>city_development_index</th>\n",
              "      <th>training_hours</th>\n",
              "      <th>target</th>\n",
              "      <th>Prediction</th>\n",
              "    </tr>\n",
              "    <tr>\n",
              "      <th>major_discipline</th>\n",
              "      <th></th>\n",
              "      <th></th>\n",
              "      <th></th>\n",
              "      <th></th>\n",
              "      <th></th>\n",
              "    </tr>\n",
              "  </thead>\n",
              "  <tbody>\n",
              "    <tr>\n",
              "      <th>Arts</th>\n",
              "      <td>4154590</td>\n",
              "      <td>215.553</td>\n",
              "      <td>14818</td>\n",
              "      <td>25</td>\n",
              "      <td>0</td>\n",
              "    </tr>\n",
              "    <tr>\n",
              "      <th>Business Degree</th>\n",
              "      <td>5208045</td>\n",
              "      <td>267.576</td>\n",
              "      <td>19831</td>\n",
              "      <td>39</td>\n",
              "      <td>0</td>\n",
              "    </tr>\n",
              "    <tr>\n",
              "      <th>Humanities</th>\n",
              "      <td>12155124</td>\n",
              "      <td>613.805</td>\n",
              "      <td>45755</td>\n",
              "      <td>93</td>\n",
              "      <td>0</td>\n",
              "    </tr>\n",
              "    <tr>\n",
              "      <th>No Major</th>\n",
              "      <td>3487323</td>\n",
              "      <td>178.484</td>\n",
              "      <td>13375</td>\n",
              "      <td>20</td>\n",
              "      <td>0</td>\n",
              "    </tr>\n",
              "    <tr>\n",
              "      <th>Other</th>\n",
              "      <td>6123163</td>\n",
              "      <td>292.445</td>\n",
              "      <td>23158</td>\n",
              "      <td>37</td>\n",
              "      <td>0</td>\n",
              "    </tr>\n",
              "    <tr>\n",
              "      <th>STEM</th>\n",
              "      <td>228501801</td>\n",
              "      <td>11578.876</td>\n",
              "      <td>904045</td>\n",
              "      <td>1877</td>\n",
              "      <td>13738</td>\n",
              "    </tr>\n",
              "  </tbody>\n",
              "</table>\n",
              "</div>"
            ],
            "text/plain": [
              "                  enrollee_id  city_development_index  ...  target  Prediction\n",
              "major_discipline                                       ...                    \n",
              "Arts                  4154590                 215.553  ...      25           0\n",
              "Business Degree       5208045                 267.576  ...      39           0\n",
              "Humanities           12155124                 613.805  ...      93           0\n",
              "No Major              3487323                 178.484  ...      20           0\n",
              "Other                 6123163                 292.445  ...      37           0\n",
              "STEM                228501801               11578.876  ...    1877       13738\n",
              "\n",
              "[6 rows x 5 columns]"
            ]
          },
          "metadata": {
            "tags": []
          },
          "execution_count": 60
        }
      ]
    },
    {
      "cell_type": "markdown",
      "metadata": {
        "id": "ZtuCNVAjfqOC"
      },
      "source": [
        "### We can use a Accuracy Function from Metrics\n",
        "- Use the sklearn.metrics library\n",
        "- Within it we will choose the \"accuracy_score\" function\n",
        "- We will compare the Actual \"y\" against the Predicted \"y\" using the IF THEN model"
      ]
    },
    {
      "cell_type": "code",
      "metadata": {
        "id": "iQVpvrjXfqOC"
      },
      "source": [
        "#CodeSection16\n",
        "from sklearn.metrics import accuracy_score"
      ],
      "execution_count": null,
      "outputs": []
    },
    {
      "cell_type": "code",
      "metadata": {
        "id": "J7tnP164fqOC"
      },
      "source": [
        "#CodeSection17\n",
        "y_actual = train['target']\n",
        "y_pred = train['Prediction']"
      ],
      "execution_count": null,
      "outputs": []
    },
    {
      "cell_type": "code",
      "metadata": {
        "id": "B_YaVRh7fqOD",
        "colab": {
          "base_uri": "https://localhost:8080/"
        },
        "outputId": "75b2472d-5225-4520-fc7b-41f16781f381"
      },
      "source": [
        "#CodeSection18\n",
        "print(f\" Train Accuracy : {accuracy_score(y_actual, y_pred):0.1%}\")"
      ],
      "execution_count": null,
      "outputs": [
        {
          "output_type": "stream",
          "text": [
            " Train Accuracy : 32.4%\n"
          ],
          "name": "stdout"
        }
      ]
    },
    {
      "cell_type": "markdown",
      "metadata": {
        "id": "OOQy_q8av0g2"
      },
      "source": [
        "***Q : What accuracy do you observe?***"
      ]
    },
    {
      "cell_type": "markdown",
      "metadata": {
        "id": "2r6oAJKbfqOD"
      },
      "source": [
        "## 5/ Prediction and Submission\n",
        "- now lets predict using unseen (test dataset); note test dataset does not have \"y\" variable\n",
        "- use apply() and lambda function combo again\n",
        "- check the prediciton using groupby() and sum()"
      ]
    },
    {
      "cell_type": "markdown",
      "metadata": {
        "id": "DnSQRupXjk_3"
      },
      "source": [
        "### Predict"
      ]
    },
    {
      "cell_type": "code",
      "metadata": {
        "id": "RtP7KgB9fqOD"
      },
      "source": [
        "#CodeSection19\n",
        "test['Prediction'] = test['major_discipline'].apply(lambda x: 1 if x == 'STEM' else 0)"
      ],
      "execution_count": null,
      "outputs": []
    },
    {
      "cell_type": "code",
      "metadata": {
        "id": "hJy4ME5QfqOD",
        "colab": {
          "base_uri": "https://localhost:8080/",
          "height": 266
        },
        "outputId": "55b5c716-6510-4279-a6b1-835f02e8280a"
      },
      "source": [
        "#CodeSection20\n",
        "test.groupby('major_discipline').sum()"
      ],
      "execution_count": null,
      "outputs": [
        {
          "output_type": "execute_result",
          "data": {
            "text/html": [
              "<div>\n",
              "<style scoped>\n",
              "    .dataframe tbody tr th:only-of-type {\n",
              "        vertical-align: middle;\n",
              "    }\n",
              "\n",
              "    .dataframe tbody tr th {\n",
              "        vertical-align: top;\n",
              "    }\n",
              "\n",
              "    .dataframe thead th {\n",
              "        text-align: right;\n",
              "    }\n",
              "</style>\n",
              "<table border=\"1\" class=\"dataframe\">\n",
              "  <thead>\n",
              "    <tr style=\"text-align: right;\">\n",
              "      <th></th>\n",
              "      <th>enrollee_id</th>\n",
              "      <th>city_development_index</th>\n",
              "      <th>training_hours</th>\n",
              "      <th>Prediction</th>\n",
              "    </tr>\n",
              "    <tr>\n",
              "      <th>major_discipline</th>\n",
              "      <th></th>\n",
              "      <th></th>\n",
              "      <th></th>\n",
              "      <th></th>\n",
              "    </tr>\n",
              "  </thead>\n",
              "  <tbody>\n",
              "    <tr>\n",
              "      <th>Arts</th>\n",
              "      <td>3679004</td>\n",
              "      <td>173.141</td>\n",
              "      <td>12589</td>\n",
              "      <td>0</td>\n",
              "    </tr>\n",
              "    <tr>\n",
              "      <th>Business Degree</th>\n",
              "      <td>4655482</td>\n",
              "      <td>241.869</td>\n",
              "      <td>17205</td>\n",
              "      <td>0</td>\n",
              "    </tr>\n",
              "    <tr>\n",
              "      <th>Humanities</th>\n",
              "      <td>9368909</td>\n",
              "      <td>465.873</td>\n",
              "      <td>33720</td>\n",
              "      <td>0</td>\n",
              "    </tr>\n",
              "    <tr>\n",
              "      <th>No Major</th>\n",
              "      <td>2965564</td>\n",
              "      <td>156.799</td>\n",
              "      <td>10474</td>\n",
              "      <td>0</td>\n",
              "    </tr>\n",
              "    <tr>\n",
              "      <th>Other</th>\n",
              "      <td>6047615</td>\n",
              "      <td>285.639</td>\n",
              "      <td>22661</td>\n",
              "      <td>0</td>\n",
              "    </tr>\n",
              "    <tr>\n",
              "      <th>STEM</th>\n",
              "      <td>183947178</td>\n",
              "      <td>9363.272</td>\n",
              "      <td>724170</td>\n",
              "      <td>11117</td>\n",
              "    </tr>\n",
              "  </tbody>\n",
              "</table>\n",
              "</div>"
            ],
            "text/plain": [
              "                  enrollee_id  ...  Prediction\n",
              "major_discipline               ...            \n",
              "Arts                  3679004  ...           0\n",
              "Business Degree       4655482  ...           0\n",
              "Humanities            9368909  ...           0\n",
              "No Major              2965564  ...           0\n",
              "Other                 6047615  ...           0\n",
              "STEM                183947178  ...       11117\n",
              "\n",
              "[6 rows x 4 columns]"
            ]
          },
          "metadata": {
            "tags": []
          },
          "execution_count": 65
        }
      ]
    },
    {
      "cell_type": "code",
      "metadata": {
        "id": "FAKWHRTOfqOE"
      },
      "source": [
        "#CodeSection21\n",
        "# We will use (Y/N) to match it to the Competition Submission Data\n",
        "<Write your code here>"
      ],
      "execution_count": null,
      "outputs": []
    },
    {
      "cell_type": "markdown",
      "metadata": {
        "id": "og70_esDwaQR"
      },
      "source": [
        "*Use **value_counts()** to check your prediction split*"
      ]
    },
    {
      "cell_type": "code",
      "metadata": {
        "id": "vb76kCIkfqOE",
        "colab": {
          "base_uri": "https://localhost:8080/"
        },
        "outputId": "34a8f5f8-5332-40cd-bc67-0d51f525f9c5"
      },
      "source": [
        "#CodeSection21\n",
        "test['Prediction'].value_counts()"
      ],
      "execution_count": null,
      "outputs": [
        {
          "output_type": "execute_result",
          "data": {
            "text/plain": [
              "1    11117\n",
              "0     3904\n",
              "Name: Prediction, dtype: int64"
            ]
          },
          "metadata": {
            "tags": []
          },
          "execution_count": 66
        }
      ]
    },
    {
      "cell_type": "markdown",
      "metadata": {
        "id": "bpr_SiLifqOE"
      },
      "source": [
        "### Import Sample Submission\n",
        "- Import the Submission file and check the first 5 rows\n",
        "- Use read_csv() and head()"
      ]
    },
    {
      "cell_type": "code",
      "metadata": {
        "id": "t3fm-IxCfqOE",
        "colab": {
          "base_uri": "https://localhost:8080/",
          "height": 204
        },
        "outputId": "593ac94b-5b51-4c33-f44f-83a93cd85f53"
      },
      "source": [
        "#CodeSection22\n",
        "sample_submission = pd.read_csv(\"/mntDrive/MyDrive/__DataScience/3 HR Analytics/input/sample_submission.csv\")\n",
        "sample_submission.head()"
      ],
      "execution_count": null,
      "outputs": [
        {
          "output_type": "execute_result",
          "data": {
            "text/html": [
              "<div>\n",
              "<style scoped>\n",
              "    .dataframe tbody tr th:only-of-type {\n",
              "        vertical-align: middle;\n",
              "    }\n",
              "\n",
              "    .dataframe tbody tr th {\n",
              "        vertical-align: top;\n",
              "    }\n",
              "\n",
              "    .dataframe thead th {\n",
              "        text-align: right;\n",
              "    }\n",
              "</style>\n",
              "<table border=\"1\" class=\"dataframe\">\n",
              "  <thead>\n",
              "    <tr style=\"text-align: right;\">\n",
              "      <th></th>\n",
              "      <th>enrollee_id</th>\n",
              "      <th>target</th>\n",
              "    </tr>\n",
              "  </thead>\n",
              "  <tbody>\n",
              "    <tr>\n",
              "      <th>0</th>\n",
              "      <td>16548</td>\n",
              "      <td>0</td>\n",
              "    </tr>\n",
              "    <tr>\n",
              "      <th>1</th>\n",
              "      <td>12036</td>\n",
              "      <td>0</td>\n",
              "    </tr>\n",
              "    <tr>\n",
              "      <th>2</th>\n",
              "      <td>11061</td>\n",
              "      <td>0</td>\n",
              "    </tr>\n",
              "    <tr>\n",
              "      <th>3</th>\n",
              "      <td>5032</td>\n",
              "      <td>0</td>\n",
              "    </tr>\n",
              "    <tr>\n",
              "      <th>4</th>\n",
              "      <td>17599</td>\n",
              "      <td>0</td>\n",
              "    </tr>\n",
              "  </tbody>\n",
              "</table>\n",
              "</div>"
            ],
            "text/plain": [
              "   enrollee_id  target\n",
              "0        16548       0\n",
              "1        12036       0\n",
              "2        11061       0\n",
              "3         5032       0\n",
              "4        17599       0"
            ]
          },
          "metadata": {
            "tags": []
          },
          "execution_count": 43
        }
      ]
    },
    {
      "cell_type": "markdown",
      "metadata": {
        "id": "3oG5Y2vXxZhA"
      },
      "source": [
        "### Create a Submission\n",
        "- Create a Dictionary to attach both the columns\n",
        "- Convert the Dictionary to Pandas Dataframe [use DataFrame()]"
      ]
    },
    {
      "cell_type": "code",
      "metadata": {
        "id": "ZJco0-CzfqOF"
      },
      "source": [
        "#CodeSection23\n",
        "submission = pd.DataFrame({\n",
        "    'enrollee_id' : test['enrollee_id']   ,\n",
        "    'target' : test['Prediction']\n",
        "})"
      ],
      "execution_count": null,
      "outputs": []
    },
    {
      "cell_type": "markdown",
      "metadata": {
        "id": "l42kPOrtfqOF"
      },
      "source": [
        "### Export Submission File\n",
        "- Export to output folder"
      ]
    },
    {
      "cell_type": "code",
      "metadata": {
        "id": "WK916nlgfqOF"
      },
      "source": [
        "#CodeSection24\n",
        "# Ensure you don't export the index.\n",
        "submission.to_csv(\"/mntDrive/MyDrive/__DataScience/3 HR Analytics/output/01_IF_THEN_w.csv\", index= False)"
      ],
      "execution_count": null,
      "outputs": []
    },
    {
      "cell_type": "code",
      "metadata": {
        "id": "NAvcfnSbfqOF"
      },
      "source": [
        "# LB Accuracy : 0.51"
      ],
      "execution_count": 1,
      "outputs": []
    }
  ]
}