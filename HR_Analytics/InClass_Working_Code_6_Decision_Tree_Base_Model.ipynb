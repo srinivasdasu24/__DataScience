{
  "nbformat": 4,
  "nbformat_minor": 0,
  "metadata": {
    "kernelspec": {
      "display_name": "Python 3",
      "language": "python",
      "name": "python3"
    },
    "language_info": {
      "codemirror_mode": {
        "name": "ipython",
        "version": 3
      },
      "file_extension": ".py",
      "mimetype": "text/x-python",
      "name": "python",
      "nbconvert_exporter": "python",
      "pygments_lexer": "ipython3",
      "version": "3.7.6"
    },
    "colab": {
      "name": "InClass Working Code 6 - Decision Tree Base Model.ipynb",
      "provenance": [],
      "toc_visible": true,
      "include_colab_link": true
    }
  },
  "cells": [
    {
      "cell_type": "markdown",
      "metadata": {
        "id": "view-in-github",
        "colab_type": "text"
      },
      "source": [
        "<a href=\"https://colab.research.google.com/github/srinivasdasu24/__DataScience/blob/main/HR_Analytics/InClass_Working_Code_6_Decision_Tree_Base_Model.ipynb\" target=\"_parent\"><img src=\"https://colab.research.google.com/assets/colab-badge.svg\" alt=\"Open In Colab\"/></a>"
      ]
    },
    {
      "cell_type": "markdown",
      "metadata": {
        "id": "lFwktUA6a7zH"
      },
      "source": [
        "# Code 6\n",
        "- Preprocessing Improvement\n",
        "- Decision Tree"
      ]
    },
    {
      "cell_type": "markdown",
      "metadata": {
        "id": "9DXfa773a7zZ"
      },
      "source": [
        "## 1/ Import Libraries"
      ]
    },
    {
      "cell_type": "code",
      "metadata": {
        "colab": {
          "base_uri": "https://localhost:8080/"
        },
        "id": "s7o2t9blWo-b",
        "outputId": "1a90654a-d8e4-40ae-c1ed-c3827a424762"
      },
      "source": [
        "#CodeSection1\n",
        "from google.colab import drive\n",
        "drive.mount('/mntDrive') "
      ],
      "execution_count": 1,
      "outputs": [
        {
          "output_type": "stream",
          "text": [
            "Mounted at /mntDrive\n"
          ],
          "name": "stdout"
        }
      ]
    },
    {
      "cell_type": "code",
      "metadata": {
        "id": "n8yqRIuha7zn"
      },
      "source": [
        "#CodeSection2\n",
        "import pandas as pd\n",
        "import numpy as np"
      ],
      "execution_count": 2,
      "outputs": []
    },
    {
      "cell_type": "markdown",
      "metadata": {
        "id": "wRz6crvoa7zo"
      },
      "source": [
        "## 2/ Import Data"
      ]
    },
    {
      "cell_type": "code",
      "metadata": {
        "id": "3u-V5dA4a7zp"
      },
      "source": [
        "#CodeSection3\n",
        "train = pd.read_csv(\"/mntDrive/MyDrive/__DataScience/3 HR Analytics/input/train.csv\")\n",
        "test = pd.read_csv(\"/mntDrive/MyDrive/__DataScience/3 HR Analytics/input/test.csv\")"
      ],
      "execution_count": 3,
      "outputs": []
    },
    {
      "cell_type": "markdown",
      "metadata": {
        "id": "k-SeaUk9a7zp"
      },
      "source": [
        "## 3/ Combine both Datasets (train, test)"
      ]
    },
    {
      "cell_type": "code",
      "metadata": {
        "id": "LOCJ0YdIa7zq"
      },
      "source": [
        "#CodeSection4\n",
        "all_data = [train, test]"
      ],
      "execution_count": 4,
      "outputs": []
    },
    {
      "cell_type": "markdown",
      "metadata": {
        "id": "ox_afLNJtkyO"
      },
      "source": [
        "### Check Combined Data \n",
        "- Missing Value\n",
        "- Data Types"
      ]
    },
    {
      "cell_type": "code",
      "metadata": {
        "id": "T_aFcU3Na7zq",
        "colab": {
          "base_uri": "https://localhost:8080/"
        },
        "outputId": "6871a298-b239-4bbc-e7eb-bfbb3ec19b7c"
      },
      "source": [
        "#CodeSection5\n",
        "# Combine both to check Missing Value\n",
        "pd.concat([train, test], axis = 0).isnull().sum()"
      ],
      "execution_count": 5,
      "outputs": [
        {
          "output_type": "execute_result",
          "data": {
            "text/plain": [
              "enrollee_id                   0\n",
              "city                          0\n",
              "city_development_index        0\n",
              "gender                     7486\n",
              "relevent_experience           0\n",
              "enrolled_university         621\n",
              "education_level             852\n",
              "major_discipline           5231\n",
              "experience                  103\n",
              "company_size               8830\n",
              "company_type               9369\n",
              "last_new_job                671\n",
              "training_hours                0\n",
              "target                    15021\n",
              "dtype: int64"
            ]
          },
          "metadata": {
            "tags": []
          },
          "execution_count": 5
        }
      ]
    },
    {
      "cell_type": "markdown",
      "metadata": {
        "id": "I5pEcQeA-g8O"
      },
      "source": [
        "## 4/ Preprocessing Improvement"
      ]
    },
    {
      "cell_type": "markdown",
      "metadata": {
        "id": "am7cBDhea70L"
      },
      "source": [
        "### 4.1/ Identify Numerical and Categorical Features"
      ]
    },
    {
      "cell_type": "code",
      "metadata": {
        "id": "HyWOSnV8a70M"
      },
      "source": [
        "#CodeSection6\n",
        "# Identify all Numerical and Categorical features\n",
        "numerical_features = ['training_hours']\n",
        "categorical_features = ['gender', 'enrolled_university', 'major_discipline', 'education_level', 'company_size', 'company_type', 'experience', 'last_new_job']"
      ],
      "execution_count": 6,
      "outputs": []
    },
    {
      "cell_type": "markdown",
      "metadata": {
        "id": "RbXNGRsG0SPc"
      },
      "source": [
        "### 4.2/ Outlier Strategy"
      ]
    },
    {
      "cell_type": "code",
      "metadata": {
        "id": "Yq5wHuyv0Z8C"
      },
      "source": [
        "#CodeSection7\n",
        "\n",
        "# Write a loop to do the same\n",
        "for num_var in numerical_features:\n",
        "  Q1 = train[num_var].quantile(0.25)\n",
        "  Q3 = train[num_var].quantile(0.75)\n",
        "\n",
        "  IQR = Q3-Q1\n",
        "\n",
        "  Lower_Whisker = Q1 - 1.5*IQR\n",
        "  Upper_Whisker = Q3 + 1.5*IQR\n",
        "\n",
        "  train[num_var] = train[num_var].apply(lambda x : Upper_Whisker if x >= Upper_Whisker else x)\n",
        "  test[num_var] = test[num_var].apply(lambda x : Upper_Whisker if x >= Upper_Whisker else x)"
      ],
      "execution_count": 7,
      "outputs": []
    },
    {
      "cell_type": "markdown",
      "metadata": {
        "id": "xeAnDRX-0sdl"
      },
      "source": [
        "### 4.3/ Import Libraries\n",
        "- Missing Value Imputation - SimpleImputer\n",
        "- Preprocessing - StandardScaler, OrdinalEncoder\n",
        "- Pipeline - make_pipeline, make_column_transformer\n",
        "- Model - Decision Tree"
      ]
    },
    {
      "cell_type": "code",
      "metadata": {
        "id": "X_NG_Fhb-5JX"
      },
      "source": [
        "#CodeSection8\n",
        "\n",
        "# Import SimpleImputer\n",
        "from sklearn.impute import SimpleImputer\n",
        "\n",
        "# Import StandardScaler\n",
        "from sklearn.preprocessing import StandardScaler, OrdinalEncoder\n",
        "\n",
        "# Make and Compose Pipeline\n",
        "from sklearn.pipeline import make_pipeline\n",
        "from sklearn.compose import make_column_transformer\n",
        "\n",
        "# Import Decision tree\n",
        "from sklearn.tree import DecisionTreeClassifier"
      ],
      "execution_count": 8,
      "outputs": []
    },
    {
      "cell_type": "markdown",
      "metadata": {
        "id": "hANg0WIUYlXm"
      },
      "source": [
        "### 4.4/ Build Pipeline"
      ]
    },
    {
      "cell_type": "code",
      "metadata": {
        "id": "OqUk7M7TUjmP"
      },
      "source": [
        "#CodeSection9\n",
        "# Create Preprocessor Pipeline\n",
        "preprocessor = make_column_transformer(\n",
        "    (make_pipeline(SimpleImputer(strategy='median'),\n",
        "      StandardScaler()), numerical_features),\n",
        "\n",
        "    (make_pipeline(SimpleImputer(strategy='most_frequent'),\n",
        "                  OrdinalEncoder()), categorical_features)\n",
        "        \n",
        ")"
      ],
      "execution_count": 9,
      "outputs": []
    },
    {
      "cell_type": "markdown",
      "metadata": {
        "id": "n1jlzGqWX0zZ"
      },
      "source": [
        "### 4.5/ Divide Data into X and y"
      ]
    },
    {
      "cell_type": "code",
      "metadata": {
        "id": "amrg4_FvUfC2"
      },
      "source": [
        "#CodeSection10\n",
        "X = train.drop(['enrollee_id','target'], axis =  1)\n",
        "y = train['target']"
      ],
      "execution_count": 10,
      "outputs": []
    },
    {
      "cell_type": "markdown",
      "metadata": {
        "id": "vXQBoyz6YsQr"
      },
      "source": [
        "## 5/ Build Model and Fit"
      ]
    },
    {
      "cell_type": "code",
      "metadata": {
        "id": "Gr9rlXuhWVu0"
      },
      "source": [
        "#CodeSection11\n",
        "# Create Model Pipeline and Initiate Model\n",
        "model = make_pipeline(preprocessor, DecisionTreeClassifier(max_depth=5))"
      ],
      "execution_count": 11,
      "outputs": []
    },
    {
      "cell_type": "code",
      "metadata": {
        "colab": {
          "base_uri": "https://localhost:8080/"
        },
        "id": "mH8xpvQVXJhH",
        "outputId": "29ad5578-a492-4be8-a317-07070736ae4e"
      },
      "source": [
        "#CodeSection12 \n",
        "# Fit Model\n",
        "model.fit(X,y)"
      ],
      "execution_count": 12,
      "outputs": [
        {
          "output_type": "execute_result",
          "data": {
            "text/plain": [
              "Pipeline(memory=None,\n",
              "         steps=[('columntransformer',\n",
              "                 ColumnTransformer(n_jobs=None, remainder='drop',\n",
              "                                   sparse_threshold=0.3,\n",
              "                                   transformer_weights=None,\n",
              "                                   transformers=[('pipeline-1',\n",
              "                                                  Pipeline(memory=None,\n",
              "                                                           steps=[('simpleimputer',\n",
              "                                                                   SimpleImputer(add_indicator=False,\n",
              "                                                                                 copy=True,\n",
              "                                                                                 fill_value=None,\n",
              "                                                                                 missing_values=nan,\n",
              "                                                                                 strategy='median',\n",
              "                                                                                 verbose=0)),\n",
              "                                                                  ('standardscaler',\n",
              "                                                                   Standard...\n",
              "                                   verbose=False)),\n",
              "                ('decisiontreeclassifier',\n",
              "                 DecisionTreeClassifier(ccp_alpha=0.0, class_weight=None,\n",
              "                                        criterion='gini', max_depth=5,\n",
              "                                        max_features=None, max_leaf_nodes=None,\n",
              "                                        min_impurity_decrease=0.0,\n",
              "                                        min_impurity_split=None,\n",
              "                                        min_samples_leaf=1, min_samples_split=2,\n",
              "                                        min_weight_fraction_leaf=0.0,\n",
              "                                        presort='deprecated', random_state=None,\n",
              "                                        splitter='best'))],\n",
              "         verbose=False)"
            ]
          },
          "metadata": {
            "tags": []
          },
          "execution_count": 12
        }
      ]
    },
    {
      "cell_type": "markdown",
      "metadata": {
        "id": "Omv4nWgwa70Z"
      },
      "source": [
        "## 6/ Check Accuracy of Model on Train Data"
      ]
    },
    {
      "cell_type": "code",
      "metadata": {
        "id": "PQi2u6uQa70Z"
      },
      "source": [
        "#CodeSection13\n",
        "# Predict on Train Data\n",
        "y_pred = model.predict(X)"
      ],
      "execution_count": 13,
      "outputs": []
    },
    {
      "cell_type": "markdown",
      "metadata": {
        "id": "AqPB9qLLa70a"
      },
      "source": [
        "### We can use a Accuracy Function from Metrics\n",
        "- Check Train Accuracy"
      ]
    },
    {
      "cell_type": "code",
      "metadata": {
        "id": "L8VJNsHIa70a"
      },
      "source": [
        "#CodeSection14\n",
        "# Import metrics library\n",
        "from sklearn.metrics import accuracy_score"
      ],
      "execution_count": 14,
      "outputs": []
    },
    {
      "cell_type": "code",
      "metadata": {
        "id": "jeeS7nkja70a"
      },
      "source": [
        "#CodeSection15\n",
        "# get Actual \"y\" variables (use \"y_true\" as variable)\n",
        "y_true = train['target']"
      ],
      "execution_count": 15,
      "outputs": []
    },
    {
      "cell_type": "code",
      "metadata": {
        "id": "p7llEg7aa70b",
        "colab": {
          "base_uri": "https://localhost:8080/"
        },
        "outputId": "6976e569-9bdd-4ef1-91ce-4ddcf5468274"
      },
      "source": [
        "#CodeSection16\n",
        "# Print Train Accuracy\n",
        "print(f\" Train Accuracy : {accuracy_score(y_true, y_pred):0.1%}\")"
      ],
      "execution_count": 16,
      "outputs": [
        {
          "output_type": "stream",
          "text": [
            " Train Accuracy : 86.8%\n"
          ],
          "name": "stdout"
        }
      ]
    },
    {
      "cell_type": "markdown",
      "metadata": {
        "id": "QIMZgLEWa70b"
      },
      "source": [
        "## 7/ Predict and Submission"
      ]
    },
    {
      "cell_type": "markdown",
      "metadata": {
        "id": "BwZubGmra70b"
      },
      "source": [
        "### Predict on \"Test Data\""
      ]
    },
    {
      "cell_type": "code",
      "metadata": {
        "id": "7qnE4K9Ca70c"
      },
      "source": [
        "#CodeSection17\n",
        "# Get all the X Variables from the Test Dataset\n",
        "X_test = test.drop(['enrollee_id'], axis =  1)"
      ],
      "execution_count": 17,
      "outputs": []
    },
    {
      "cell_type": "code",
      "metadata": {
        "id": "cHsaBNQFa70e"
      },
      "source": [
        "#CodeSection18\n",
        "# Predict on X_test Data (\"X_test_prep\")\n",
        "X_test_prep = model.predict(X_test)"
      ],
      "execution_count": 18,
      "outputs": []
    },
    {
      "cell_type": "markdown",
      "metadata": {
        "id": "SClle2xqa70e"
      },
      "source": [
        "### Create Submission File"
      ]
    },
    {
      "cell_type": "code",
      "metadata": {
        "id": "LgdlFL46a70f"
      },
      "source": [
        "#CodeSection19\n",
        "submission = pd.DataFrame({\n",
        "    'enrollee_id' : test['enrollee_id'],\n",
        "    'target' : X_test_prep\n",
        "})"
      ],
      "execution_count": 19,
      "outputs": []
    },
    {
      "cell_type": "markdown",
      "metadata": {
        "id": "MAZ0TP21a70g"
      },
      "source": [
        "### Export Submission File"
      ]
    },
    {
      "cell_type": "code",
      "metadata": {
        "id": "AnfbYZoKa70g"
      },
      "source": [
        "#CodeSection20\n",
        "submission.to_csv('/mntDrive/MyDrive/__DataScience/3 HR Analytics/output/O6_DT_Pipeline.csv', index = False)"
      ],
      "execution_count": 20,
      "outputs": []
    },
    {
      "cell_type": "code",
      "metadata": {
        "id": "n13R8vTfa70g"
      },
      "source": [
        "# LB Accuracy : 0.5002"
      ],
      "execution_count": 21,
      "outputs": []
    }
  ]
}