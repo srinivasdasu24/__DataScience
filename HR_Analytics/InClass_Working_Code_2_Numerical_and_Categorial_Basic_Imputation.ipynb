{
  "nbformat": 4,
  "nbformat_minor": 0,
  "metadata": {
    "kernelspec": {
      "display_name": "Python 3",
      "language": "python",
      "name": "python3"
    },
    "language_info": {
      "codemirror_mode": {
        "name": "ipython",
        "version": 3
      },
      "file_extension": ".py",
      "mimetype": "text/x-python",
      "name": "python",
      "nbconvert_exporter": "python",
      "pygments_lexer": "ipython3",
      "version": "3.7.6"
    },
    "colab": {
      "name": "InClass Working Code 2 - Numerical and Categorial Basic Imputation.ipynb",
      "provenance": [],
      "include_colab_link": true
    }
  },
  "cells": [
    {
      "cell_type": "markdown",
      "metadata": {
        "id": "view-in-github",
        "colab_type": "text"
      },
      "source": [
        "<a href=\"https://colab.research.google.com/github/srinivasdasu24/__DataScience/blob/main/HR_Analytics/InClass_Working_Code_2_Numerical_and_Categorial_Basic_Imputation.ipynb\" target=\"_parent\"><img src=\"https://colab.research.google.com/assets/colab-badge.svg\" alt=\"Open In Colab\"/></a>"
      ]
    },
    {
      "cell_type": "markdown",
      "metadata": {
        "id": "b8VZ3hMkiFjm"
      },
      "source": [
        "# Code 2\n",
        "- Basic Imputation for Numerical and Categorial\n",
        "- Logistic Model (Balanced/ Unbalanced)"
      ]
    },
    {
      "cell_type": "markdown",
      "metadata": {
        "id": "jIBThwnbiFju"
      },
      "source": [
        "## 1/ Import Libraries"
      ]
    },
    {
      "cell_type": "code",
      "metadata": {
        "colab": {
          "base_uri": "https://localhost:8080/"
        },
        "id": "Qf7o0Mu0qyPb",
        "outputId": "b47b17b9-9902-4c2b-bfd4-f4488e075953"
      },
      "source": [
        "#CodeSection1\n",
        "from google.colab import drive\n",
        "drive.mount('/mntDrive') "
      ],
      "execution_count": 1,
      "outputs": [
        {
          "output_type": "stream",
          "text": [
            "Mounted at /mntDrive\n"
          ],
          "name": "stdout"
        }
      ]
    },
    {
      "cell_type": "code",
      "metadata": {
        "id": "yZeXIfpIiFjv"
      },
      "source": [
        "#CodeSection2\n",
        "import pandas as pd"
      ],
      "execution_count": 2,
      "outputs": []
    },
    {
      "cell_type": "markdown",
      "metadata": {
        "id": "nURejKiuiFjv"
      },
      "source": [
        "## 2/ Import Data"
      ]
    },
    {
      "cell_type": "code",
      "metadata": {
        "id": "XlYWBU01iFjw"
      },
      "source": [
        "#CodeSection3\n",
        "train = pd.read_csv(\"/mntDrive/MyDrive/__DataScience/3 HR Analytics/input/train.csv\")\n",
        "test = pd.read_csv(\"/mntDrive/MyDrive/__DataScience/3 HR Analytics/input/test.csv\")"
      ],
      "execution_count": 3,
      "outputs": []
    },
    {
      "cell_type": "markdown",
      "metadata": {
        "id": "hHpK8JD1iFjw"
      },
      "source": [
        "### Check Train Data"
      ]
    },
    {
      "cell_type": "code",
      "metadata": {
        "id": "8t99XmAiiFjw",
        "colab": {
          "base_uri": "https://localhost:8080/"
        },
        "outputId": "72002eb6-88a2-48e0-a19a-139023fed332"
      },
      "source": [
        "#CodeSection4\n",
        "train.info()"
      ],
      "execution_count": 4,
      "outputs": [
        {
          "output_type": "stream",
          "text": [
            "<class 'pandas.core.frame.DataFrame'>\n",
            "RangeIndex: 18359 entries, 0 to 18358\n",
            "Data columns (total 14 columns):\n",
            " #   Column                  Non-Null Count  Dtype  \n",
            "---  ------                  --------------  -----  \n",
            " 0   enrollee_id             18359 non-null  int64  \n",
            " 1   city                    18359 non-null  object \n",
            " 2   city_development_index  18359 non-null  float64\n",
            " 3   gender                  14261 non-null  object \n",
            " 4   relevent_experience     18359 non-null  object \n",
            " 5   enrolled_university     18017 non-null  object \n",
            " 6   education_level         17902 non-null  object \n",
            " 7   major_discipline        15521 non-null  object \n",
            " 8   experience              18300 non-null  object \n",
            " 9   company_size            13580 non-null  object \n",
            " 10  company_type            13320 non-null  object \n",
            " 11  last_new_job            17992 non-null  object \n",
            " 12  training_hours          18359 non-null  int64  \n",
            " 13  target                  18359 non-null  int64  \n",
            "dtypes: float64(1), int64(3), object(10)\n",
            "memory usage: 2.0+ MB\n"
          ],
          "name": "stdout"
        }
      ]
    },
    {
      "cell_type": "markdown",
      "metadata": {
        "id": "-uUA9GSpiFjy"
      },
      "source": [
        "### Check Test Data"
      ]
    },
    {
      "cell_type": "code",
      "metadata": {
        "id": "PAiwnAXkiFjy",
        "colab": {
          "base_uri": "https://localhost:8080/"
        },
        "outputId": "f212b216-e70c-4cb5-fa33-458611c68612"
      },
      "source": [
        "#CodeSection4\n",
        "test.info()"
      ],
      "execution_count": 5,
      "outputs": [
        {
          "output_type": "stream",
          "text": [
            "<class 'pandas.core.frame.DataFrame'>\n",
            "RangeIndex: 15021 entries, 0 to 15020\n",
            "Data columns (total 13 columns):\n",
            " #   Column                  Non-Null Count  Dtype  \n",
            "---  ------                  --------------  -----  \n",
            " 0   enrollee_id             15021 non-null  int64  \n",
            " 1   city                    15021 non-null  object \n",
            " 2   city_development_index  15021 non-null  float64\n",
            " 3   gender                  11633 non-null  object \n",
            " 4   relevent_experience     15021 non-null  object \n",
            " 5   enrolled_university     14742 non-null  object \n",
            " 6   education_level         14626 non-null  object \n",
            " 7   major_discipline        12628 non-null  object \n",
            " 8   experience              14977 non-null  object \n",
            " 9   company_size            10970 non-null  object \n",
            " 10  company_type            10691 non-null  object \n",
            " 11  last_new_job            14717 non-null  object \n",
            " 12  training_hours          15021 non-null  int64  \n",
            "dtypes: float64(1), int64(2), object(10)\n",
            "memory usage: 1.5+ MB\n"
          ],
          "name": "stdout"
        }
      ]
    },
    {
      "cell_type": "markdown",
      "metadata": {
        "id": "mJ-JauPhiFjz"
      },
      "source": [
        "### We Combine both Datasets to perform Missing Value Imputation"
      ]
    },
    {
      "cell_type": "code",
      "metadata": {
        "id": "M5QYyvcxiFjz"
      },
      "source": [
        "#CodeSection6\n",
        "all_data = [train, test]"
      ],
      "execution_count": 6,
      "outputs": []
    },
    {
      "cell_type": "code",
      "metadata": {
        "id": "TPljJDBHiFjz",
        "colab": {
          "base_uri": "https://localhost:8080/"
        },
        "outputId": "5cf9a7d9-f31d-43d0-d3de-3f2dfa8eae59"
      },
      "source": [
        "#CodeSection7\n",
        "# Combine both using concat (with axis = 0) to check Missing Value\n",
        "pd.concat([train, test] , axis=0).isnull().sum()"
      ],
      "execution_count": 7,
      "outputs": [
        {
          "output_type": "execute_result",
          "data": {
            "text/plain": [
              "enrollee_id                   0\n",
              "city                          0\n",
              "city_development_index        0\n",
              "gender                     7486\n",
              "relevent_experience           0\n",
              "enrolled_university         621\n",
              "education_level             852\n",
              "major_discipline           5231\n",
              "experience                  103\n",
              "company_size               8830\n",
              "company_type               9369\n",
              "last_new_job                671\n",
              "training_hours                0\n",
              "target                    15021\n",
              "dtype: int64"
            ]
          },
          "metadata": {
            "tags": []
          },
          "execution_count": 7
        }
      ]
    },
    {
      "cell_type": "markdown",
      "metadata": {
        "id": "Ng2bRvFRiFj0"
      },
      "source": [
        "## 3/ Impute Numerical Variables\n",
        "- Impute all Numerical Variables "
      ]
    },
    {
      "cell_type": "markdown",
      "metadata": {
        "id": "SzJP5ZywiFj0"
      },
      "source": [
        "### Variable/Feature 1"
      ]
    },
    {
      "cell_type": "code",
      "metadata": {
        "id": "1nUJHVgpiFj0"
      },
      "source": [
        "#CodeSection8\n",
        "# Impute Feature with mean/median for both train and test - use for loop\n",
        "# target\n",
        "#for data in all_data:\n",
        "train['target'] = train['target'].fillna(train['target'].median())"
      ],
      "execution_count": 23,
      "outputs": []
    },
    {
      "cell_type": "markdown",
      "metadata": {
        "id": "wdL1qg2biFj0"
      },
      "source": [
        "### Variable/Feature 2"
      ]
    },
    {
      "cell_type": "code",
      "metadata": {
        "id": "6YiwOJceiFj0"
      },
      "source": [
        "#CodeSection8\n",
        "# Impute Feature with mean/median for both train and test - use for loop\n",
        "<Write your code here>"
      ],
      "execution_count": null,
      "outputs": []
    },
    {
      "cell_type": "markdown",
      "metadata": {
        "id": "FlPkUjcWiFj1"
      },
      "source": [
        "### Variable/Feature 3"
      ]
    },
    {
      "cell_type": "code",
      "metadata": {
        "id": "AJFILXSIiFj1"
      },
      "source": [
        "#CodeSection8\n",
        "# Impute Feature with mean/median for both train and test - use for loop\n",
        "<Write your code here>"
      ],
      "execution_count": null,
      "outputs": []
    },
    {
      "cell_type": "markdown",
      "metadata": {
        "id": "95DY5kbLiFj1"
      },
      "source": [
        "### Variable/Feature 4"
      ]
    },
    {
      "cell_type": "code",
      "metadata": {
        "id": "PFA24lOXiFj1"
      },
      "source": [
        "#CodeSection8\n",
        "# Impute Feature with mean/median for both train and test - use for loop\n",
        "<Write your code here>"
      ],
      "execution_count": null,
      "outputs": []
    },
    {
      "cell_type": "markdown",
      "metadata": {
        "id": "4asxTxKfiFj2"
      },
      "source": [
        "## 4/ Impute Categorical Variables\n",
        "- Impute all Numerical Variables"
      ]
    },
    {
      "cell_type": "markdown",
      "metadata": {
        "id": "RQ9IYi_diFj2"
      },
      "source": [
        "### Categorical Variable/Feature 1"
      ]
    },
    {
      "cell_type": "code",
      "metadata": {
        "id": "ny2RA_DBiFj2"
      },
      "source": [
        "#CodeSection9\n",
        "# Impute Feature with mode (use [0]) for both train and test - use for loop\n",
        "for data in all_data:\n",
        "  data['gender'] = data['gender'].fillna(train['gender'].mode()[0])"
      ],
      "execution_count": 12,
      "outputs": []
    },
    {
      "cell_type": "markdown",
      "metadata": {
        "id": "ZjvLsjhriFj2"
      },
      "source": [
        "### Categorical Variable/Feature 2"
      ]
    },
    {
      "cell_type": "code",
      "metadata": {
        "id": "XSQvtmvqiFj2"
      },
      "source": [
        "#CodeSection9\n",
        "# Impute Feature with mode (use [0]) for both train and test - use for loop\n",
        "for data in all_data:\n",
        "  data['last_new_job'] = data['last_new_job'].fillna(train['last_new_job'].mode()[0])"
      ],
      "execution_count": 13,
      "outputs": []
    },
    {
      "cell_type": "markdown",
      "metadata": {
        "id": "aP7Ht0s1iFj2"
      },
      "source": [
        "### Categorical Variable/Feature 3"
      ]
    },
    {
      "cell_type": "code",
      "metadata": {
        "id": "ep7efdMoiFj3"
      },
      "source": [
        "#CodeSection9\n",
        "# Impute Feature with mode (use [0]) for both train and test - use for loop\n",
        "for data in all_data:\n",
        "  data['major_discipline'] = data['major_discipline'].fillna(train['major_discipline'].mode()[0])"
      ],
      "execution_count": 14,
      "outputs": []
    },
    {
      "cell_type": "markdown",
      "metadata": {
        "id": "miyXGgv9iFj3"
      },
      "source": [
        "### Categorical Variable/Feature 4"
      ]
    },
    {
      "cell_type": "code",
      "metadata": {
        "id": "axRmQ0pJiFj3"
      },
      "source": [
        "#CodeSection9\n",
        "# Impute Feature with mode (use [0]) for both train and test - use for loop\n",
        "for data in all_data:\n",
        "  data['company_size'] = data['company_size'].fillna(train['company_size'].mode()[0])"
      ],
      "execution_count": 15,
      "outputs": []
    },
    {
      "cell_type": "code",
      "metadata": {
        "id": "UnRWCP_6DfqC"
      },
      "source": [
        "# Impute Feature with mode (use [0]) for both train and test - use for loop\n",
        "for data in all_data:\n",
        "  data['company_type'] = data['company_type'].fillna(train['company_type'].mode()[0])"
      ],
      "execution_count": 17,
      "outputs": []
    },
    {
      "cell_type": "code",
      "metadata": {
        "id": "HABJUgi4DmVe"
      },
      "source": [
        "# Impute Feature with mode (use [0]) for both train and test - use for loop\n",
        "for data in all_data:\n",
        "  data['education_level'] = data['education_level'].fillna(train['education_level'].mode()[0])"
      ],
      "execution_count": 18,
      "outputs": []
    },
    {
      "cell_type": "code",
      "metadata": {
        "id": "v7JilOBDDwPa"
      },
      "source": [
        "for data in all_data:\n",
        "  data['enrolled_university'] = data['enrolled_university'].fillna(train['enrolled_university'].mode()[0])"
      ],
      "execution_count": 20,
      "outputs": []
    },
    {
      "cell_type": "code",
      "metadata": {
        "id": "RRk0Rp_vD4fK"
      },
      "source": [
        "for data in all_data:\n",
        "  data['experience'] = data['experience'].fillna(train['experience'].mode()[0])"
      ],
      "execution_count": 21,
      "outputs": []
    },
    {
      "cell_type": "code",
      "metadata": {
        "colab": {
          "base_uri": "https://localhost:8080/"
        },
        "id": "fXRaReT7ENQq",
        "outputId": "90b4ff3f-1b77-4674-e29d-cd399819ad89"
      },
      "source": [
        "train['target'].isnull().sum()"
      ],
      "execution_count": 25,
      "outputs": [
        {
          "output_type": "execute_result",
          "data": {
            "text/plain": [
              "0"
            ]
          },
          "metadata": {
            "tags": []
          },
          "execution_count": 25
        }
      ]
    },
    {
      "cell_type": "markdown",
      "metadata": {
        "id": "lc41XFkliFj3"
      },
      "source": [
        "## 5/ Now Re Check all of them"
      ]
    },
    {
      "cell_type": "code",
      "metadata": {
        "id": "au6GbxqyiFj3",
        "colab": {
          "base_uri": "https://localhost:8080/"
        },
        "outputId": "33c163cc-8a5b-42c2-c268-bac12250f5cd"
      },
      "source": [
        "#CodeSection10\n",
        "# Combine both to check Missing Value\n",
        "pd.concat([train, test], axis = 0).isnull().sum()"
      ],
      "execution_count": 24,
      "outputs": [
        {
          "output_type": "execute_result",
          "data": {
            "text/plain": [
              "enrollee_id                   0\n",
              "city                          0\n",
              "city_development_index        0\n",
              "gender                        0\n",
              "relevent_experience           0\n",
              "enrolled_university           0\n",
              "education_level               0\n",
              "major_discipline              0\n",
              "experience                    0\n",
              "company_size                  0\n",
              "company_type                  0\n",
              "last_new_job                  0\n",
              "training_hours                0\n",
              "target                    15021\n",
              "dtype: int64"
            ]
          },
          "metadata": {
            "tags": []
          },
          "execution_count": 24
        }
      ]
    },
    {
      "cell_type": "markdown",
      "metadata": {
        "id": "SfVd3ZMoiFj4"
      },
      "source": [
        "## 6/ Prepare Data for Model Model"
      ]
    },
    {
      "cell_type": "code",
      "metadata": {
        "id": "s2tJQL5FiFj4",
        "colab": {
          "base_uri": "https://localhost:8080/",
          "height": 224
        },
        "outputId": "341cc784-8fe5-437c-a430-13ead9baed2b"
      },
      "source": [
        "#CodeSection11\n",
        "# Check first 5 rows of Test Dataset\n",
        "test.head()"
      ],
      "execution_count": 26,
      "outputs": [
        {
          "output_type": "execute_result",
          "data": {
            "text/html": [
              "<div>\n",
              "<style scoped>\n",
              "    .dataframe tbody tr th:only-of-type {\n",
              "        vertical-align: middle;\n",
              "    }\n",
              "\n",
              "    .dataframe tbody tr th {\n",
              "        vertical-align: top;\n",
              "    }\n",
              "\n",
              "    .dataframe thead th {\n",
              "        text-align: right;\n",
              "    }\n",
              "</style>\n",
              "<table border=\"1\" class=\"dataframe\">\n",
              "  <thead>\n",
              "    <tr style=\"text-align: right;\">\n",
              "      <th></th>\n",
              "      <th>enrollee_id</th>\n",
              "      <th>city</th>\n",
              "      <th>city_development_index</th>\n",
              "      <th>gender</th>\n",
              "      <th>relevent_experience</th>\n",
              "      <th>enrolled_university</th>\n",
              "      <th>education_level</th>\n",
              "      <th>major_discipline</th>\n",
              "      <th>experience</th>\n",
              "      <th>company_size</th>\n",
              "      <th>company_type</th>\n",
              "      <th>last_new_job</th>\n",
              "      <th>training_hours</th>\n",
              "    </tr>\n",
              "  </thead>\n",
              "  <tbody>\n",
              "    <tr>\n",
              "      <th>0</th>\n",
              "      <td>16548</td>\n",
              "      <td>city_33</td>\n",
              "      <td>0.448</td>\n",
              "      <td>Male</td>\n",
              "      <td>No relevent experience</td>\n",
              "      <td>Full time course</td>\n",
              "      <td>Graduate</td>\n",
              "      <td>STEM</td>\n",
              "      <td>&lt;1</td>\n",
              "      <td>1000-4999</td>\n",
              "      <td>Public Sector</td>\n",
              "      <td>1</td>\n",
              "      <td>15</td>\n",
              "    </tr>\n",
              "    <tr>\n",
              "      <th>1</th>\n",
              "      <td>12036</td>\n",
              "      <td>city_28</td>\n",
              "      <td>0.939</td>\n",
              "      <td>Male</td>\n",
              "      <td>No relevent experience</td>\n",
              "      <td>no_enrollment</td>\n",
              "      <td>Graduate</td>\n",
              "      <td>STEM</td>\n",
              "      <td>&gt;20</td>\n",
              "      <td>50-99</td>\n",
              "      <td>Pvt Ltd</td>\n",
              "      <td>1</td>\n",
              "      <td>94</td>\n",
              "    </tr>\n",
              "    <tr>\n",
              "      <th>2</th>\n",
              "      <td>11061</td>\n",
              "      <td>city_103</td>\n",
              "      <td>0.920</td>\n",
              "      <td>Male</td>\n",
              "      <td>No relevent experience</td>\n",
              "      <td>Full time course</td>\n",
              "      <td>Graduate</td>\n",
              "      <td>STEM</td>\n",
              "      <td>3</td>\n",
              "      <td>50-99</td>\n",
              "      <td>Pvt Ltd</td>\n",
              "      <td>1</td>\n",
              "      <td>17</td>\n",
              "    </tr>\n",
              "    <tr>\n",
              "      <th>3</th>\n",
              "      <td>5032</td>\n",
              "      <td>city_104</td>\n",
              "      <td>0.924</td>\n",
              "      <td>Male</td>\n",
              "      <td>No relevent experience</td>\n",
              "      <td>no_enrollment</td>\n",
              "      <td>Phd</td>\n",
              "      <td>STEM</td>\n",
              "      <td>&gt;20</td>\n",
              "      <td>50-99</td>\n",
              "      <td>Pvt Ltd</td>\n",
              "      <td>2</td>\n",
              "      <td>76</td>\n",
              "    </tr>\n",
              "    <tr>\n",
              "      <th>4</th>\n",
              "      <td>17599</td>\n",
              "      <td>city_77</td>\n",
              "      <td>0.830</td>\n",
              "      <td>Male</td>\n",
              "      <td>Has relevent experience</td>\n",
              "      <td>no_enrollment</td>\n",
              "      <td>Graduate</td>\n",
              "      <td>STEM</td>\n",
              "      <td>6</td>\n",
              "      <td>&lt;10</td>\n",
              "      <td>Pvt Ltd</td>\n",
              "      <td>2</td>\n",
              "      <td>65</td>\n",
              "    </tr>\n",
              "  </tbody>\n",
              "</table>\n",
              "</div>"
            ],
            "text/plain": [
              "   enrollee_id      city  ...  last_new_job training_hours\n",
              "0        16548   city_33  ...             1             15\n",
              "1        12036   city_28  ...             1             94\n",
              "2        11061  city_103  ...             1             17\n",
              "3         5032  city_104  ...             2             76\n",
              "4        17599   city_77  ...             2             65\n",
              "\n",
              "[5 rows x 13 columns]"
            ]
          },
          "metadata": {
            "tags": []
          },
          "execution_count": 26
        }
      ]
    },
    {
      "cell_type": "code",
      "metadata": {
        "id": "XuKraulTiFj4"
      },
      "source": [
        "#CodeSection12\n",
        "# Divide Data into X and y\n",
        "X = train.drop(['enrollee_id','target'], axis =1)\n",
        "Y = train['target']"
      ],
      "execution_count": 27,
      "outputs": []
    },
    {
      "cell_type": "markdown",
      "metadata": {
        "id": "i62qAEiZiFj4"
      },
      "source": [
        "### Create Dummy Variables for  Categorical Variables"
      ]
    },
    {
      "cell_type": "code",
      "metadata": {
        "id": "kvpKkwR-iFj4"
      },
      "source": [
        "#CodeSection13\n",
        "# Create Dummy Variables\n",
        "X = pd.get_dummies(X)"
      ],
      "execution_count": 30,
      "outputs": []
    },
    {
      "cell_type": "code",
      "metadata": {
        "id": "H_vdF9mLiFj5",
        "colab": {
          "base_uri": "https://localhost:8080/",
          "height": 270
        },
        "outputId": "98b6b991-09a1-40d3-82ab-325d8fcb1ed5"
      },
      "source": [
        "#CodeSection14\n",
        "# Check first 5 rows of X\n",
        "X.head()"
      ],
      "execution_count": 31,
      "outputs": [
        {
          "output_type": "execute_result",
          "data": {
            "text/html": [
              "<div>\n",
              "<style scoped>\n",
              "    .dataframe tbody tr th:only-of-type {\n",
              "        vertical-align: middle;\n",
              "    }\n",
              "\n",
              "    .dataframe tbody tr th {\n",
              "        vertical-align: top;\n",
              "    }\n",
              "\n",
              "    .dataframe thead th {\n",
              "        text-align: right;\n",
              "    }\n",
              "</style>\n",
              "<table border=\"1\" class=\"dataframe\">\n",
              "  <thead>\n",
              "    <tr style=\"text-align: right;\">\n",
              "      <th></th>\n",
              "      <th>city_development_index</th>\n",
              "      <th>training_hours</th>\n",
              "      <th>city_city_1</th>\n",
              "      <th>city_city_10</th>\n",
              "      <th>city_city_100</th>\n",
              "      <th>city_city_101</th>\n",
              "      <th>city_city_102</th>\n",
              "      <th>city_city_103</th>\n",
              "      <th>city_city_104</th>\n",
              "      <th>city_city_105</th>\n",
              "      <th>city_city_106</th>\n",
              "      <th>city_city_107</th>\n",
              "      <th>city_city_109</th>\n",
              "      <th>city_city_11</th>\n",
              "      <th>city_city_111</th>\n",
              "      <th>city_city_114</th>\n",
              "      <th>city_city_115</th>\n",
              "      <th>city_city_116</th>\n",
              "      <th>city_city_117</th>\n",
              "      <th>city_city_118</th>\n",
              "      <th>city_city_12</th>\n",
              "      <th>city_city_120</th>\n",
              "      <th>city_city_121</th>\n",
              "      <th>city_city_123</th>\n",
              "      <th>city_city_126</th>\n",
              "      <th>city_city_127</th>\n",
              "      <th>city_city_128</th>\n",
              "      <th>city_city_129</th>\n",
              "      <th>city_city_13</th>\n",
              "      <th>city_city_131</th>\n",
              "      <th>city_city_133</th>\n",
              "      <th>city_city_134</th>\n",
              "      <th>city_city_136</th>\n",
              "      <th>city_city_138</th>\n",
              "      <th>city_city_139</th>\n",
              "      <th>city_city_14</th>\n",
              "      <th>city_city_140</th>\n",
              "      <th>city_city_141</th>\n",
              "      <th>city_city_142</th>\n",
              "      <th>city_city_143</th>\n",
              "      <th>...</th>\n",
              "      <th>experience_11</th>\n",
              "      <th>experience_12</th>\n",
              "      <th>experience_13</th>\n",
              "      <th>experience_14</th>\n",
              "      <th>experience_15</th>\n",
              "      <th>experience_16</th>\n",
              "      <th>experience_17</th>\n",
              "      <th>experience_18</th>\n",
              "      <th>experience_19</th>\n",
              "      <th>experience_2</th>\n",
              "      <th>experience_20</th>\n",
              "      <th>experience_3</th>\n",
              "      <th>experience_4</th>\n",
              "      <th>experience_5</th>\n",
              "      <th>experience_6</th>\n",
              "      <th>experience_7</th>\n",
              "      <th>experience_8</th>\n",
              "      <th>experience_9</th>\n",
              "      <th>experience_&lt;1</th>\n",
              "      <th>experience_&gt;20</th>\n",
              "      <th>company_size_10/49</th>\n",
              "      <th>company_size_100-500</th>\n",
              "      <th>company_size_1000-4999</th>\n",
              "      <th>company_size_10000+</th>\n",
              "      <th>company_size_50-99</th>\n",
              "      <th>company_size_500-999</th>\n",
              "      <th>company_size_5000-9999</th>\n",
              "      <th>company_size_&lt;10</th>\n",
              "      <th>company_type_Early Stage Startup</th>\n",
              "      <th>company_type_Funded Startup</th>\n",
              "      <th>company_type_NGO</th>\n",
              "      <th>company_type_Other</th>\n",
              "      <th>company_type_Public Sector</th>\n",
              "      <th>company_type_Pvt Ltd</th>\n",
              "      <th>last_new_job_1</th>\n",
              "      <th>last_new_job_2</th>\n",
              "      <th>last_new_job_3</th>\n",
              "      <th>last_new_job_4</th>\n",
              "      <th>last_new_job_&gt;4</th>\n",
              "      <th>last_new_job_never</th>\n",
              "    </tr>\n",
              "  </thead>\n",
              "  <tbody>\n",
              "    <tr>\n",
              "      <th>0</th>\n",
              "      <td>0.689</td>\n",
              "      <td>106</td>\n",
              "      <td>0</td>\n",
              "      <td>0</td>\n",
              "      <td>0</td>\n",
              "      <td>0</td>\n",
              "      <td>0</td>\n",
              "      <td>0</td>\n",
              "      <td>0</td>\n",
              "      <td>0</td>\n",
              "      <td>0</td>\n",
              "      <td>0</td>\n",
              "      <td>0</td>\n",
              "      <td>0</td>\n",
              "      <td>0</td>\n",
              "      <td>0</td>\n",
              "      <td>0</td>\n",
              "      <td>0</td>\n",
              "      <td>0</td>\n",
              "      <td>0</td>\n",
              "      <td>0</td>\n",
              "      <td>0</td>\n",
              "      <td>0</td>\n",
              "      <td>0</td>\n",
              "      <td>0</td>\n",
              "      <td>0</td>\n",
              "      <td>0</td>\n",
              "      <td>0</td>\n",
              "      <td>0</td>\n",
              "      <td>0</td>\n",
              "      <td>0</td>\n",
              "      <td>0</td>\n",
              "      <td>0</td>\n",
              "      <td>0</td>\n",
              "      <td>0</td>\n",
              "      <td>0</td>\n",
              "      <td>0</td>\n",
              "      <td>0</td>\n",
              "      <td>0</td>\n",
              "      <td>0</td>\n",
              "      <td>...</td>\n",
              "      <td>0</td>\n",
              "      <td>0</td>\n",
              "      <td>0</td>\n",
              "      <td>0</td>\n",
              "      <td>0</td>\n",
              "      <td>0</td>\n",
              "      <td>0</td>\n",
              "      <td>0</td>\n",
              "      <td>0</td>\n",
              "      <td>0</td>\n",
              "      <td>0</td>\n",
              "      <td>1</td>\n",
              "      <td>0</td>\n",
              "      <td>0</td>\n",
              "      <td>0</td>\n",
              "      <td>0</td>\n",
              "      <td>0</td>\n",
              "      <td>0</td>\n",
              "      <td>0</td>\n",
              "      <td>0</td>\n",
              "      <td>0</td>\n",
              "      <td>1</td>\n",
              "      <td>0</td>\n",
              "      <td>0</td>\n",
              "      <td>0</td>\n",
              "      <td>0</td>\n",
              "      <td>0</td>\n",
              "      <td>0</td>\n",
              "      <td>0</td>\n",
              "      <td>0</td>\n",
              "      <td>0</td>\n",
              "      <td>0</td>\n",
              "      <td>0</td>\n",
              "      <td>1</td>\n",
              "      <td>1</td>\n",
              "      <td>0</td>\n",
              "      <td>0</td>\n",
              "      <td>0</td>\n",
              "      <td>0</td>\n",
              "      <td>0</td>\n",
              "    </tr>\n",
              "    <tr>\n",
              "      <th>1</th>\n",
              "      <td>0.923</td>\n",
              "      <td>69</td>\n",
              "      <td>0</td>\n",
              "      <td>0</td>\n",
              "      <td>0</td>\n",
              "      <td>0</td>\n",
              "      <td>0</td>\n",
              "      <td>0</td>\n",
              "      <td>0</td>\n",
              "      <td>0</td>\n",
              "      <td>0</td>\n",
              "      <td>0</td>\n",
              "      <td>0</td>\n",
              "      <td>0</td>\n",
              "      <td>0</td>\n",
              "      <td>0</td>\n",
              "      <td>0</td>\n",
              "      <td>0</td>\n",
              "      <td>0</td>\n",
              "      <td>0</td>\n",
              "      <td>0</td>\n",
              "      <td>0</td>\n",
              "      <td>0</td>\n",
              "      <td>0</td>\n",
              "      <td>0</td>\n",
              "      <td>0</td>\n",
              "      <td>0</td>\n",
              "      <td>0</td>\n",
              "      <td>0</td>\n",
              "      <td>0</td>\n",
              "      <td>0</td>\n",
              "      <td>0</td>\n",
              "      <td>0</td>\n",
              "      <td>0</td>\n",
              "      <td>0</td>\n",
              "      <td>0</td>\n",
              "      <td>0</td>\n",
              "      <td>0</td>\n",
              "      <td>0</td>\n",
              "      <td>0</td>\n",
              "      <td>...</td>\n",
              "      <td>0</td>\n",
              "      <td>0</td>\n",
              "      <td>0</td>\n",
              "      <td>1</td>\n",
              "      <td>0</td>\n",
              "      <td>0</td>\n",
              "      <td>0</td>\n",
              "      <td>0</td>\n",
              "      <td>0</td>\n",
              "      <td>0</td>\n",
              "      <td>0</td>\n",
              "      <td>0</td>\n",
              "      <td>0</td>\n",
              "      <td>0</td>\n",
              "      <td>0</td>\n",
              "      <td>0</td>\n",
              "      <td>0</td>\n",
              "      <td>0</td>\n",
              "      <td>0</td>\n",
              "      <td>0</td>\n",
              "      <td>0</td>\n",
              "      <td>0</td>\n",
              "      <td>0</td>\n",
              "      <td>0</td>\n",
              "      <td>0</td>\n",
              "      <td>0</td>\n",
              "      <td>0</td>\n",
              "      <td>1</td>\n",
              "      <td>0</td>\n",
              "      <td>1</td>\n",
              "      <td>0</td>\n",
              "      <td>0</td>\n",
              "      <td>0</td>\n",
              "      <td>0</td>\n",
              "      <td>1</td>\n",
              "      <td>0</td>\n",
              "      <td>0</td>\n",
              "      <td>0</td>\n",
              "      <td>0</td>\n",
              "      <td>0</td>\n",
              "    </tr>\n",
              "    <tr>\n",
              "      <th>2</th>\n",
              "      <td>0.910</td>\n",
              "      <td>4</td>\n",
              "      <td>0</td>\n",
              "      <td>0</td>\n",
              "      <td>0</td>\n",
              "      <td>0</td>\n",
              "      <td>0</td>\n",
              "      <td>0</td>\n",
              "      <td>0</td>\n",
              "      <td>0</td>\n",
              "      <td>0</td>\n",
              "      <td>0</td>\n",
              "      <td>0</td>\n",
              "      <td>0</td>\n",
              "      <td>0</td>\n",
              "      <td>0</td>\n",
              "      <td>0</td>\n",
              "      <td>0</td>\n",
              "      <td>0</td>\n",
              "      <td>0</td>\n",
              "      <td>0</td>\n",
              "      <td>0</td>\n",
              "      <td>0</td>\n",
              "      <td>0</td>\n",
              "      <td>0</td>\n",
              "      <td>0</td>\n",
              "      <td>0</td>\n",
              "      <td>0</td>\n",
              "      <td>0</td>\n",
              "      <td>0</td>\n",
              "      <td>0</td>\n",
              "      <td>0</td>\n",
              "      <td>0</td>\n",
              "      <td>0</td>\n",
              "      <td>0</td>\n",
              "      <td>0</td>\n",
              "      <td>0</td>\n",
              "      <td>0</td>\n",
              "      <td>0</td>\n",
              "      <td>0</td>\n",
              "      <td>...</td>\n",
              "      <td>0</td>\n",
              "      <td>0</td>\n",
              "      <td>0</td>\n",
              "      <td>0</td>\n",
              "      <td>0</td>\n",
              "      <td>0</td>\n",
              "      <td>0</td>\n",
              "      <td>0</td>\n",
              "      <td>0</td>\n",
              "      <td>0</td>\n",
              "      <td>0</td>\n",
              "      <td>0</td>\n",
              "      <td>0</td>\n",
              "      <td>0</td>\n",
              "      <td>1</td>\n",
              "      <td>0</td>\n",
              "      <td>0</td>\n",
              "      <td>0</td>\n",
              "      <td>0</td>\n",
              "      <td>0</td>\n",
              "      <td>0</td>\n",
              "      <td>0</td>\n",
              "      <td>0</td>\n",
              "      <td>0</td>\n",
              "      <td>1</td>\n",
              "      <td>0</td>\n",
              "      <td>0</td>\n",
              "      <td>0</td>\n",
              "      <td>0</td>\n",
              "      <td>0</td>\n",
              "      <td>0</td>\n",
              "      <td>0</td>\n",
              "      <td>1</td>\n",
              "      <td>0</td>\n",
              "      <td>0</td>\n",
              "      <td>1</td>\n",
              "      <td>0</td>\n",
              "      <td>0</td>\n",
              "      <td>0</td>\n",
              "      <td>0</td>\n",
              "    </tr>\n",
              "    <tr>\n",
              "      <th>3</th>\n",
              "      <td>0.666</td>\n",
              "      <td>26</td>\n",
              "      <td>0</td>\n",
              "      <td>0</td>\n",
              "      <td>0</td>\n",
              "      <td>0</td>\n",
              "      <td>0</td>\n",
              "      <td>0</td>\n",
              "      <td>0</td>\n",
              "      <td>0</td>\n",
              "      <td>0</td>\n",
              "      <td>0</td>\n",
              "      <td>0</td>\n",
              "      <td>0</td>\n",
              "      <td>0</td>\n",
              "      <td>0</td>\n",
              "      <td>0</td>\n",
              "      <td>0</td>\n",
              "      <td>0</td>\n",
              "      <td>0</td>\n",
              "      <td>0</td>\n",
              "      <td>0</td>\n",
              "      <td>0</td>\n",
              "      <td>0</td>\n",
              "      <td>0</td>\n",
              "      <td>0</td>\n",
              "      <td>0</td>\n",
              "      <td>0</td>\n",
              "      <td>0</td>\n",
              "      <td>0</td>\n",
              "      <td>0</td>\n",
              "      <td>0</td>\n",
              "      <td>0</td>\n",
              "      <td>0</td>\n",
              "      <td>0</td>\n",
              "      <td>0</td>\n",
              "      <td>0</td>\n",
              "      <td>0</td>\n",
              "      <td>0</td>\n",
              "      <td>0</td>\n",
              "      <td>...</td>\n",
              "      <td>0</td>\n",
              "      <td>0</td>\n",
              "      <td>0</td>\n",
              "      <td>1</td>\n",
              "      <td>0</td>\n",
              "      <td>0</td>\n",
              "      <td>0</td>\n",
              "      <td>0</td>\n",
              "      <td>0</td>\n",
              "      <td>0</td>\n",
              "      <td>0</td>\n",
              "      <td>0</td>\n",
              "      <td>0</td>\n",
              "      <td>0</td>\n",
              "      <td>0</td>\n",
              "      <td>0</td>\n",
              "      <td>0</td>\n",
              "      <td>0</td>\n",
              "      <td>0</td>\n",
              "      <td>0</td>\n",
              "      <td>0</td>\n",
              "      <td>0</td>\n",
              "      <td>0</td>\n",
              "      <td>0</td>\n",
              "      <td>1</td>\n",
              "      <td>0</td>\n",
              "      <td>0</td>\n",
              "      <td>0</td>\n",
              "      <td>0</td>\n",
              "      <td>0</td>\n",
              "      <td>0</td>\n",
              "      <td>0</td>\n",
              "      <td>0</td>\n",
              "      <td>1</td>\n",
              "      <td>1</td>\n",
              "      <td>0</td>\n",
              "      <td>0</td>\n",
              "      <td>0</td>\n",
              "      <td>0</td>\n",
              "      <td>0</td>\n",
              "    </tr>\n",
              "    <tr>\n",
              "      <th>4</th>\n",
              "      <td>0.887</td>\n",
              "      <td>88</td>\n",
              "      <td>0</td>\n",
              "      <td>0</td>\n",
              "      <td>1</td>\n",
              "      <td>0</td>\n",
              "      <td>0</td>\n",
              "      <td>0</td>\n",
              "      <td>0</td>\n",
              "      <td>0</td>\n",
              "      <td>0</td>\n",
              "      <td>0</td>\n",
              "      <td>0</td>\n",
              "      <td>0</td>\n",
              "      <td>0</td>\n",
              "      <td>0</td>\n",
              "      <td>0</td>\n",
              "      <td>0</td>\n",
              "      <td>0</td>\n",
              "      <td>0</td>\n",
              "      <td>0</td>\n",
              "      <td>0</td>\n",
              "      <td>0</td>\n",
              "      <td>0</td>\n",
              "      <td>0</td>\n",
              "      <td>0</td>\n",
              "      <td>0</td>\n",
              "      <td>0</td>\n",
              "      <td>0</td>\n",
              "      <td>0</td>\n",
              "      <td>0</td>\n",
              "      <td>0</td>\n",
              "      <td>0</td>\n",
              "      <td>0</td>\n",
              "      <td>0</td>\n",
              "      <td>0</td>\n",
              "      <td>0</td>\n",
              "      <td>0</td>\n",
              "      <td>0</td>\n",
              "      <td>0</td>\n",
              "      <td>...</td>\n",
              "      <td>0</td>\n",
              "      <td>0</td>\n",
              "      <td>0</td>\n",
              "      <td>0</td>\n",
              "      <td>0</td>\n",
              "      <td>0</td>\n",
              "      <td>0</td>\n",
              "      <td>0</td>\n",
              "      <td>0</td>\n",
              "      <td>0</td>\n",
              "      <td>0</td>\n",
              "      <td>0</td>\n",
              "      <td>0</td>\n",
              "      <td>0</td>\n",
              "      <td>0</td>\n",
              "      <td>0</td>\n",
              "      <td>1</td>\n",
              "      <td>0</td>\n",
              "      <td>0</td>\n",
              "      <td>0</td>\n",
              "      <td>0</td>\n",
              "      <td>0</td>\n",
              "      <td>0</td>\n",
              "      <td>0</td>\n",
              "      <td>1</td>\n",
              "      <td>0</td>\n",
              "      <td>0</td>\n",
              "      <td>0</td>\n",
              "      <td>0</td>\n",
              "      <td>0</td>\n",
              "      <td>0</td>\n",
              "      <td>0</td>\n",
              "      <td>0</td>\n",
              "      <td>1</td>\n",
              "      <td>0</td>\n",
              "      <td>1</td>\n",
              "      <td>0</td>\n",
              "      <td>0</td>\n",
              "      <td>0</td>\n",
              "      <td>0</td>\n",
              "    </tr>\n",
              "  </tbody>\n",
              "</table>\n",
              "<p>5 rows × 186 columns</p>\n",
              "</div>"
            ],
            "text/plain": [
              "   city_development_index  training_hours  ...  last_new_job_>4  last_new_job_never\n",
              "0                   0.689             106  ...                0                   0\n",
              "1                   0.923              69  ...                0                   0\n",
              "2                   0.910               4  ...                0                   0\n",
              "3                   0.666              26  ...                0                   0\n",
              "4                   0.887              88  ...                0                   0\n",
              "\n",
              "[5 rows x 186 columns]"
            ]
          },
          "metadata": {
            "tags": []
          },
          "execution_count": 31
        }
      ]
    },
    {
      "cell_type": "markdown",
      "metadata": {
        "id": "WRhBuuTmiFj5"
      },
      "source": [
        "## 7/ Build Model"
      ]
    },
    {
      "cell_type": "code",
      "metadata": {
        "id": "38tT2GHbiFj5"
      },
      "source": [
        "#CodeSection15\n",
        "#Start by importing LogisticRegression \n",
        "from sklearn.linear_model import LogisticRegression\n",
        "\n",
        "#Initialize LogisticRegression\n",
        "clf = LogisticRegression(max_iter=1000)"
      ],
      "execution_count": 34,
      "outputs": []
    },
    {
      "cell_type": "code",
      "metadata": {
        "id": "9cq0bOsfiFj5"
      },
      "source": [
        "#CodeSection16\n",
        "# Fit Model\n",
        "model = clf.fit(X,Y)"
      ],
      "execution_count": 35,
      "outputs": []
    },
    {
      "cell_type": "markdown",
      "metadata": {
        "id": "wQf7LF69iFj5"
      },
      "source": [
        "### Check Accuracy of Model on Train Data"
      ]
    },
    {
      "cell_type": "code",
      "metadata": {
        "id": "zOt6uShziFj6",
        "colab": {
          "base_uri": "https://localhost:8080/"
        },
        "outputId": "1a5c001c-fc21-451f-cb34-5437f60d11ec"
      },
      "source": [
        "#CodeSection17\n",
        "# Predict on Train Data and check predictions\n",
        "y_pred = model.predict(X)\n",
        "y_pred"
      ],
      "execution_count": 36,
      "outputs": [
        {
          "output_type": "execute_result",
          "data": {
            "text/plain": [
              "array([0, 0, 0, ..., 0, 0, 0])"
            ]
          },
          "metadata": {
            "tags": []
          },
          "execution_count": 36
        }
      ]
    },
    {
      "cell_type": "markdown",
      "metadata": {
        "id": "VXnu1f7-iFj6"
      },
      "source": [
        "### We can use a Accuracy Function from Metrics"
      ]
    },
    {
      "cell_type": "code",
      "metadata": {
        "id": "LAUQyGZMiFj6"
      },
      "source": [
        "#CodeSection17\n",
        "# Import accuracy_score \n",
        "from sklearn.metrics import accuracy_score"
      ],
      "execution_count": 37,
      "outputs": []
    },
    {
      "cell_type": "code",
      "metadata": {
        "id": "VeX4mQpTiFj6"
      },
      "source": [
        "#CodeSection18\n",
        "# Get Actual Predictions\n",
        "y_true = train['target']"
      ],
      "execution_count": 38,
      "outputs": []
    },
    {
      "cell_type": "code",
      "metadata": {
        "id": "mM5qYmxdiFj6",
        "colab": {
          "base_uri": "https://localhost:8080/"
        },
        "outputId": "fbe1a4cf-37df-4a1f-a969-a4e443aeeda2"
      },
      "source": [
        "#CodeSection19\n",
        "# Compare True values versus prediction we made\n",
        "print(f\" Train Accuracy : {accuracy_score(y_true, y_pred):0.1%}\")"
      ],
      "execution_count": 39,
      "outputs": [
        {
          "output_type": "stream",
          "text": [
            " Train Accuracy : 86.8%\n"
          ],
          "name": "stdout"
        }
      ]
    },
    {
      "cell_type": "markdown",
      "metadata": {
        "id": "kFTUAVHziFj7"
      },
      "source": [
        "## 8/ Prediction and Submission"
      ]
    },
    {
      "cell_type": "markdown",
      "metadata": {
        "id": "zS4262opiFj7"
      },
      "source": [
        "### Predict"
      ]
    },
    {
      "cell_type": "code",
      "metadata": {
        "id": "BqHghoMfiFj7"
      },
      "source": [
        "#CodeSection20\n",
        "# Get X variables from the Test Dataset\n",
        "X_test = test.drop('enrollee_id', axis=1)"
      ],
      "execution_count": 40,
      "outputs": []
    },
    {
      "cell_type": "code",
      "metadata": {
        "id": "bKurOpsViFj8"
      },
      "source": [
        "#CodeSection21\n",
        "#Covert to Dummies\n",
        "X_test = pd.get_dummies(X_test)"
      ],
      "execution_count": 41,
      "outputs": []
    },
    {
      "cell_type": "code",
      "metadata": {
        "id": "zMjMes-IiFj9"
      },
      "source": [
        "#CodeSection22\n",
        "# Predict (Y/N) on X Variables of Test Dataset\n",
        "X_test_prep = model.predict(X_test)"
      ],
      "execution_count": 42,
      "outputs": []
    },
    {
      "cell_type": "markdown",
      "metadata": {
        "id": "RQi0yS9IiFj-"
      },
      "source": [
        "### Import Sample Submission"
      ]
    },
    {
      "cell_type": "code",
      "metadata": {
        "id": "Mv-6NhYciFkA",
        "colab": {
          "base_uri": "https://localhost:8080/",
          "height": 204
        },
        "outputId": "a1baf8d8-b338-4eab-c646-ebc5a3761c1f"
      },
      "source": [
        "#CodeSection23\n",
        "sample_submission = pd.read_csv(\"/mntDrive/MyDrive/__DataScience/3 HR Analytics/input/sample_submission.csv\")\n",
        "sample_submission.head()"
      ],
      "execution_count": 44,
      "outputs": [
        {
          "output_type": "execute_result",
          "data": {
            "text/html": [
              "<div>\n",
              "<style scoped>\n",
              "    .dataframe tbody tr th:only-of-type {\n",
              "        vertical-align: middle;\n",
              "    }\n",
              "\n",
              "    .dataframe tbody tr th {\n",
              "        vertical-align: top;\n",
              "    }\n",
              "\n",
              "    .dataframe thead th {\n",
              "        text-align: right;\n",
              "    }\n",
              "</style>\n",
              "<table border=\"1\" class=\"dataframe\">\n",
              "  <thead>\n",
              "    <tr style=\"text-align: right;\">\n",
              "      <th></th>\n",
              "      <th>enrollee_id</th>\n",
              "      <th>target</th>\n",
              "    </tr>\n",
              "  </thead>\n",
              "  <tbody>\n",
              "    <tr>\n",
              "      <th>0</th>\n",
              "      <td>16548</td>\n",
              "      <td>0</td>\n",
              "    </tr>\n",
              "    <tr>\n",
              "      <th>1</th>\n",
              "      <td>12036</td>\n",
              "      <td>0</td>\n",
              "    </tr>\n",
              "    <tr>\n",
              "      <th>2</th>\n",
              "      <td>11061</td>\n",
              "      <td>0</td>\n",
              "    </tr>\n",
              "    <tr>\n",
              "      <th>3</th>\n",
              "      <td>5032</td>\n",
              "      <td>0</td>\n",
              "    </tr>\n",
              "    <tr>\n",
              "      <th>4</th>\n",
              "      <td>17599</td>\n",
              "      <td>0</td>\n",
              "    </tr>\n",
              "  </tbody>\n",
              "</table>\n",
              "</div>"
            ],
            "text/plain": [
              "   enrollee_id  target\n",
              "0        16548       0\n",
              "1        12036       0\n",
              "2        11061       0\n",
              "3         5032       0\n",
              "4        17599       0"
            ]
          },
          "metadata": {
            "tags": []
          },
          "execution_count": 44
        }
      ]
    },
    {
      "cell_type": "markdown",
      "metadata": {
        "id": "UIlHgS_LpdKc"
      },
      "source": [
        "### Create a Submission"
      ]
    },
    {
      "cell_type": "code",
      "metadata": {
        "id": "lks82JZ5iFkB"
      },
      "source": [
        "#CodeSection24\n",
        "submission = pd.DataFrame({\n",
        "    'enrollee_id' : test['enrollee_id']   ,\n",
        "    'target' : X_test_prep\n",
        "})"
      ],
      "execution_count": 46,
      "outputs": []
    },
    {
      "cell_type": "markdown",
      "metadata": {
        "id": "DI7R68dViFkC"
      },
      "source": [
        "### Export Submission File"
      ]
    },
    {
      "cell_type": "code",
      "metadata": {
        "id": "25VvG4jDiFkC"
      },
      "source": [
        "#CodeSection25\n",
        "submission.to_csv('/mntDrive/MyDrive/__DataScience/3 HR Analytics/output/O2_LR_Basic_Impute.csv', index = False)"
      ],
      "execution_count": 47,
      "outputs": []
    },
    {
      "cell_type": "code",
      "metadata": {
        "id": "DWt7MvntiFkC"
      },
      "source": [
        "# LB Accuracy : 0.50"
      ],
      "execution_count": 48,
      "outputs": []
    }
  ]
}