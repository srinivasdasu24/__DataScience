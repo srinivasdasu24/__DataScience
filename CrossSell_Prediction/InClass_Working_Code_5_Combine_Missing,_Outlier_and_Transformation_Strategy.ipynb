{
  "nbformat": 4,
  "nbformat_minor": 0,
  "metadata": {
    "kernelspec": {
      "display_name": "Python 3",
      "language": "python",
      "name": "python3"
    },
    "language_info": {
      "codemirror_mode": {
        "name": "ipython",
        "version": 3
      },
      "file_extension": ".py",
      "mimetype": "text/x-python",
      "name": "python",
      "nbconvert_exporter": "python",
      "pygments_lexer": "ipython3",
      "version": "3.7.6"
    },
    "colab": {
      "name": "InClass Working Code 5 - Combine Missing, Outlier and Transformation Strategy.ipynb",
      "provenance": [],
      "include_colab_link": true
    }
  },
  "cells": [
    {
      "cell_type": "markdown",
      "metadata": {
        "id": "view-in-github",
        "colab_type": "text"
      },
      "source": [
        "<a href=\"https://colab.research.google.com/github/srinivasdasu24/__DataScience/blob/main/CrossSell_Prediction/InClass_Working_Code_5_Combine_Missing%2C_Outlier_and_Transformation_Strategy.ipynb\" target=\"_parent\"><img src=\"https://colab.research.google.com/assets/colab-badge.svg\" alt=\"Open In Colab\"/></a>"
      ]
    },
    {
      "cell_type": "markdown",
      "metadata": {
        "id": "lFwktUA6a7zH"
      },
      "source": [
        "# Code 5\n",
        "- Combine all Strategy\n",
        "  - Missing Value Imputation\n",
        "  - Outlier Startegy\n",
        "  - Tranformation Strategy"
      ]
    },
    {
      "cell_type": "markdown",
      "metadata": {
        "id": "9DXfa773a7zZ"
      },
      "source": [
        "## 1/ Import Libraries"
      ]
    },
    {
      "cell_type": "code",
      "metadata": {
        "colab": {
          "base_uri": "https://localhost:8080/"
        },
        "id": "s7o2t9blWo-b",
        "outputId": "41539480-434a-4aea-88d9-bac1c96948a6"
      },
      "source": [
        "#CodeSection1\n",
        "from google.colab import drive\n",
        "drive.mount('/mntDrive') "
      ],
      "execution_count": 1,
      "outputs": [
        {
          "output_type": "stream",
          "text": [
            "Drive already mounted at /mntDrive; to attempt to forcibly remount, call drive.mount(\"/mntDrive\", force_remount=True).\n"
          ],
          "name": "stdout"
        }
      ]
    },
    {
      "cell_type": "code",
      "metadata": {
        "id": "n8yqRIuha7zn"
      },
      "source": [
        "#CodeSection2\n",
        "import pandas as pd\n",
        "import numpy as np"
      ],
      "execution_count": 2,
      "outputs": []
    },
    {
      "cell_type": "markdown",
      "metadata": {
        "id": "wRz6crvoa7zo"
      },
      "source": [
        "## 2/ Import Data"
      ]
    },
    {
      "cell_type": "code",
      "metadata": {
        "id": "3u-V5dA4a7zp"
      },
      "source": [
        "#CodeSection3\n",
        "train = pd.read_csv('/mntDrive/MyDrive/__DataScience/2 Cross Sell Prediction/input/train.csv')\n",
        "test = pd.read_csv('/mntDrive/MyDrive/__DataScience/2 Cross Sell Prediction/input/test.csv')"
      ],
      "execution_count": 3,
      "outputs": []
    },
    {
      "cell_type": "markdown",
      "metadata": {
        "id": "k-SeaUk9a7zp"
      },
      "source": [
        "## 3/ Combine both Datasets (train, test)"
      ]
    },
    {
      "cell_type": "code",
      "metadata": {
        "id": "LOCJ0YdIa7zq"
      },
      "source": [
        "#CodeSection4\n",
        "all_data = [train, test]"
      ],
      "execution_count": 4,
      "outputs": []
    },
    {
      "cell_type": "markdown",
      "metadata": {
        "id": "ox_afLNJtkyO"
      },
      "source": [
        "### Check Combined Data \n",
        "- Missing Value\n",
        "- Data Types"
      ]
    },
    {
      "cell_type": "code",
      "metadata": {
        "id": "T_aFcU3Na7zq",
        "colab": {
          "base_uri": "https://localhost:8080/"
        },
        "outputId": "c54468c3-b83d-4833-e9fd-ba4bfb3f83b2"
      },
      "source": [
        "#CodeSection5\n",
        "# Combine both to check Missing Value\n",
        "pd.concat([train, test], axis = 0).isnull().sum()"
      ],
      "execution_count": 5,
      "outputs": [
        {
          "output_type": "execute_result",
          "data": {
            "text/plain": [
              "id                           0\n",
              "Gender                       0\n",
              "Age                          0\n",
              "Driving_License              0\n",
              "Region_Code                  0\n",
              "Previously_Insured           0\n",
              "Vehicle_Age                  0\n",
              "Vehicle_Damage               0\n",
              "Annual_Premium               0\n",
              "Policy_Sales_Channel         0\n",
              "Vintage                      0\n",
              "Response                127037\n",
              "dtype: int64"
            ]
          },
          "metadata": {
            "tags": []
          },
          "execution_count": 5
        }
      ]
    },
    {
      "cell_type": "code",
      "metadata": {
        "id": "yCMGv2mOa7zu",
        "colab": {
          "base_uri": "https://localhost:8080/"
        },
        "outputId": "efdb8f7c-0a27-4734-b35c-e9c1ef63cfa5"
      },
      "source": [
        "#CodeSection6\n",
        "# Check Data types for each variable\n",
        "train.info()"
      ],
      "execution_count": 6,
      "outputs": [
        {
          "output_type": "stream",
          "text": [
            "<class 'pandas.core.frame.DataFrame'>\n",
            "RangeIndex: 381109 entries, 0 to 381108\n",
            "Data columns (total 12 columns):\n",
            " #   Column                Non-Null Count   Dtype  \n",
            "---  ------                --------------   -----  \n",
            " 0   id                    381109 non-null  int64  \n",
            " 1   Gender                381109 non-null  object \n",
            " 2   Age                   381109 non-null  int64  \n",
            " 3   Driving_License       381109 non-null  int64  \n",
            " 4   Region_Code           381109 non-null  float64\n",
            " 5   Previously_Insured    381109 non-null  int64  \n",
            " 6   Vehicle_Age           381109 non-null  object \n",
            " 7   Vehicle_Damage        381109 non-null  object \n",
            " 8   Annual_Premium        381109 non-null  float64\n",
            " 9   Policy_Sales_Channel  381109 non-null  float64\n",
            " 10  Vintage               381109 non-null  int64  \n",
            " 11  Response              381109 non-null  int64  \n",
            "dtypes: float64(3), int64(6), object(3)\n",
            "memory usage: 34.9+ MB\n"
          ],
          "name": "stdout"
        }
      ]
    },
    {
      "cell_type": "markdown",
      "metadata": {
        "id": "I5pEcQeA-g8O"
      },
      "source": [
        "## 4/ Numerical Processing"
      ]
    },
    {
      "cell_type": "markdown",
      "metadata": {
        "id": "am7cBDhea70L"
      },
      "source": [
        "### 4.1/ Impute Numerical Variables"
      ]
    },
    {
      "cell_type": "code",
      "metadata": {
        "id": "HyWOSnV8a70M"
      },
      "source": [
        "#CodeSection7\n",
        "# Identify all Numerical features\n",
        "numerical_features = ['Age', 'Driving_License', 'Region_Code', 'Previously_Insured','Annual_Premium', 'Policy_Sales_Channel','Vintage']"
      ],
      "execution_count": 7,
      "outputs": []
    },
    {
      "cell_type": "code",
      "metadata": {
        "id": "wKeHM9QPw34r"
      },
      "source": [
        "#CodeSection8\n",
        "# Import SimpleImputer\n",
        "from sklearn.impute import SimpleImputer"
      ],
      "execution_count": 8,
      "outputs": []
    },
    {
      "cell_type": "code",
      "metadata": {
        "colab": {
          "base_uri": "https://localhost:8080/"
        },
        "id": "m9x91IzDxJzs",
        "outputId": "d250be8e-2706-49d2-9aab-bb09bce1e49a"
      },
      "source": [
        "#CodeSection9\n",
        "\n",
        "#Initiate SimpleImputer\n",
        "num_impute = SimpleImputer(strategy='median')\n",
        "\n",
        "# Fit SimpleImputer on Numerical Features\n",
        "num_impute.fit(train[numerical_features])"
      ],
      "execution_count": 9,
      "outputs": [
        {
          "output_type": "execute_result",
          "data": {
            "text/plain": [
              "SimpleImputer(add_indicator=False, copy=True, fill_value=None,\n",
              "              missing_values=nan, strategy='median', verbose=0)"
            ]
          },
          "metadata": {
            "tags": []
          },
          "execution_count": 9
        }
      ]
    },
    {
      "cell_type": "code",
      "metadata": {
        "id": "epvvVNkayVtm"
      },
      "source": [
        "#CodeSection10\n",
        "# Impute Train and Test\n",
        "for data in all_data:\n",
        "  data[numerical_features] = num_impute.transform(data[numerical_features])"
      ],
      "execution_count": 10,
      "outputs": []
    },
    {
      "cell_type": "markdown",
      "metadata": {
        "id": "RbXNGRsG0SPc"
      },
      "source": [
        "### 4.2/ Outlier Strategy"
      ]
    },
    {
      "cell_type": "code",
      "metadata": {
        "id": "Yq5wHuyv0Z8C"
      },
      "source": [
        "#CodeSection11\n",
        "\n",
        "# Write a loop to detect and impute Outliers\n",
        "for num_var in numerical_features:\n",
        "  Q1 = train[num_var].quantile(0.25)\n",
        "  Q3 = train[num_var].quantile(0.75)\n",
        "\n",
        "  IQR = Q3-Q1\n",
        "\n",
        "  Lower_Whisker = Q1 - 1.5*IQR\n",
        "  Upper_Whisker = Q3 + 1.5*IQR\n",
        "\n",
        "  for dataset in all_data:\n",
        "    dataset[num_var] = dataset[num_var].apply(lambda x : Upper_Whisker if x > Upper_Whisker else x)"
      ],
      "execution_count": 11,
      "outputs": []
    },
    {
      "cell_type": "markdown",
      "metadata": {
        "id": "xeAnDRX-0sdl"
      },
      "source": [
        "### 4.3/ Transformation Strategy"
      ]
    },
    {
      "cell_type": "code",
      "metadata": {
        "id": "X_NG_Fhb-5JX"
      },
      "source": [
        "#CodeSection12\n",
        "# Import StandardScaler\n",
        "from sklearn.preprocessing import StandardScaler"
      ],
      "execution_count": 12,
      "outputs": []
    },
    {
      "cell_type": "code",
      "metadata": {
        "colab": {
          "base_uri": "https://localhost:8080/"
        },
        "id": "dh5j-7VX_F17",
        "outputId": "560ced42-cf38-4881-fdce-05f34ed6ceb9"
      },
      "source": [
        "#CodeSection13\n",
        "\n",
        "#Initiate StandardScaler\n",
        "num_scale = StandardScaler()\n",
        "\n",
        "# Fit StandardScaler\n",
        "num_scale.fit(data[numerical_features])"
      ],
      "execution_count": 13,
      "outputs": [
        {
          "output_type": "execute_result",
          "data": {
            "text/plain": [
              "StandardScaler(copy=True, with_mean=True, with_std=True)"
            ]
          },
          "metadata": {
            "tags": []
          },
          "execution_count": 13
        }
      ]
    },
    {
      "cell_type": "code",
      "metadata": {
        "id": "ut4Uq32Z_STX"
      },
      "source": [
        "#CodeSection14\n",
        "# Scale Train and Test\n",
        "for data in all_data:\n",
        "  data[numerical_features] = num_scale.transform(data[numerical_features])"
      ],
      "execution_count": 14,
      "outputs": []
    },
    {
      "cell_type": "markdown",
      "metadata": {
        "id": "HSChDYATa70P"
      },
      "source": [
        "## 5/ Impute Categorical Variables"
      ]
    },
    {
      "cell_type": "markdown",
      "metadata": {
        "id": "D-qhcS6Ma70P"
      },
      "source": [
        "### Impute all Categorical Variables at once"
      ]
    },
    {
      "cell_type": "code",
      "metadata": {
        "id": "_JgFfORJa70Q"
      },
      "source": [
        "#CodeSection15\n",
        "# Identify all Categorical Features\n",
        "categorical_features = ['Gender', 'Vehicle_Damage', 'Vehicle_Age']"
      ],
      "execution_count": 15,
      "outputs": []
    },
    {
      "cell_type": "code",
      "metadata": {
        "id": "VDCqOfI9zJrF"
      },
      "source": [
        "#CodeSection16\n",
        "# Import SimpleImputer"
      ],
      "execution_count": 16,
      "outputs": []
    },
    {
      "cell_type": "code",
      "metadata": {
        "id": "jUWQ0FFpzMOa",
        "colab": {
          "base_uri": "https://localhost:8080/"
        },
        "outputId": "e4024e4d-d8f7-4441-9048-c85d613bedfb"
      },
      "source": [
        "#CodeSection17\n",
        "\n",
        "#Initiate SimpleImputer\n",
        "cat_impute = SimpleImputer(strategy='most_frequent')\n",
        "\n",
        "# Fit SimpleImputer\n",
        "cat_impute.fit(data[categorical_features])"
      ],
      "execution_count": 17,
      "outputs": [
        {
          "output_type": "execute_result",
          "data": {
            "text/plain": [
              "SimpleImputer(add_indicator=False, copy=True, fill_value=None,\n",
              "              missing_values=nan, strategy='most_frequent', verbose=0)"
            ]
          },
          "metadata": {
            "tags": []
          },
          "execution_count": 17
        }
      ]
    },
    {
      "cell_type": "code",
      "metadata": {
        "id": "567yT6Eaz5jg"
      },
      "source": [
        "#CodeSection18\n",
        "# Impute Train and Test\n",
        "for data in all_data:\n",
        "  data[categorical_features] = cat_impute.transform(data[categorical_features])"
      ],
      "execution_count": 18,
      "outputs": []
    },
    {
      "cell_type": "markdown",
      "metadata": {
        "id": "Yn4guIioa70V"
      },
      "source": [
        "## 6/ Now Re Check all Features"
      ]
    },
    {
      "cell_type": "code",
      "metadata": {
        "id": "MHrl6vMma70W",
        "colab": {
          "base_uri": "https://localhost:8080/"
        },
        "outputId": "5068809c-20d5-42d1-a055-66b97b095f29"
      },
      "source": [
        "#CodeSection19\n",
        "# Combine both to check Missing Value\n",
        "pd.concat([train, test], axis = 0).isnull().sum()"
      ],
      "execution_count": 19,
      "outputs": [
        {
          "output_type": "execute_result",
          "data": {
            "text/plain": [
              "id                           0\n",
              "Gender                       0\n",
              "Age                          0\n",
              "Driving_License              0\n",
              "Region_Code                  0\n",
              "Previously_Insured           0\n",
              "Vehicle_Age                  0\n",
              "Vehicle_Damage               0\n",
              "Annual_Premium               0\n",
              "Policy_Sales_Channel         0\n",
              "Vintage                      0\n",
              "Response                127037\n",
              "dtype: int64"
            ]
          },
          "metadata": {
            "tags": []
          },
          "execution_count": 19
        }
      ]
    },
    {
      "cell_type": "markdown",
      "metadata": {
        "id": "6Ade98pva70W"
      },
      "source": [
        "## 8/ Prepare Data for Model Model"
      ]
    },
    {
      "cell_type": "code",
      "metadata": {
        "id": "TEySx0Nza70X",
        "colab": {
          "base_uri": "https://localhost:8080/",
          "height": 204
        },
        "outputId": "d9d045fb-1a6a-44fe-b42f-77248b430b0b"
      },
      "source": [
        "#CodeSection20\n",
        "# Check First 5 Rows of Test Data\n",
        "test.head()"
      ],
      "execution_count": 20,
      "outputs": [
        {
          "output_type": "execute_result",
          "data": {
            "text/html": [
              "<div>\n",
              "<style scoped>\n",
              "    .dataframe tbody tr th:only-of-type {\n",
              "        vertical-align: middle;\n",
              "    }\n",
              "\n",
              "    .dataframe tbody tr th {\n",
              "        vertical-align: top;\n",
              "    }\n",
              "\n",
              "    .dataframe thead th {\n",
              "        text-align: right;\n",
              "    }\n",
              "</style>\n",
              "<table border=\"1\" class=\"dataframe\">\n",
              "  <thead>\n",
              "    <tr style=\"text-align: right;\">\n",
              "      <th></th>\n",
              "      <th>id</th>\n",
              "      <th>Gender</th>\n",
              "      <th>Age</th>\n",
              "      <th>Driving_License</th>\n",
              "      <th>Region_Code</th>\n",
              "      <th>Previously_Insured</th>\n",
              "      <th>Vehicle_Age</th>\n",
              "      <th>Vehicle_Damage</th>\n",
              "      <th>Annual_Premium</th>\n",
              "      <th>Policy_Sales_Channel</th>\n",
              "      <th>Vintage</th>\n",
              "    </tr>\n",
              "  </thead>\n",
              "  <tbody>\n",
              "    <tr>\n",
              "      <th>0</th>\n",
              "      <td>381110</td>\n",
              "      <td>Male</td>\n",
              "      <td>-0.890089</td>\n",
              "      <td>0.043233</td>\n",
              "      <td>-1.170327</td>\n",
              "      <td>1.083387</td>\n",
              "      <td>&lt; 1 Year</td>\n",
              "      <td>No</td>\n",
              "      <td>0.365324</td>\n",
              "      <td>0.739349</td>\n",
              "      <td>-1.211054</td>\n",
              "    </tr>\n",
              "    <tr>\n",
              "      <th>1</th>\n",
              "      <td>381111</td>\n",
              "      <td>Male</td>\n",
              "      <td>0.079795</td>\n",
              "      <td>0.043233</td>\n",
              "      <td>0.116590</td>\n",
              "      <td>-0.923031</td>\n",
              "      <td>1-2 Year</td>\n",
              "      <td>Yes</td>\n",
              "      <td>0.234597</td>\n",
              "      <td>-1.927487</td>\n",
              "      <td>-0.517782</td>\n",
              "    </tr>\n",
              "    <tr>\n",
              "      <th>2</th>\n",
              "      <td>381112</td>\n",
              "      <td>Male</td>\n",
              "      <td>0.532408</td>\n",
              "      <td>0.043233</td>\n",
              "      <td>0.116590</td>\n",
              "      <td>-0.923031</td>\n",
              "      <td>1-2 Year</td>\n",
              "      <td>Yes</td>\n",
              "      <td>0.640728</td>\n",
              "      <td>0.224373</td>\n",
              "      <td>0.534079</td>\n",
              "    </tr>\n",
              "    <tr>\n",
              "      <th>3</th>\n",
              "      <td>381113</td>\n",
              "      <td>Male</td>\n",
              "      <td>-0.954748</td>\n",
              "      <td>0.043233</td>\n",
              "      <td>0.040889</td>\n",
              "      <td>1.083387</td>\n",
              "      <td>&lt; 1 Year</td>\n",
              "      <td>Yes</td>\n",
              "      <td>0.466728</td>\n",
              "      <td>0.739349</td>\n",
              "      <td>0.390643</td>\n",
              "    </tr>\n",
              "    <tr>\n",
              "      <th>4</th>\n",
              "      <td>381114</td>\n",
              "      <td>Male</td>\n",
              "      <td>-0.760771</td>\n",
              "      <td>0.043233</td>\n",
              "      <td>0.116590</td>\n",
              "      <td>1.083387</td>\n",
              "      <td>&lt; 1 Year</td>\n",
              "      <td>No</td>\n",
              "      <td>1.870940</td>\n",
              "      <td>0.739349</td>\n",
              "      <td>1.705469</td>\n",
              "    </tr>\n",
              "  </tbody>\n",
              "</table>\n",
              "</div>"
            ],
            "text/plain": [
              "       id Gender       Age  ...  Annual_Premium  Policy_Sales_Channel   Vintage\n",
              "0  381110   Male -0.890089  ...        0.365324              0.739349 -1.211054\n",
              "1  381111   Male  0.079795  ...        0.234597             -1.927487 -0.517782\n",
              "2  381112   Male  0.532408  ...        0.640728              0.224373  0.534079\n",
              "3  381113   Male -0.954748  ...        0.466728              0.739349  0.390643\n",
              "4  381114   Male -0.760771  ...        1.870940              0.739349  1.705469\n",
              "\n",
              "[5 rows x 11 columns]"
            ]
          },
          "metadata": {
            "tags": []
          },
          "execution_count": 20
        }
      ]
    },
    {
      "cell_type": "code",
      "metadata": {
        "id": "A6yS1pqza70X"
      },
      "source": [
        "#CodeSection21\n",
        "# Get X and y Variables for your Dataset\n",
        "X = train.drop(['id','Response'], axis =  1)\n",
        "y = train['id']"
      ],
      "execution_count": 21,
      "outputs": []
    },
    {
      "cell_type": "markdown",
      "metadata": {
        "id": "w1gJQ7Qsa70Y"
      },
      "source": [
        "### Create Dummy Variables for  Categorical Variables"
      ]
    },
    {
      "cell_type": "code",
      "metadata": {
        "id": "ipcXGR73a70Y"
      },
      "source": [
        "#CodeSection22\n",
        "# Get Dummy Variables\n",
        "X = pd.get_dummies(X, drop_first = True)  # Keep only n - 1 Variables - Use \"drop_first = True\""
      ],
      "execution_count": 22,
      "outputs": []
    },
    {
      "cell_type": "markdown",
      "metadata": {
        "id": "p62cfPzVa70Y"
      },
      "source": [
        "## 9/ Build Model"
      ]
    },
    {
      "cell_type": "code",
      "metadata": {
        "id": "GdLbPTCXa70Y"
      },
      "source": [
        "#CodeSection23\n",
        "#Import Logistic Regression Library\n",
        "from sklearn.linear_model import LogisticRegression\n",
        "\n",
        "#Initialize LR\n",
        "clf = LogisticRegression(max_iter = 500)"
      ],
      "execution_count": 23,
      "outputs": []
    },
    {
      "cell_type": "code",
      "metadata": {
        "id": "WrD0GfaSa70Z"
      },
      "source": [
        "#CodeSection24\n",
        "# Fit Model\n",
        "model = clf.fit(X, y)"
      ],
      "execution_count": null,
      "outputs": []
    },
    {
      "cell_type": "markdown",
      "metadata": {
        "id": "Omv4nWgwa70Z"
      },
      "source": [
        "### Check Accuracy of Model on Train Data"
      ]
    },
    {
      "cell_type": "code",
      "metadata": {
        "id": "PQi2u6uQa70Z"
      },
      "source": [
        "#CodeSection25\n",
        "# Predict on Train Data\n",
        "y_pred = model.predict(X)"
      ],
      "execution_count": null,
      "outputs": []
    },
    {
      "cell_type": "markdown",
      "metadata": {
        "id": "AqPB9qLLa70a"
      },
      "source": [
        "### We can use a Accuracy Function from Metrics\n",
        "- Check Train Accuracy"
      ]
    },
    {
      "cell_type": "code",
      "metadata": {
        "id": "L8VJNsHIa70a"
      },
      "source": [
        "#CodeSection26\n",
        "# Import metrics library\n",
        "from sklearn.metrics import accuracy_score"
      ],
      "execution_count": null,
      "outputs": []
    },
    {
      "cell_type": "code",
      "metadata": {
        "id": "jeeS7nkja70a"
      },
      "source": [
        "#CodeSection27\n",
        "# get Actual \"y\" variables (use \"y_true\" as variable)\n",
        "y_true = train['Response']"
      ],
      "execution_count": null,
      "outputs": []
    },
    {
      "cell_type": "code",
      "metadata": {
        "id": "p7llEg7aa70b"
      },
      "source": [
        "#CodeSection28\n",
        "# Print Train Accuracy\n",
        "print(f\" Train Accuracy : {accuracy_score(y_true, y_pred):0.1%}\")"
      ],
      "execution_count": null,
      "outputs": []
    },
    {
      "cell_type": "markdown",
      "metadata": {
        "id": "QIMZgLEWa70b"
      },
      "source": [
        "## 10/ Predict and Submit"
      ]
    },
    {
      "cell_type": "markdown",
      "metadata": {
        "id": "BwZubGmra70b"
      },
      "source": [
        "### Predict"
      ]
    },
    {
      "cell_type": "code",
      "metadata": {
        "id": "7qnE4K9Ca70c"
      },
      "source": [
        "#CodeSection29\n",
        "# Get all the X Variables from the Test Dataset\n",
        "X_test = test.drop(['id'], axis =  1)"
      ],
      "execution_count": null,
      "outputs": []
    },
    {
      "cell_type": "code",
      "metadata": {
        "id": "0ivs1ED7a70d"
      },
      "source": [
        "#CodeSection30\n",
        "#Covert to Dummies\n",
        "X_test = pd.get_dummies(X_test, drop_first = True)"
      ],
      "execution_count": null,
      "outputs": []
    },
    {
      "cell_type": "code",
      "metadata": {
        "id": "eE8sFN6Na70e"
      },
      "source": [
        "#CodeSection31\n",
        "# use this code if the next Code shows error\n",
        "#X_test['Married_Missing']  = 0"
      ],
      "execution_count": null,
      "outputs": []
    },
    {
      "cell_type": "code",
      "metadata": {
        "id": "cHsaBNQFa70e"
      },
      "source": [
        "#CodeSection32\n",
        "# Predict on X_test Data (\"X_test_prep\")\n",
        "X_test_prep = model.predict(X_test)"
      ],
      "execution_count": null,
      "outputs": []
    },
    {
      "cell_type": "markdown",
      "metadata": {
        "id": "SClle2xqa70e"
      },
      "source": [
        "### Create Submission File"
      ]
    },
    {
      "cell_type": "code",
      "metadata": {
        "id": "LgdlFL46a70f"
      },
      "source": [
        "#CodeSection33\n",
        "submission = pd.DataFrame({\n",
        "    'id' : test['id'],\n",
        "    'Response' : X_test_prep\n",
        "})"
      ],
      "execution_count": null,
      "outputs": []
    },
    {
      "cell_type": "markdown",
      "metadata": {
        "id": "MAZ0TP21a70g"
      },
      "source": [
        "### Export Submission File"
      ]
    },
    {
      "cell_type": "code",
      "metadata": {
        "id": "AnfbYZoKa70g"
      },
      "source": [
        "#CodeSection34\n",
        "submission.to_csv('/mntDrive/MyDrive/__DataScience/2 Cross Sell Prediction/output/O5_Preproccesing_All.csv', index = False)"
      ],
      "execution_count": null,
      "outputs": []
    },
    {
      "cell_type": "code",
      "metadata": {
        "id": "U2sTRyjncwh-"
      },
      "source": [
        "a = []\n",
        "while 1:\n",
        "    a.append(\"1\")"
      ],
      "execution_count": null,
      "outputs": []
    },
    {
      "cell_type": "code",
      "metadata": {
        "id": "n13R8vTfa70g"
      },
      "source": [
        "# LB Accuracy : 0.7777"
      ],
      "execution_count": null,
      "outputs": []
    }
  ]
}