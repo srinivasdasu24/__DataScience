{
  "nbformat": 4,
  "nbformat_minor": 0,
  "metadata": {
    "kernelspec": {
      "display_name": "Python 3",
      "language": "python",
      "name": "python3"
    },
    "language_info": {
      "codemirror_mode": {
        "name": "ipython",
        "version": 3
      },
      "file_extension": ".py",
      "mimetype": "text/x-python",
      "name": "python",
      "nbconvert_exporter": "python",
      "pygments_lexer": "ipython3",
      "version": "3.7.6"
    },
    "colab": {
      "name": "InClass Working Code 1 - Baseline Solution and first Submission.ipynb",
      "provenance": [],
      "collapsed_sections": [],
      "include_colab_link": true
    }
  },
  "cells": [
    {
      "cell_type": "markdown",
      "metadata": {
        "id": "view-in-github",
        "colab_type": "text"
      },
      "source": [
        "<a href=\"https://colab.research.google.com/github/srinivasdasu24/__DataScience/blob/main/CrossSell_Prediction/InClass_Working_Code_1_Baseline_Solution_and_first_Submission.ipynb\" target=\"_parent\"><img src=\"https://colab.research.google.com/assets/colab-badge.svg\" alt=\"Open In Colab\"/></a>"
      ]
    },
    {
      "cell_type": "markdown",
      "metadata": {
        "id": "DyQyLBpafqN1"
      },
      "source": [
        "# Code 1\n",
        "- Build Basic Pipeline\n",
        "- DataFrame Checks\n",
        "- Group By\n",
        "- If Then Model\n",
        "- First Submission\n",
        "- Import & Export"
      ]
    },
    {
      "cell_type": "markdown",
      "metadata": {
        "id": "E6GGM7FCfqN7"
      },
      "source": [
        "## 1/ Import Libraries\n",
        "- Mount Google Drive\n",
        "- Import Pandas Library"
      ]
    },
    {
      "cell_type": "code",
      "metadata": {
        "id": "ds0TQ-Q0goNm",
        "colab": {
          "base_uri": "https://localhost:8080/"
        },
        "outputId": "22245e34-6567-4579-f54a-e8e22db73965"
      },
      "source": [
        "#CodeSection1\n",
        "from google.colab import drive\n",
        "drive.mount('/mntDrive', force_remount=False) "
      ],
      "execution_count": null,
      "outputs": [
        {
          "output_type": "stream",
          "text": [
            "Mounted at /mntDrive\n"
          ],
          "name": "stdout"
        }
      ]
    },
    {
      "cell_type": "code",
      "metadata": {
        "id": "qh_ukDiHfqN8"
      },
      "source": [
        "#CodeSection2\n",
        "import pandas as pd"
      ],
      "execution_count": null,
      "outputs": []
    },
    {
      "cell_type": "markdown",
      "metadata": {
        "id": "-GJMWYMPfqN9"
      },
      "source": [
        "## 2/ Import Data\n",
        "- Import Train and Test [use read_csv()]"
      ]
    },
    {
      "cell_type": "code",
      "metadata": {
        "id": "JCWx92Ldhv-A"
      },
      "source": [
        "/mntDrive/MyDrive/Project MasterMind/1 - Planning Stage/2- Research/6- New Teaching Method/Loan Prediction (Webinar Flow)/Solution Codes/input/"
      ],
      "execution_count": null,
      "outputs": []
    },
    {
      "cell_type": "code",
      "metadata": {
        "id": "YJGrR7M8fqN9"
      },
      "source": [
        "#CodeSection3\n",
        "train = pd.read_csv('/mntDrive/MyDrive/__DataScience/2 Cross Sell Prediction/input/train.csv')\n",
        "test = pd.read_csv('/mntDrive/MyDrive/__DataScience/2 Cross Sell Prediction/input/test.csv')"
      ],
      "execution_count": null,
      "outputs": []
    },
    {
      "cell_type": "markdown",
      "metadata": {
        "id": "ASV_hmlEfqN9"
      },
      "source": [
        "### Check Train Data\n",
        "- Check first 5 rows of train [head(), info()]\n",
        "- Get Summary Statistics [describe()]\n",
        "- Check/Identify the \"y\"/dependent variable"
      ]
    },
    {
      "cell_type": "code",
      "metadata": {
        "colab": {
          "base_uri": "https://localhost:8080/",
          "height": 204
        },
        "id": "nad3bLcEfqN-",
        "outputId": "47aeb88f-c267-4207-bc5d-1f2b7d47b510"
      },
      "source": [
        "#CodeSection4\n",
        "train.head()"
      ],
      "execution_count": null,
      "outputs": [
        {
          "output_type": "execute_result",
          "data": {
            "text/html": [
              "<div>\n",
              "<style scoped>\n",
              "    .dataframe tbody tr th:only-of-type {\n",
              "        vertical-align: middle;\n",
              "    }\n",
              "\n",
              "    .dataframe tbody tr th {\n",
              "        vertical-align: top;\n",
              "    }\n",
              "\n",
              "    .dataframe thead th {\n",
              "        text-align: right;\n",
              "    }\n",
              "</style>\n",
              "<table border=\"1\" class=\"dataframe\">\n",
              "  <thead>\n",
              "    <tr style=\"text-align: right;\">\n",
              "      <th></th>\n",
              "      <th>id</th>\n",
              "      <th>Gender</th>\n",
              "      <th>Age</th>\n",
              "      <th>Driving_License</th>\n",
              "      <th>Region_Code</th>\n",
              "      <th>Previously_Insured</th>\n",
              "      <th>Vehicle_Age</th>\n",
              "      <th>Vehicle_Damage</th>\n",
              "      <th>Annual_Premium</th>\n",
              "      <th>Policy_Sales_Channel</th>\n",
              "      <th>Vintage</th>\n",
              "      <th>Response</th>\n",
              "    </tr>\n",
              "  </thead>\n",
              "  <tbody>\n",
              "    <tr>\n",
              "      <th>0</th>\n",
              "      <td>1</td>\n",
              "      <td>Male</td>\n",
              "      <td>44</td>\n",
              "      <td>1</td>\n",
              "      <td>28.0</td>\n",
              "      <td>0</td>\n",
              "      <td>&gt; 2 Years</td>\n",
              "      <td>Yes</td>\n",
              "      <td>40454.0</td>\n",
              "      <td>26.0</td>\n",
              "      <td>217</td>\n",
              "      <td>1</td>\n",
              "    </tr>\n",
              "    <tr>\n",
              "      <th>1</th>\n",
              "      <td>2</td>\n",
              "      <td>Male</td>\n",
              "      <td>76</td>\n",
              "      <td>1</td>\n",
              "      <td>3.0</td>\n",
              "      <td>0</td>\n",
              "      <td>1-2 Year</td>\n",
              "      <td>No</td>\n",
              "      <td>33536.0</td>\n",
              "      <td>26.0</td>\n",
              "      <td>183</td>\n",
              "      <td>0</td>\n",
              "    </tr>\n",
              "    <tr>\n",
              "      <th>2</th>\n",
              "      <td>3</td>\n",
              "      <td>Male</td>\n",
              "      <td>47</td>\n",
              "      <td>1</td>\n",
              "      <td>28.0</td>\n",
              "      <td>0</td>\n",
              "      <td>&gt; 2 Years</td>\n",
              "      <td>Yes</td>\n",
              "      <td>38294.0</td>\n",
              "      <td>26.0</td>\n",
              "      <td>27</td>\n",
              "      <td>1</td>\n",
              "    </tr>\n",
              "    <tr>\n",
              "      <th>3</th>\n",
              "      <td>4</td>\n",
              "      <td>Male</td>\n",
              "      <td>21</td>\n",
              "      <td>1</td>\n",
              "      <td>11.0</td>\n",
              "      <td>1</td>\n",
              "      <td>&lt; 1 Year</td>\n",
              "      <td>No</td>\n",
              "      <td>28619.0</td>\n",
              "      <td>152.0</td>\n",
              "      <td>203</td>\n",
              "      <td>0</td>\n",
              "    </tr>\n",
              "    <tr>\n",
              "      <th>4</th>\n",
              "      <td>5</td>\n",
              "      <td>Female</td>\n",
              "      <td>29</td>\n",
              "      <td>1</td>\n",
              "      <td>41.0</td>\n",
              "      <td>1</td>\n",
              "      <td>&lt; 1 Year</td>\n",
              "      <td>No</td>\n",
              "      <td>27496.0</td>\n",
              "      <td>152.0</td>\n",
              "      <td>39</td>\n",
              "      <td>0</td>\n",
              "    </tr>\n",
              "  </tbody>\n",
              "</table>\n",
              "</div>"
            ],
            "text/plain": [
              "   id  Gender  Age  ...  Policy_Sales_Channel  Vintage  Response\n",
              "0   1    Male   44  ...                  26.0      217         1\n",
              "1   2    Male   76  ...                  26.0      183         0\n",
              "2   3    Male   47  ...                  26.0       27         1\n",
              "3   4    Male   21  ...                 152.0      203         0\n",
              "4   5  Female   29  ...                 152.0       39         0\n",
              "\n",
              "[5 rows x 12 columns]"
            ]
          },
          "metadata": {
            "tags": []
          },
          "execution_count": 4
        }
      ]
    },
    {
      "cell_type": "code",
      "metadata": {
        "colab": {
          "base_uri": "https://localhost:8080/"
        },
        "id": "RlHxQZfVwRqh",
        "outputId": "cbdde1a9-9ec5-414d-b745-b4eba1b007c2"
      },
      "source": [
        "train['Response']"
      ],
      "execution_count": null,
      "outputs": [
        {
          "output_type": "execute_result",
          "data": {
            "text/plain": [
              "0         1\n",
              "1         0\n",
              "2         1\n",
              "3         0\n",
              "4         0\n",
              "         ..\n",
              "381104    0\n",
              "381105    0\n",
              "381106    0\n",
              "381107    0\n",
              "381108    0\n",
              "Name: Response, Length: 381109, dtype: int64"
            ]
          },
          "metadata": {
            "tags": []
          },
          "execution_count": 20
        }
      ]
    },
    {
      "cell_type": "code",
      "metadata": {
        "colab": {
          "base_uri": "https://localhost:8080/",
          "height": 410
        },
        "id": "Hd1i5xlafqN_",
        "outputId": "cce81e56-19c8-4343-c987-631238b6ff8b"
      },
      "source": [
        "#CodeSection5\n",
        "train.describe(include=\"all\")"
      ],
      "execution_count": null,
      "outputs": [
        {
          "output_type": "execute_result",
          "data": {
            "text/html": [
              "<div>\n",
              "<style scoped>\n",
              "    .dataframe tbody tr th:only-of-type {\n",
              "        vertical-align: middle;\n",
              "    }\n",
              "\n",
              "    .dataframe tbody tr th {\n",
              "        vertical-align: top;\n",
              "    }\n",
              "\n",
              "    .dataframe thead th {\n",
              "        text-align: right;\n",
              "    }\n",
              "</style>\n",
              "<table border=\"1\" class=\"dataframe\">\n",
              "  <thead>\n",
              "    <tr style=\"text-align: right;\">\n",
              "      <th></th>\n",
              "      <th>id</th>\n",
              "      <th>Gender</th>\n",
              "      <th>Age</th>\n",
              "      <th>Driving_License</th>\n",
              "      <th>Region_Code</th>\n",
              "      <th>Previously_Insured</th>\n",
              "      <th>Vehicle_Age</th>\n",
              "      <th>Vehicle_Damage</th>\n",
              "      <th>Annual_Premium</th>\n",
              "      <th>Policy_Sales_Channel</th>\n",
              "      <th>Vintage</th>\n",
              "      <th>Response</th>\n",
              "    </tr>\n",
              "  </thead>\n",
              "  <tbody>\n",
              "    <tr>\n",
              "      <th>count</th>\n",
              "      <td>381109.000000</td>\n",
              "      <td>381109</td>\n",
              "      <td>381109.000000</td>\n",
              "      <td>381109.000000</td>\n",
              "      <td>381109.000000</td>\n",
              "      <td>381109.000000</td>\n",
              "      <td>381109</td>\n",
              "      <td>381109</td>\n",
              "      <td>381109.000000</td>\n",
              "      <td>381109.000000</td>\n",
              "      <td>381109.000000</td>\n",
              "      <td>381109.000000</td>\n",
              "    </tr>\n",
              "    <tr>\n",
              "      <th>unique</th>\n",
              "      <td>NaN</td>\n",
              "      <td>2</td>\n",
              "      <td>NaN</td>\n",
              "      <td>NaN</td>\n",
              "      <td>NaN</td>\n",
              "      <td>NaN</td>\n",
              "      <td>3</td>\n",
              "      <td>2</td>\n",
              "      <td>NaN</td>\n",
              "      <td>NaN</td>\n",
              "      <td>NaN</td>\n",
              "      <td>NaN</td>\n",
              "    </tr>\n",
              "    <tr>\n",
              "      <th>top</th>\n",
              "      <td>NaN</td>\n",
              "      <td>Male</td>\n",
              "      <td>NaN</td>\n",
              "      <td>NaN</td>\n",
              "      <td>NaN</td>\n",
              "      <td>NaN</td>\n",
              "      <td>1-2 Year</td>\n",
              "      <td>Yes</td>\n",
              "      <td>NaN</td>\n",
              "      <td>NaN</td>\n",
              "      <td>NaN</td>\n",
              "      <td>NaN</td>\n",
              "    </tr>\n",
              "    <tr>\n",
              "      <th>freq</th>\n",
              "      <td>NaN</td>\n",
              "      <td>206089</td>\n",
              "      <td>NaN</td>\n",
              "      <td>NaN</td>\n",
              "      <td>NaN</td>\n",
              "      <td>NaN</td>\n",
              "      <td>200316</td>\n",
              "      <td>192413</td>\n",
              "      <td>NaN</td>\n",
              "      <td>NaN</td>\n",
              "      <td>NaN</td>\n",
              "      <td>NaN</td>\n",
              "    </tr>\n",
              "    <tr>\n",
              "      <th>mean</th>\n",
              "      <td>190555.000000</td>\n",
              "      <td>NaN</td>\n",
              "      <td>38.822584</td>\n",
              "      <td>0.997869</td>\n",
              "      <td>26.388807</td>\n",
              "      <td>0.458210</td>\n",
              "      <td>NaN</td>\n",
              "      <td>NaN</td>\n",
              "      <td>30564.389581</td>\n",
              "      <td>112.034295</td>\n",
              "      <td>154.347397</td>\n",
              "      <td>0.122563</td>\n",
              "    </tr>\n",
              "    <tr>\n",
              "      <th>std</th>\n",
              "      <td>110016.836208</td>\n",
              "      <td>NaN</td>\n",
              "      <td>15.511611</td>\n",
              "      <td>0.046110</td>\n",
              "      <td>13.229888</td>\n",
              "      <td>0.498251</td>\n",
              "      <td>NaN</td>\n",
              "      <td>NaN</td>\n",
              "      <td>17213.155057</td>\n",
              "      <td>54.203995</td>\n",
              "      <td>83.671304</td>\n",
              "      <td>0.327936</td>\n",
              "    </tr>\n",
              "    <tr>\n",
              "      <th>min</th>\n",
              "      <td>1.000000</td>\n",
              "      <td>NaN</td>\n",
              "      <td>20.000000</td>\n",
              "      <td>0.000000</td>\n",
              "      <td>0.000000</td>\n",
              "      <td>0.000000</td>\n",
              "      <td>NaN</td>\n",
              "      <td>NaN</td>\n",
              "      <td>2630.000000</td>\n",
              "      <td>1.000000</td>\n",
              "      <td>10.000000</td>\n",
              "      <td>0.000000</td>\n",
              "    </tr>\n",
              "    <tr>\n",
              "      <th>25%</th>\n",
              "      <td>95278.000000</td>\n",
              "      <td>NaN</td>\n",
              "      <td>25.000000</td>\n",
              "      <td>1.000000</td>\n",
              "      <td>15.000000</td>\n",
              "      <td>0.000000</td>\n",
              "      <td>NaN</td>\n",
              "      <td>NaN</td>\n",
              "      <td>24405.000000</td>\n",
              "      <td>29.000000</td>\n",
              "      <td>82.000000</td>\n",
              "      <td>0.000000</td>\n",
              "    </tr>\n",
              "    <tr>\n",
              "      <th>50%</th>\n",
              "      <td>190555.000000</td>\n",
              "      <td>NaN</td>\n",
              "      <td>36.000000</td>\n",
              "      <td>1.000000</td>\n",
              "      <td>28.000000</td>\n",
              "      <td>0.000000</td>\n",
              "      <td>NaN</td>\n",
              "      <td>NaN</td>\n",
              "      <td>31669.000000</td>\n",
              "      <td>133.000000</td>\n",
              "      <td>154.000000</td>\n",
              "      <td>0.000000</td>\n",
              "    </tr>\n",
              "    <tr>\n",
              "      <th>75%</th>\n",
              "      <td>285832.000000</td>\n",
              "      <td>NaN</td>\n",
              "      <td>49.000000</td>\n",
              "      <td>1.000000</td>\n",
              "      <td>35.000000</td>\n",
              "      <td>1.000000</td>\n",
              "      <td>NaN</td>\n",
              "      <td>NaN</td>\n",
              "      <td>39400.000000</td>\n",
              "      <td>152.000000</td>\n",
              "      <td>227.000000</td>\n",
              "      <td>0.000000</td>\n",
              "    </tr>\n",
              "    <tr>\n",
              "      <th>max</th>\n",
              "      <td>381109.000000</td>\n",
              "      <td>NaN</td>\n",
              "      <td>85.000000</td>\n",
              "      <td>1.000000</td>\n",
              "      <td>52.000000</td>\n",
              "      <td>1.000000</td>\n",
              "      <td>NaN</td>\n",
              "      <td>NaN</td>\n",
              "      <td>540165.000000</td>\n",
              "      <td>163.000000</td>\n",
              "      <td>299.000000</td>\n",
              "      <td>1.000000</td>\n",
              "    </tr>\n",
              "  </tbody>\n",
              "</table>\n",
              "</div>"
            ],
            "text/plain": [
              "                   id  Gender  ...        Vintage       Response\n",
              "count   381109.000000  381109  ...  381109.000000  381109.000000\n",
              "unique            NaN       2  ...            NaN            NaN\n",
              "top               NaN    Male  ...            NaN            NaN\n",
              "freq              NaN  206089  ...            NaN            NaN\n",
              "mean    190555.000000     NaN  ...     154.347397       0.122563\n",
              "std     110016.836208     NaN  ...      83.671304       0.327936\n",
              "min          1.000000     NaN  ...      10.000000       0.000000\n",
              "25%      95278.000000     NaN  ...      82.000000       0.000000\n",
              "50%     190555.000000     NaN  ...     154.000000       0.000000\n",
              "75%     285832.000000     NaN  ...     227.000000       0.000000\n",
              "max     381109.000000     NaN  ...     299.000000       1.000000\n",
              "\n",
              "[11 rows x 12 columns]"
            ]
          },
          "metadata": {
            "tags": []
          },
          "execution_count": 7
        }
      ]
    },
    {
      "cell_type": "code",
      "metadata": {
        "id": "UwEuGg3sfqN_"
      },
      "source": [
        "#CodeSection6\n",
        "# Convert/Map Load_Status (Y/N) to  (1/0)\n",
        "# Only do this step if you have non-numerical label in the \"y\" variable\n"
      ],
      "execution_count": null,
      "outputs": []
    },
    {
      "cell_type": "code",
      "metadata": {
        "colab": {
          "base_uri": "https://localhost:8080/"
        },
        "id": "CNnj4LL-fqN_",
        "outputId": "05e1835d-04cd-4d2f-bb0f-0ddd41fa90ea"
      },
      "source": [
        "#CodeSection7\n",
        "train.info()"
      ],
      "execution_count": null,
      "outputs": [
        {
          "output_type": "stream",
          "text": [
            "<class 'pandas.core.frame.DataFrame'>\n",
            "RangeIndex: 381109 entries, 0 to 381108\n",
            "Data columns (total 12 columns):\n",
            " #   Column                Non-Null Count   Dtype  \n",
            "---  ------                --------------   -----  \n",
            " 0   id                    381109 non-null  int64  \n",
            " 1   Gender                381109 non-null  object \n",
            " 2   Age                   381109 non-null  int64  \n",
            " 3   Driving_License       381109 non-null  int64  \n",
            " 4   Region_Code           381109 non-null  float64\n",
            " 5   Previously_Insured    381109 non-null  int64  \n",
            " 6   Vehicle_Age           381109 non-null  object \n",
            " 7   Vehicle_Damage        381109 non-null  object \n",
            " 8   Annual_Premium        381109 non-null  float64\n",
            " 9   Policy_Sales_Channel  381109 non-null  float64\n",
            " 10  Vintage               381109 non-null  int64  \n",
            " 11  Response              381109 non-null  int64  \n",
            "dtypes: float64(3), int64(6), object(3)\n",
            "memory usage: 34.9+ MB\n"
          ],
          "name": "stdout"
        }
      ]
    },
    {
      "cell_type": "markdown",
      "metadata": {
        "id": "iDTljRIXfqOA"
      },
      "source": [
        "### Check Test Data\n",
        "- Check first 5 rows of test [head(), info()]\n",
        "- Get Summary Statistics [describe()]\n",
        "- Check/Identify the \"y\"/dependent variable"
      ]
    },
    {
      "cell_type": "code",
      "metadata": {
        "colab": {
          "base_uri": "https://localhost:8080/",
          "height": 204
        },
        "id": "HoewayP1sIRb",
        "outputId": "38ca7ab4-a5df-4a07-96dc-68609c7278e8"
      },
      "source": [
        "#CodeSection8\n",
        "test.head()"
      ],
      "execution_count": null,
      "outputs": [
        {
          "output_type": "execute_result",
          "data": {
            "text/html": [
              "<div>\n",
              "<style scoped>\n",
              "    .dataframe tbody tr th:only-of-type {\n",
              "        vertical-align: middle;\n",
              "    }\n",
              "\n",
              "    .dataframe tbody tr th {\n",
              "        vertical-align: top;\n",
              "    }\n",
              "\n",
              "    .dataframe thead th {\n",
              "        text-align: right;\n",
              "    }\n",
              "</style>\n",
              "<table border=\"1\" class=\"dataframe\">\n",
              "  <thead>\n",
              "    <tr style=\"text-align: right;\">\n",
              "      <th></th>\n",
              "      <th>id</th>\n",
              "      <th>Gender</th>\n",
              "      <th>Age</th>\n",
              "      <th>Driving_License</th>\n",
              "      <th>Region_Code</th>\n",
              "      <th>Previously_Insured</th>\n",
              "      <th>Vehicle_Age</th>\n",
              "      <th>Vehicle_Damage</th>\n",
              "      <th>Annual_Premium</th>\n",
              "      <th>Policy_Sales_Channel</th>\n",
              "      <th>Vintage</th>\n",
              "    </tr>\n",
              "  </thead>\n",
              "  <tbody>\n",
              "    <tr>\n",
              "      <th>0</th>\n",
              "      <td>381110</td>\n",
              "      <td>Male</td>\n",
              "      <td>25</td>\n",
              "      <td>1</td>\n",
              "      <td>11.0</td>\n",
              "      <td>1</td>\n",
              "      <td>&lt; 1 Year</td>\n",
              "      <td>No</td>\n",
              "      <td>35786.0</td>\n",
              "      <td>152.0</td>\n",
              "      <td>53</td>\n",
              "    </tr>\n",
              "    <tr>\n",
              "      <th>1</th>\n",
              "      <td>381111</td>\n",
              "      <td>Male</td>\n",
              "      <td>40</td>\n",
              "      <td>1</td>\n",
              "      <td>28.0</td>\n",
              "      <td>0</td>\n",
              "      <td>1-2 Year</td>\n",
              "      <td>Yes</td>\n",
              "      <td>33762.0</td>\n",
              "      <td>7.0</td>\n",
              "      <td>111</td>\n",
              "    </tr>\n",
              "    <tr>\n",
              "      <th>2</th>\n",
              "      <td>381112</td>\n",
              "      <td>Male</td>\n",
              "      <td>47</td>\n",
              "      <td>1</td>\n",
              "      <td>28.0</td>\n",
              "      <td>0</td>\n",
              "      <td>1-2 Year</td>\n",
              "      <td>Yes</td>\n",
              "      <td>40050.0</td>\n",
              "      <td>124.0</td>\n",
              "      <td>199</td>\n",
              "    </tr>\n",
              "    <tr>\n",
              "      <th>3</th>\n",
              "      <td>381113</td>\n",
              "      <td>Male</td>\n",
              "      <td>24</td>\n",
              "      <td>1</td>\n",
              "      <td>27.0</td>\n",
              "      <td>1</td>\n",
              "      <td>&lt; 1 Year</td>\n",
              "      <td>Yes</td>\n",
              "      <td>37356.0</td>\n",
              "      <td>152.0</td>\n",
              "      <td>187</td>\n",
              "    </tr>\n",
              "    <tr>\n",
              "      <th>4</th>\n",
              "      <td>381114</td>\n",
              "      <td>Male</td>\n",
              "      <td>27</td>\n",
              "      <td>1</td>\n",
              "      <td>28.0</td>\n",
              "      <td>1</td>\n",
              "      <td>&lt; 1 Year</td>\n",
              "      <td>No</td>\n",
              "      <td>59097.0</td>\n",
              "      <td>152.0</td>\n",
              "      <td>297</td>\n",
              "    </tr>\n",
              "  </tbody>\n",
              "</table>\n",
              "</div>"
            ],
            "text/plain": [
              "       id Gender  Age  ...  Annual_Premium  Policy_Sales_Channel  Vintage\n",
              "0  381110   Male   25  ...         35786.0                 152.0       53\n",
              "1  381111   Male   40  ...         33762.0                   7.0      111\n",
              "2  381112   Male   47  ...         40050.0                 124.0      199\n",
              "3  381113   Male   24  ...         37356.0                 152.0      187\n",
              "4  381114   Male   27  ...         59097.0                 152.0      297\n",
              "\n",
              "[5 rows x 11 columns]"
            ]
          },
          "metadata": {
            "tags": []
          },
          "execution_count": 8
        }
      ]
    },
    {
      "cell_type": "code",
      "metadata": {
        "colab": {
          "base_uri": "https://localhost:8080/"
        },
        "id": "EuELsx-cfqOA",
        "outputId": "398e30bc-f5b0-4e36-a832-286f754caaae"
      },
      "source": [
        "#CodeSection9\n",
        "test.info()"
      ],
      "execution_count": null,
      "outputs": [
        {
          "output_type": "stream",
          "text": [
            "<class 'pandas.core.frame.DataFrame'>\n",
            "RangeIndex: 127037 entries, 0 to 127036\n",
            "Data columns (total 11 columns):\n",
            " #   Column                Non-Null Count   Dtype  \n",
            "---  ------                --------------   -----  \n",
            " 0   id                    127037 non-null  int64  \n",
            " 1   Gender                127037 non-null  object \n",
            " 2   Age                   127037 non-null  int64  \n",
            " 3   Driving_License       127037 non-null  int64  \n",
            " 4   Region_Code           127037 non-null  float64\n",
            " 5   Previously_Insured    127037 non-null  int64  \n",
            " 6   Vehicle_Age           127037 non-null  object \n",
            " 7   Vehicle_Damage        127037 non-null  object \n",
            " 8   Annual_Premium        127037 non-null  float64\n",
            " 9   Policy_Sales_Channel  127037 non-null  float64\n",
            " 10  Vintage               127037 non-null  int64  \n",
            "dtypes: float64(3), int64(5), object(3)\n",
            "memory usage: 10.7+ MB\n"
          ],
          "name": "stdout"
        }
      ]
    },
    {
      "cell_type": "code",
      "metadata": {
        "colab": {
          "base_uri": "https://localhost:8080/",
          "height": 410
        },
        "id": "d9i2c0bCsLPI",
        "outputId": "6ff1551e-bebc-4d5b-bf34-13ee8cbcf86b"
      },
      "source": [
        "#CodeSection10\n",
        "test.describe(include=\"all\")"
      ],
      "execution_count": null,
      "outputs": [
        {
          "output_type": "execute_result",
          "data": {
            "text/html": [
              "<div>\n",
              "<style scoped>\n",
              "    .dataframe tbody tr th:only-of-type {\n",
              "        vertical-align: middle;\n",
              "    }\n",
              "\n",
              "    .dataframe tbody tr th {\n",
              "        vertical-align: top;\n",
              "    }\n",
              "\n",
              "    .dataframe thead th {\n",
              "        text-align: right;\n",
              "    }\n",
              "</style>\n",
              "<table border=\"1\" class=\"dataframe\">\n",
              "  <thead>\n",
              "    <tr style=\"text-align: right;\">\n",
              "      <th></th>\n",
              "      <th>id</th>\n",
              "      <th>Gender</th>\n",
              "      <th>Age</th>\n",
              "      <th>Driving_License</th>\n",
              "      <th>Region_Code</th>\n",
              "      <th>Previously_Insured</th>\n",
              "      <th>Vehicle_Age</th>\n",
              "      <th>Vehicle_Damage</th>\n",
              "      <th>Annual_Premium</th>\n",
              "      <th>Policy_Sales_Channel</th>\n",
              "      <th>Vintage</th>\n",
              "    </tr>\n",
              "  </thead>\n",
              "  <tbody>\n",
              "    <tr>\n",
              "      <th>count</th>\n",
              "      <td>127037.000000</td>\n",
              "      <td>127037</td>\n",
              "      <td>127037.000000</td>\n",
              "      <td>127037.000000</td>\n",
              "      <td>127037.000000</td>\n",
              "      <td>127037.000000</td>\n",
              "      <td>127037</td>\n",
              "      <td>127037</td>\n",
              "      <td>127037.000000</td>\n",
              "      <td>127037.000000</td>\n",
              "      <td>127037.000000</td>\n",
              "    </tr>\n",
              "    <tr>\n",
              "      <th>unique</th>\n",
              "      <td>NaN</td>\n",
              "      <td>2</td>\n",
              "      <td>NaN</td>\n",
              "      <td>NaN</td>\n",
              "      <td>NaN</td>\n",
              "      <td>NaN</td>\n",
              "      <td>3</td>\n",
              "      <td>2</td>\n",
              "      <td>NaN</td>\n",
              "      <td>NaN</td>\n",
              "      <td>NaN</td>\n",
              "    </tr>\n",
              "    <tr>\n",
              "      <th>top</th>\n",
              "      <td>NaN</td>\n",
              "      <td>Male</td>\n",
              "      <td>NaN</td>\n",
              "      <td>NaN</td>\n",
              "      <td>NaN</td>\n",
              "      <td>NaN</td>\n",
              "      <td>1-2 Year</td>\n",
              "      <td>Yes</td>\n",
              "      <td>NaN</td>\n",
              "      <td>NaN</td>\n",
              "      <td>NaN</td>\n",
              "    </tr>\n",
              "    <tr>\n",
              "      <th>freq</th>\n",
              "      <td>NaN</td>\n",
              "      <td>68236</td>\n",
              "      <td>NaN</td>\n",
              "      <td>NaN</td>\n",
              "      <td>NaN</td>\n",
              "      <td>NaN</td>\n",
              "      <td>66699</td>\n",
              "      <td>63835</td>\n",
              "      <td>NaN</td>\n",
              "      <td>NaN</td>\n",
              "      <td>NaN</td>\n",
              "    </tr>\n",
              "    <tr>\n",
              "      <th>mean</th>\n",
              "      <td>444628.000000</td>\n",
              "      <td>NaN</td>\n",
              "      <td>38.765903</td>\n",
              "      <td>0.998134</td>\n",
              "      <td>26.459866</td>\n",
              "      <td>0.460039</td>\n",
              "      <td>NaN</td>\n",
              "      <td>NaN</td>\n",
              "      <td>30524.643576</td>\n",
              "      <td>111.800468</td>\n",
              "      <td>154.318301</td>\n",
              "    </tr>\n",
              "    <tr>\n",
              "      <th>std</th>\n",
              "      <td>36672.567411</td>\n",
              "      <td>NaN</td>\n",
              "      <td>15.465814</td>\n",
              "      <td>0.043152</td>\n",
              "      <td>13.209916</td>\n",
              "      <td>0.498403</td>\n",
              "      <td>NaN</td>\n",
              "      <td>NaN</td>\n",
              "      <td>16945.297103</td>\n",
              "      <td>54.371765</td>\n",
              "      <td>83.661588</td>\n",
              "    </tr>\n",
              "    <tr>\n",
              "      <th>min</th>\n",
              "      <td>381110.000000</td>\n",
              "      <td>NaN</td>\n",
              "      <td>20.000000</td>\n",
              "      <td>0.000000</td>\n",
              "      <td>0.000000</td>\n",
              "      <td>0.000000</td>\n",
              "      <td>NaN</td>\n",
              "      <td>NaN</td>\n",
              "      <td>2630.000000</td>\n",
              "      <td>1.000000</td>\n",
              "      <td>10.000000</td>\n",
              "    </tr>\n",
              "    <tr>\n",
              "      <th>25%</th>\n",
              "      <td>412869.000000</td>\n",
              "      <td>NaN</td>\n",
              "      <td>25.000000</td>\n",
              "      <td>1.000000</td>\n",
              "      <td>15.000000</td>\n",
              "      <td>0.000000</td>\n",
              "      <td>NaN</td>\n",
              "      <td>NaN</td>\n",
              "      <td>24325.000000</td>\n",
              "      <td>26.000000</td>\n",
              "      <td>82.000000</td>\n",
              "    </tr>\n",
              "    <tr>\n",
              "      <th>50%</th>\n",
              "      <td>444628.000000</td>\n",
              "      <td>NaN</td>\n",
              "      <td>36.000000</td>\n",
              "      <td>1.000000</td>\n",
              "      <td>28.000000</td>\n",
              "      <td>0.000000</td>\n",
              "      <td>NaN</td>\n",
              "      <td>NaN</td>\n",
              "      <td>31642.000000</td>\n",
              "      <td>135.000000</td>\n",
              "      <td>154.000000</td>\n",
              "    </tr>\n",
              "    <tr>\n",
              "      <th>75%</th>\n",
              "      <td>476387.000000</td>\n",
              "      <td>NaN</td>\n",
              "      <td>49.000000</td>\n",
              "      <td>1.000000</td>\n",
              "      <td>35.000000</td>\n",
              "      <td>1.000000</td>\n",
              "      <td>NaN</td>\n",
              "      <td>NaN</td>\n",
              "      <td>39408.000000</td>\n",
              "      <td>152.000000</td>\n",
              "      <td>227.000000</td>\n",
              "    </tr>\n",
              "    <tr>\n",
              "      <th>max</th>\n",
              "      <td>508146.000000</td>\n",
              "      <td>NaN</td>\n",
              "      <td>85.000000</td>\n",
              "      <td>1.000000</td>\n",
              "      <td>52.000000</td>\n",
              "      <td>1.000000</td>\n",
              "      <td>NaN</td>\n",
              "      <td>NaN</td>\n",
              "      <td>472042.000000</td>\n",
              "      <td>163.000000</td>\n",
              "      <td>299.000000</td>\n",
              "    </tr>\n",
              "  </tbody>\n",
              "</table>\n",
              "</div>"
            ],
            "text/plain": [
              "                   id  Gender  ...  Policy_Sales_Channel        Vintage\n",
              "count   127037.000000  127037  ...         127037.000000  127037.000000\n",
              "unique            NaN       2  ...                   NaN            NaN\n",
              "top               NaN    Male  ...                   NaN            NaN\n",
              "freq              NaN   68236  ...                   NaN            NaN\n",
              "mean    444628.000000     NaN  ...            111.800468     154.318301\n",
              "std      36672.567411     NaN  ...             54.371765      83.661588\n",
              "min     381110.000000     NaN  ...              1.000000      10.000000\n",
              "25%     412869.000000     NaN  ...             26.000000      82.000000\n",
              "50%     444628.000000     NaN  ...            135.000000     154.000000\n",
              "75%     476387.000000     NaN  ...            152.000000     227.000000\n",
              "max     508146.000000     NaN  ...            163.000000     299.000000\n",
              "\n",
              "[11 rows x 11 columns]"
            ]
          },
          "metadata": {
            "tags": []
          },
          "execution_count": 10
        }
      ]
    },
    {
      "cell_type": "markdown",
      "metadata": {
        "id": "WsmzQG4ZfqOA"
      },
      "source": [
        "## 3/ Explore any one Valuable Variable \n",
        "- Identify all the Categorical Features\n",
        "- Within them choose one feature that helps predict the dependent variable\n",
        "- Use groupby along with sum() to get the \"y\" variable by the selected categoical feature\n",
        "- Use value_counts() to get the total number of rows in each category"
      ]
    },
    {
      "cell_type": "code",
      "metadata": {
        "colab": {
          "base_uri": "https://localhost:8080/",
          "height": 173
        },
        "id": "p4QZfgrUfqOB",
        "outputId": "51d14b36-1585-4eb8-abd4-90c8ffa78d1e"
      },
      "source": [
        "#CodeSection11\n",
        "# We will use \"Married\" for this example\n",
        "# You can select any other variable of your choice\n",
        "train.groupby('Vehicle_Age').sum()"
      ],
      "execution_count": null,
      "outputs": [
        {
          "output_type": "execute_result",
          "data": {
            "text/html": [
              "<div>\n",
              "<style scoped>\n",
              "    .dataframe tbody tr th:only-of-type {\n",
              "        vertical-align: middle;\n",
              "    }\n",
              "\n",
              "    .dataframe tbody tr th {\n",
              "        vertical-align: top;\n",
              "    }\n",
              "\n",
              "    .dataframe thead th {\n",
              "        text-align: right;\n",
              "    }\n",
              "</style>\n",
              "<table border=\"1\" class=\"dataframe\">\n",
              "  <thead>\n",
              "    <tr style=\"text-align: right;\">\n",
              "      <th></th>\n",
              "      <th>id</th>\n",
              "      <th>Age</th>\n",
              "      <th>Driving_License</th>\n",
              "      <th>Region_Code</th>\n",
              "      <th>Previously_Insured</th>\n",
              "      <th>Annual_Premium</th>\n",
              "      <th>Policy_Sales_Channel</th>\n",
              "      <th>Vintage</th>\n",
              "      <th>Response</th>\n",
              "    </tr>\n",
              "    <tr>\n",
              "      <th>Vehicle_Age</th>\n",
              "      <th></th>\n",
              "      <th></th>\n",
              "      <th></th>\n",
              "      <th></th>\n",
              "      <th></th>\n",
              "      <th></th>\n",
              "      <th></th>\n",
              "      <th></th>\n",
              "      <th></th>\n",
              "    </tr>\n",
              "  </thead>\n",
              "  <tbody>\n",
              "    <tr>\n",
              "      <th>1-2 Year</th>\n",
              "      <td>38199905951</td>\n",
              "      <td>9822202</td>\n",
              "      <td>199561</td>\n",
              "      <td>5381911.0</td>\n",
              "      <td>65325</td>\n",
              "      <td>6.114362e+09</td>\n",
              "      <td>17199381.0</td>\n",
              "      <td>30876338</td>\n",
              "      <td>34806</td>\n",
              "    </tr>\n",
              "    <tr>\n",
              "      <th>&lt; 1 Year</th>\n",
              "      <td>31376004306</td>\n",
              "      <td>4090298</td>\n",
              "      <td>164785</td>\n",
              "      <td>4237975.0</td>\n",
              "      <td>109257</td>\n",
              "      <td>4.963280e+09</td>\n",
              "      <td>24310537.0</td>\n",
              "      <td>25472367</td>\n",
              "      <td>7202</td>\n",
              "    </tr>\n",
              "    <tr>\n",
              "      <th>&gt; 2 Years</th>\n",
              "      <td>3046315238</td>\n",
              "      <td>883136</td>\n",
              "      <td>15951</td>\n",
              "      <td>437126.0</td>\n",
              "      <td>46</td>\n",
              "      <td>5.707216e+08</td>\n",
              "      <td>1187360.0</td>\n",
              "      <td>2474477</td>\n",
              "      <td>4702</td>\n",
              "    </tr>\n",
              "  </tbody>\n",
              "</table>\n",
              "</div>"
            ],
            "text/plain": [
              "                      id      Age  ...   Vintage  Response\n",
              "Vehicle_Age                        ...                    \n",
              "1-2 Year     38199905951  9822202  ...  30876338     34806\n",
              "< 1 Year     31376004306  4090298  ...  25472367      7202\n",
              "> 2 Years     3046315238   883136  ...   2474477      4702\n",
              "\n",
              "[3 rows x 9 columns]"
            ]
          },
          "metadata": {
            "tags": []
          },
          "execution_count": 27
        }
      ]
    },
    {
      "cell_type": "code",
      "metadata": {
        "colab": {
          "base_uri": "https://localhost:8080/"
        },
        "id": "5mTGDDqvh8Yj",
        "outputId": "e2fe1545-40bb-4499-bdfe-8e5eb5e8f343"
      },
      "source": [
        "#CodeSection12\n",
        "# Get count of rows based on each category in your selected Categorical Feature\n",
        "train['Vehicle_Age'].value_counts()"
      ],
      "execution_count": null,
      "outputs": [
        {
          "output_type": "execute_result",
          "data": {
            "text/plain": [
              "1-2 Year     200316\n",
              "< 1 Year     164786\n",
              "> 2 Years     16007\n",
              "Name: Vehicle_Age, dtype: int64"
            ]
          },
          "metadata": {
            "tags": []
          },
          "execution_count": 28
        }
      ]
    },
    {
      "cell_type": "markdown",
      "metadata": {
        "id": "mD26U43kuvPR"
      },
      "source": [
        "***Note : If the categorical feature has more than 2 values, choose the one with highest probability***"
      ]
    },
    {
      "cell_type": "code",
      "metadata": {
        "colab": {
          "base_uri": "https://localhost:8080/"
        },
        "id": "VMWh3Ks_fqOB",
        "outputId": "043531a6-8f2c-4a65-edf8-d37fa46719e9"
      },
      "source": [
        "#CodeSection13\n",
        "# Now the numbers to get the percentage of that category happening\n",
        "print(f\" Probability of <Category 1> happening: {34806/200316:0.1%}\")\n",
        "print(f\" Probability of <Category 2> happening : {7202/164786:0.1%}\")"
      ],
      "execution_count": null,
      "outputs": [
        {
          "output_type": "stream",
          "text": [
            " Probability of <Category 1> happening: 17.4%\n",
            " Probability of <Category 2> happening : 4.4%\n"
          ],
          "name": "stdout"
        }
      ]
    },
    {
      "cell_type": "markdown",
      "metadata": {
        "id": "0M8ck3hNfqOB"
      },
      "source": [
        "### Observation\n",
        "- Married Applicants have a higher probability of getting a Loan\n",
        "- use a IF then statement to Predict the \"y\"/dependent variable\n",
        "- Use apply(), lambda function on your selected categorical features"
      ]
    },
    {
      "cell_type": "code",
      "metadata": {
        "id": "wRJVdANhfqOB"
      },
      "source": [
        "#CodeSection14\n",
        "train['Prediction'] = train['Vehicle_Age'].apply(lambda x: 1 if x == '1-2 Year' else 0)"
      ],
      "execution_count": null,
      "outputs": []
    },
    {
      "cell_type": "code",
      "metadata": {
        "colab": {
          "base_uri": "https://localhost:8080/"
        },
        "id": "PnotcLTeNTFa",
        "outputId": "1e91795c-1e45-4f10-aea3-5aa1c248d213"
      },
      "source": [
        "train['Prediction']"
      ],
      "execution_count": null,
      "outputs": [
        {
          "output_type": "execute_result",
          "data": {
            "text/plain": [
              "0         0\n",
              "1         0\n",
              "2         0\n",
              "3         1\n",
              "4         1\n",
              "         ..\n",
              "381104    0\n",
              "381105    1\n",
              "381106    1\n",
              "381107    0\n",
              "381108    0\n",
              "Name: Prediction, Length: 381109, dtype: int64"
            ]
          },
          "metadata": {
            "tags": []
          },
          "execution_count": 39
        }
      ]
    },
    {
      "cell_type": "markdown",
      "metadata": {
        "id": "AutBPd9AfqOC"
      },
      "source": [
        "## 4/ Check Accuracy of Model on Train Data\n",
        "- Check using groupby() and sum() function"
      ]
    },
    {
      "cell_type": "code",
      "metadata": {
        "colab": {
          "base_uri": "https://localhost:8080/",
          "height": 173
        },
        "id": "YnqH-V54fqOC",
        "outputId": "0f3998b7-5260-42c3-d915-395ff0553925"
      },
      "source": [
        "#CodeSection15\n",
        "train.groupby('Vehicle_Age').sum()"
      ],
      "execution_count": null,
      "outputs": [
        {
          "output_type": "execute_result",
          "data": {
            "text/html": [
              "<div>\n",
              "<style scoped>\n",
              "    .dataframe tbody tr th:only-of-type {\n",
              "        vertical-align: middle;\n",
              "    }\n",
              "\n",
              "    .dataframe tbody tr th {\n",
              "        vertical-align: top;\n",
              "    }\n",
              "\n",
              "    .dataframe thead th {\n",
              "        text-align: right;\n",
              "    }\n",
              "</style>\n",
              "<table border=\"1\" class=\"dataframe\">\n",
              "  <thead>\n",
              "    <tr style=\"text-align: right;\">\n",
              "      <th></th>\n",
              "      <th>id</th>\n",
              "      <th>Age</th>\n",
              "      <th>Driving_License</th>\n",
              "      <th>Region_Code</th>\n",
              "      <th>Previously_Insured</th>\n",
              "      <th>Annual_Premium</th>\n",
              "      <th>Policy_Sales_Channel</th>\n",
              "      <th>Vintage</th>\n",
              "      <th>Response</th>\n",
              "      <th>Prediction</th>\n",
              "    </tr>\n",
              "    <tr>\n",
              "      <th>Vehicle_Age</th>\n",
              "      <th></th>\n",
              "      <th></th>\n",
              "      <th></th>\n",
              "      <th></th>\n",
              "      <th></th>\n",
              "      <th></th>\n",
              "      <th></th>\n",
              "      <th></th>\n",
              "      <th></th>\n",
              "      <th></th>\n",
              "    </tr>\n",
              "  </thead>\n",
              "  <tbody>\n",
              "    <tr>\n",
              "      <th>1-2 Year</th>\n",
              "      <td>38199905951</td>\n",
              "      <td>9822202</td>\n",
              "      <td>199561</td>\n",
              "      <td>5381911.0</td>\n",
              "      <td>65325</td>\n",
              "      <td>6.114362e+09</td>\n",
              "      <td>17199381.0</td>\n",
              "      <td>30876338</td>\n",
              "      <td>34806</td>\n",
              "      <td>200316</td>\n",
              "    </tr>\n",
              "    <tr>\n",
              "      <th>&lt; 1 Year</th>\n",
              "      <td>31376004306</td>\n",
              "      <td>4090298</td>\n",
              "      <td>164785</td>\n",
              "      <td>4237975.0</td>\n",
              "      <td>109257</td>\n",
              "      <td>4.963280e+09</td>\n",
              "      <td>24310537.0</td>\n",
              "      <td>25472367</td>\n",
              "      <td>7202</td>\n",
              "      <td>0</td>\n",
              "    </tr>\n",
              "    <tr>\n",
              "      <th>&gt; 2 Years</th>\n",
              "      <td>3046315238</td>\n",
              "      <td>883136</td>\n",
              "      <td>15951</td>\n",
              "      <td>437126.0</td>\n",
              "      <td>46</td>\n",
              "      <td>5.707216e+08</td>\n",
              "      <td>1187360.0</td>\n",
              "      <td>2474477</td>\n",
              "      <td>4702</td>\n",
              "      <td>0</td>\n",
              "    </tr>\n",
              "  </tbody>\n",
              "</table>\n",
              "</div>"
            ],
            "text/plain": [
              "                      id      Age  ...  Response  Prediction\n",
              "Vehicle_Age                        ...                      \n",
              "1-2 Year     38199905951  9822202  ...     34806      200316\n",
              "< 1 Year     31376004306  4090298  ...      7202           0\n",
              "> 2 Years     3046315238   883136  ...      4702           0\n",
              "\n",
              "[3 rows x 10 columns]"
            ]
          },
          "metadata": {
            "tags": []
          },
          "execution_count": 47
        }
      ]
    },
    {
      "cell_type": "markdown",
      "metadata": {
        "id": "ZtuCNVAjfqOC"
      },
      "source": [
        "### We can use a Accuracy Function from Metrics\n",
        "- Use the sklearn.metrics library\n",
        "- Within it we will choose the \"accuracy_score\" function\n",
        "- We will compare the Actual \"y\" against the Predicted \"y\" using the IF THEN model"
      ]
    },
    {
      "cell_type": "code",
      "metadata": {
        "id": "iQVpvrjXfqOC"
      },
      "source": [
        "#CodeSection16\n",
        "from sklearn.metrics import accuracy_score"
      ],
      "execution_count": null,
      "outputs": []
    },
    {
      "cell_type": "code",
      "metadata": {
        "id": "J7tnP164fqOC"
      },
      "source": [
        "#CodeSection17\n",
        "y_actual = train['Response']\n",
        "y_pred = train['Prediction']"
      ],
      "execution_count": null,
      "outputs": []
    },
    {
      "cell_type": "code",
      "metadata": {
        "id": "B_YaVRh7fqOD",
        "colab": {
          "base_uri": "https://localhost:8080/"
        },
        "outputId": "02ee7a80-6df4-4f18-b0d1-e74ee664f908"
      },
      "source": [
        "#CodeSection18\n",
        "print(f\" Train Accuracy : {accuracy_score(y_actual, y_pred):0.1%}\")"
      ],
      "execution_count": null,
      "outputs": [
        {
          "output_type": "stream",
          "text": [
            " Train Accuracy : 53.4%\n"
          ],
          "name": "stdout"
        }
      ]
    },
    {
      "cell_type": "markdown",
      "metadata": {
        "id": "OOQy_q8av0g2"
      },
      "source": [
        "***Q : What accuracy do you observe?***"
      ]
    },
    {
      "cell_type": "markdown",
      "metadata": {
        "id": "2r6oAJKbfqOD"
      },
      "source": [
        "## 5/ Prediction and Submission\n",
        "- now lets predict using unseen (test dataset); note test dataset does not have \"y\" variable\n",
        "- use apply() and lambda function combo again\n",
        "- check the prediciton using groupby() and sum()"
      ]
    },
    {
      "cell_type": "markdown",
      "metadata": {
        "id": "DnSQRupXjk_3"
      },
      "source": [
        "### Predict"
      ]
    },
    {
      "cell_type": "code",
      "metadata": {
        "id": "RtP7KgB9fqOD"
      },
      "source": [
        "#CodeSection19\n",
        "test['Prediction'] = test['Vehicle_Age'].apply(lambda x: 1 if x == '1-2 Year' else 0)"
      ],
      "execution_count": null,
      "outputs": []
    },
    {
      "cell_type": "code",
      "metadata": {
        "id": "hJy4ME5QfqOD",
        "colab": {
          "base_uri": "https://localhost:8080/",
          "height": 173
        },
        "outputId": "61b803f9-2745-48b9-ba5a-221032a13190"
      },
      "source": [
        "#CodeSection20\n",
        "test.groupby('Vehicle_Age').sum()"
      ],
      "execution_count": null,
      "outputs": [
        {
          "output_type": "execute_result",
          "data": {
            "text/html": [
              "<div>\n",
              "<style scoped>\n",
              "    .dataframe tbody tr th:only-of-type {\n",
              "        vertical-align: middle;\n",
              "    }\n",
              "\n",
              "    .dataframe tbody tr th {\n",
              "        vertical-align: top;\n",
              "    }\n",
              "\n",
              "    .dataframe thead th {\n",
              "        text-align: right;\n",
              "    }\n",
              "</style>\n",
              "<table border=\"1\" class=\"dataframe\">\n",
              "  <thead>\n",
              "    <tr style=\"text-align: right;\">\n",
              "      <th></th>\n",
              "      <th>id</th>\n",
              "      <th>Age</th>\n",
              "      <th>Driving_License</th>\n",
              "      <th>Region_Code</th>\n",
              "      <th>Previously_Insured</th>\n",
              "      <th>Annual_Premium</th>\n",
              "      <th>Policy_Sales_Channel</th>\n",
              "      <th>Vintage</th>\n",
              "      <th>Prediction</th>\n",
              "    </tr>\n",
              "    <tr>\n",
              "      <th>Vehicle_Age</th>\n",
              "      <th></th>\n",
              "      <th></th>\n",
              "      <th></th>\n",
              "      <th></th>\n",
              "      <th></th>\n",
              "      <th></th>\n",
              "      <th></th>\n",
              "      <th></th>\n",
              "      <th></th>\n",
              "    </tr>\n",
              "  </thead>\n",
              "  <tbody>\n",
              "    <tr>\n",
              "      <th>1-2 Year</th>\n",
              "      <td>29647531603</td>\n",
              "      <td>3266329</td>\n",
              "      <td>66478</td>\n",
              "      <td>1795813.0</td>\n",
              "      <td>21745</td>\n",
              "      <td>2.033646e+09</td>\n",
              "      <td>5703721.0</td>\n",
              "      <td>10295667</td>\n",
              "      <td>66699</td>\n",
              "    </tr>\n",
              "    <tr>\n",
              "      <th>&lt; 1 Year</th>\n",
              "      <td>24474088645</td>\n",
              "      <td>1366212</td>\n",
              "      <td>55016</td>\n",
              "      <td>1419999.0</td>\n",
              "      <td>36687</td>\n",
              "      <td>1.655221e+09</td>\n",
              "      <td>8102819.0</td>\n",
              "      <td>8482943</td>\n",
              "      <td>0</td>\n",
              "    </tr>\n",
              "    <tr>\n",
              "      <th>&gt; 2 Years</th>\n",
              "      <td>2362586988</td>\n",
              "      <td>292163</td>\n",
              "      <td>5306</td>\n",
              "      <td>145570.0</td>\n",
              "      <td>10</td>\n",
              "      <td>1.888922e+08</td>\n",
              "      <td>396256.0</td>\n",
              "      <td>825524</td>\n",
              "      <td>0</td>\n",
              "    </tr>\n",
              "  </tbody>\n",
              "</table>\n",
              "</div>"
            ],
            "text/plain": [
              "                      id      Age  ...   Vintage  Prediction\n",
              "Vehicle_Age                        ...                      \n",
              "1-2 Year     29647531603  3266329  ...  10295667       66699\n",
              "< 1 Year     24474088645  1366212  ...   8482943           0\n",
              "> 2 Years     2362586988   292163  ...    825524           0\n",
              "\n",
              "[3 rows x 9 columns]"
            ]
          },
          "metadata": {
            "tags": []
          },
          "execution_count": 51
        }
      ]
    },
    {
      "cell_type": "code",
      "metadata": {
        "id": "FAKWHRTOfqOE"
      },
      "source": [
        "#CodeSection21\n",
        "# We will use (Y/N) to match it to the Competition Submission Data\n",
        "test['Insurance_Pred'] = test['Vehicle_Age'].apply(lambda x: 1 if x ==  '1-2 Year' else 0)"
      ],
      "execution_count": null,
      "outputs": []
    },
    {
      "cell_type": "markdown",
      "metadata": {
        "id": "og70_esDwaQR"
      },
      "source": [
        "*Use **value_counts()** to check your prediction split*"
      ]
    },
    {
      "cell_type": "code",
      "metadata": {
        "id": "vb76kCIkfqOE",
        "colab": {
          "base_uri": "https://localhost:8080/"
        },
        "outputId": "0143f7ef-f4a1-4920-b318-ce520b0a3428"
      },
      "source": [
        "#CodeSection21\n",
        "test['Insurance_Pred'].value_counts()"
      ],
      "execution_count": null,
      "outputs": [
        {
          "output_type": "execute_result",
          "data": {
            "text/plain": [
              "1    66699\n",
              "0    60338\n",
              "Name: Insurance_Pred, dtype: int64"
            ]
          },
          "metadata": {
            "tags": []
          },
          "execution_count": 53
        }
      ]
    },
    {
      "cell_type": "markdown",
      "metadata": {
        "id": "bpr_SiLifqOE"
      },
      "source": [
        "### Import Sample Submission\n",
        "- Import the Submission file and check the first 5 rows\n",
        "- Use read_csv() and head()"
      ]
    },
    {
      "cell_type": "code",
      "metadata": {
        "id": "t3fm-IxCfqOE",
        "colab": {
          "base_uri": "https://localhost:8080/",
          "height": 204
        },
        "outputId": "3c67c9c5-c2cd-4487-ba7f-5135c5107be4"
      },
      "source": [
        "#CodeSection22\n",
        "sample_submission = pd.read_csv(\"/mntDrive/MyDrive/__DataScience/2 Cross Sell Prediction/input/sample_submission.csv\")\n",
        "sample_submission.head()"
      ],
      "execution_count": null,
      "outputs": [
        {
          "output_type": "execute_result",
          "data": {
            "text/html": [
              "<div>\n",
              "<style scoped>\n",
              "    .dataframe tbody tr th:only-of-type {\n",
              "        vertical-align: middle;\n",
              "    }\n",
              "\n",
              "    .dataframe tbody tr th {\n",
              "        vertical-align: top;\n",
              "    }\n",
              "\n",
              "    .dataframe thead th {\n",
              "        text-align: right;\n",
              "    }\n",
              "</style>\n",
              "<table border=\"1\" class=\"dataframe\">\n",
              "  <thead>\n",
              "    <tr style=\"text-align: right;\">\n",
              "      <th></th>\n",
              "      <th>id</th>\n",
              "      <th>Response</th>\n",
              "    </tr>\n",
              "  </thead>\n",
              "  <tbody>\n",
              "    <tr>\n",
              "      <th>0</th>\n",
              "      <td>381110</td>\n",
              "      <td>0</td>\n",
              "    </tr>\n",
              "    <tr>\n",
              "      <th>1</th>\n",
              "      <td>381111</td>\n",
              "      <td>0</td>\n",
              "    </tr>\n",
              "    <tr>\n",
              "      <th>2</th>\n",
              "      <td>381112</td>\n",
              "      <td>0</td>\n",
              "    </tr>\n",
              "    <tr>\n",
              "      <th>3</th>\n",
              "      <td>381113</td>\n",
              "      <td>0</td>\n",
              "    </tr>\n",
              "    <tr>\n",
              "      <th>4</th>\n",
              "      <td>381114</td>\n",
              "      <td>0</td>\n",
              "    </tr>\n",
              "  </tbody>\n",
              "</table>\n",
              "</div>"
            ],
            "text/plain": [
              "       id  Response\n",
              "0  381110         0\n",
              "1  381111         0\n",
              "2  381112         0\n",
              "3  381113         0\n",
              "4  381114         0"
            ]
          },
          "metadata": {
            "tags": []
          },
          "execution_count": 54
        }
      ]
    },
    {
      "cell_type": "markdown",
      "metadata": {
        "id": "3oG5Y2vXxZhA"
      },
      "source": [
        "### Create a Submission\n",
        "- Create a Dictionary to attach both the columns\n",
        "- Convert the Dictionary to Pandas Dataframe [use DataFrame()]"
      ]
    },
    {
      "cell_type": "code",
      "metadata": {
        "id": "ZJco0-CzfqOF"
      },
      "source": [
        "#CodeSection23\n",
        "submission = pd.DataFrame({\n",
        "    'id' : test['id']   ,\n",
        "    'Response' : test['Insurance_Pred']\n",
        "})"
      ],
      "execution_count": null,
      "outputs": []
    },
    {
      "cell_type": "markdown",
      "metadata": {
        "id": "l42kPOrtfqOF"
      },
      "source": [
        "### Export Submission File\n",
        "- Export to output folder"
      ]
    },
    {
      "cell_type": "code",
      "metadata": {
        "id": "WK916nlgfqOF"
      },
      "source": [
        "#CodeSection24\n",
        "# Ensure you don't export the index.\n",
        "submission.to_csv(\"/mntDrive/MyDrive/__DataScience/2 Cross Sell Prediction/output/01_IF_THEN_w.csv\", index= False)"
      ],
      "execution_count": null,
      "outputs": []
    },
    {
      "cell_type": "code",
      "metadata": {
        "id": "NAvcfnSbfqOF"
      },
      "source": [
        "# LB Accuracy : 0.6223"
      ],
      "execution_count": null,
      "outputs": []
    }
  ]
}