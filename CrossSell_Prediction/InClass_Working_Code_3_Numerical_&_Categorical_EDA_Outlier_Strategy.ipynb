{
  "nbformat": 4,
  "nbformat_minor": 0,
  "metadata": {
    "kernelspec": {
      "display_name": "Python 3",
      "language": "python",
      "name": "python3"
    },
    "language_info": {
      "codemirror_mode": {
        "name": "ipython",
        "version": 3
      },
      "file_extension": ".py",
      "mimetype": "text/x-python",
      "name": "python",
      "nbconvert_exporter": "python",
      "pygments_lexer": "ipython3",
      "version": "3.7.6"
    },
    "colab": {
      "name": "InClass Working Code 3 - Numerical & Categorical EDA Outlier Strategy.ipynb",
      "provenance": [],
      "collapsed_sections": [
        "w1gJQ7Qsa70Y",
        "Omv4nWgwa70Z",
        "AqPB9qLLa70a",
        "MAZ0TP21a70g"
      ],
      "include_colab_link": true
    }
  },
  "cells": [
    {
      "cell_type": "markdown",
      "metadata": {
        "id": "view-in-github",
        "colab_type": "text"
      },
      "source": [
        "<a href=\"https://colab.research.google.com/github/srinivasdasu24/__DataScience/blob/main/CrossSell_Prediction/InClass_Working_Code_3_Numerical_%26_Categorical_EDA_Outlier_Strategy.ipynb\" target=\"_parent\"><img src=\"https://colab.research.google.com/assets/colab-badge.svg\" alt=\"Open In Colab\"/></a>"
      ]
    },
    {
      "cell_type": "markdown",
      "metadata": {
        "id": "lFwktUA6a7zH"
      },
      "source": [
        "# Code 3\n",
        "- Numerical & Categorical EDA\n",
        "  - Outlier Detection and Basic Imputation (Mean/Median/Mode)\n",
        "- Logistic Model (Balanced/ Unbalanced)"
      ]
    },
    {
      "cell_type": "markdown",
      "metadata": {
        "id": "9DXfa773a7zZ"
      },
      "source": [
        "## 1/ Import Libraries"
      ]
    },
    {
      "cell_type": "code",
      "metadata": {
        "colab": {
          "base_uri": "https://localhost:8080/"
        },
        "id": "s7o2t9blWo-b",
        "outputId": "f239749e-1a13-41f5-9c6f-9362a9045c7d"
      },
      "source": [
        "#CodeSection1\n",
        "from google.colab import drive\n",
        "drive.mount('/mntDrive') "
      ],
      "execution_count": null,
      "outputs": [
        {
          "output_type": "stream",
          "text": [
            "Mounted at /mntDrive\n"
          ],
          "name": "stdout"
        }
      ]
    },
    {
      "cell_type": "code",
      "metadata": {
        "id": "n8yqRIuha7zn"
      },
      "source": [
        "#CodeSection2\n",
        "import pandas as pd\n",
        "import numpy as np"
      ],
      "execution_count": null,
      "outputs": []
    },
    {
      "cell_type": "markdown",
      "metadata": {
        "id": "wRz6crvoa7zo"
      },
      "source": [
        "## 2/ Import Data"
      ]
    },
    {
      "cell_type": "code",
      "metadata": {
        "id": "3u-V5dA4a7zp"
      },
      "source": [
        "#CodeSection3\n",
        "train = pd.read_csv('/mntDrive/MyDrive/__DataScience/2 Cross Sell Prediction/input/train.csv')\n",
        "test = pd.read_csv('/mntDrive/MyDrive/__DataScience/2 Cross Sell Prediction/input/test.csv')"
      ],
      "execution_count": null,
      "outputs": []
    },
    {
      "cell_type": "markdown",
      "metadata": {
        "id": "k-SeaUk9a7zp"
      },
      "source": [
        "## 3/ Combine both Datasets (train, test)"
      ]
    },
    {
      "cell_type": "code",
      "metadata": {
        "id": "LOCJ0YdIa7zq"
      },
      "source": [
        "#CodeSection4\n",
        "all_data = [train, test]"
      ],
      "execution_count": null,
      "outputs": []
    },
    {
      "cell_type": "markdown",
      "metadata": {
        "id": "ox_afLNJtkyO"
      },
      "source": [
        "### Check Combined Data \n",
        "- Missing Value\n",
        "- Data Types"
      ]
    },
    {
      "cell_type": "code",
      "metadata": {
        "id": "T_aFcU3Na7zq",
        "colab": {
          "base_uri": "https://localhost:8080/"
        },
        "outputId": "0f5caa73-7ec6-465b-dfe0-cae3d259f617"
      },
      "source": [
        "#CodeSection5\n",
        "# Combine both to check Missing Value\n",
        "pd.concat([train, test], axis = 0).isnull().sum()"
      ],
      "execution_count": null,
      "outputs": [
        {
          "output_type": "execute_result",
          "data": {
            "text/plain": [
              "id                           0\n",
              "Gender                       0\n",
              "Age                          0\n",
              "Driving_License              0\n",
              "Region_Code                  0\n",
              "Previously_Insured           0\n",
              "Vehicle_Age                  0\n",
              "Vehicle_Damage               0\n",
              "Annual_Premium               0\n",
              "Policy_Sales_Channel         0\n",
              "Vintage                      0\n",
              "Response                127037\n",
              "dtype: int64"
            ]
          },
          "metadata": {
            "tags": []
          },
          "execution_count": 6
        }
      ]
    },
    {
      "cell_type": "code",
      "metadata": {
        "id": "yCMGv2mOa7zu",
        "colab": {
          "base_uri": "https://localhost:8080/"
        },
        "outputId": "ebe6609a-175b-40c3-c0f9-b5c0d80513d8"
      },
      "source": [
        "#CodeSection6\n",
        "# Check Data types for each variable\n",
        "train.info()"
      ],
      "execution_count": null,
      "outputs": [
        {
          "output_type": "stream",
          "text": [
            "<class 'pandas.core.frame.DataFrame'>\n",
            "RangeIndex: 381109 entries, 0 to 381108\n",
            "Data columns (total 12 columns):\n",
            " #   Column                Non-Null Count   Dtype  \n",
            "---  ------                --------------   -----  \n",
            " 0   id                    381109 non-null  int64  \n",
            " 1   Gender                381109 non-null  object \n",
            " 2   Age                   381109 non-null  int64  \n",
            " 3   Driving_License       381109 non-null  int64  \n",
            " 4   Region_Code           381109 non-null  float64\n",
            " 5   Previously_Insured    381109 non-null  int64  \n",
            " 6   Vehicle_Age           381109 non-null  object \n",
            " 7   Vehicle_Damage        381109 non-null  object \n",
            " 8   Annual_Premium        381109 non-null  float64\n",
            " 9   Policy_Sales_Channel  381109 non-null  float64\n",
            " 10  Vintage               381109 non-null  int64  \n",
            " 11  Response              381109 non-null  int64  \n",
            "dtypes: float64(3), int64(6), object(3)\n",
            "memory usage: 34.9+ MB\n"
          ],
          "name": "stdout"
        }
      ]
    },
    {
      "cell_type": "markdown",
      "metadata": {
        "id": "DdB8TzBPa7zv"
      },
      "source": [
        "## 4/ EDA - Check Numerical Variables"
      ]
    },
    {
      "cell_type": "code",
      "metadata": {
        "id": "vC53ci3Ja7zv"
      },
      "source": [
        "#CodeSection7\n",
        "# Lets Import the Seaborn Library\n",
        "import seaborn as sns"
      ],
      "execution_count": null,
      "outputs": []
    },
    {
      "cell_type": "markdown",
      "metadata": {
        "id": "tZ9MGesTa7z_"
      },
      "source": [
        "### Lets start with Numerical Variable/Feature - 1"
      ]
    },
    {
      "cell_type": "code",
      "metadata": {
        "id": "uyguqgb2a70A",
        "colab": {
          "base_uri": "https://localhost:8080/",
          "height": 351
        },
        "outputId": "47903a56-e392-4bc4-8619-4f205eb69542"
      },
      "source": [
        "#CodeSection8\n",
        "# in this case we start with \"ApplicantIncome\"\n",
        "sns.boxplot(train['Annual_Premium'])\n",
        "# Has Outliers"
      ],
      "execution_count": null,
      "outputs": [
        {
          "output_type": "stream",
          "text": [
            "/usr/local/lib/python3.7/dist-packages/seaborn/_decorators.py:43: FutureWarning: Pass the following variable as a keyword arg: x. From version 0.12, the only valid positional argument will be `data`, and passing other arguments without an explicit keyword will result in an error or misinterpretation.\n",
            "  FutureWarning\n"
          ],
          "name": "stderr"
        },
        {
          "output_type": "execute_result",
          "data": {
            "text/plain": [
              "<matplotlib.axes._subplots.AxesSubplot at 0x7f57ed8fe7d0>"
            ]
          },
          "metadata": {
            "tags": []
          },
          "execution_count": 15
        },
        {
          "output_type": "display_data",
          "data": {
            "image/png": "[encoded data removed]",
            "text/plain": [
              "<Figure size 432x288 with 1 Axes>"
            ]
          },
          "metadata": {
            "tags": [],
            "needs_background": "light"
          }
        }
      ]
    },
    {
      "cell_type": "markdown",
      "metadata": {
        "id": "KxOOS6FeXbYZ"
      },
      "source": [
        "### Inter Quantile Range Strategy \n",
        "- Outlier Detection\n",
        "- Outlier Treatment"
      ]
    },
    {
      "cell_type": "code",
      "metadata": {
        "id": "QaqPw5Zxa70A",
        "colab": {
          "base_uri": "https://localhost:8080/"
        },
        "outputId": "64b75a2c-2b24-4720-8899-b1dd16859929"
      },
      "source": [
        "#CodeSection9\n",
        "# Use quantile function\n",
        "# Find Q1 and Q3\n",
        "Q1 = train['Annual_Premium'].quantile(0.25)\n",
        "Q3 = train['Annual_Premium'].quantile(0.75)\n",
        "\n",
        "#Find IQR \n",
        "IQR = Q3 - Q1\n",
        "\n",
        "#Find Lower Limit and Higher Limit\n",
        "Lower_Whisker = Q1 - 1.5 * Q3\n",
        "Upper_Whisker = Q1 + 1.5 * Q3\n",
        "\n",
        "# Print all Values\n",
        "print('Q1 : {}'.format(Q1))\n",
        "print('Q3 : {}'.format(Q3))\n",
        "print('IQR : {}'.format(IQR))\n",
        "print(Lower_Whisker, Upper_Whisker)"
      ],
      "execution_count": null,
      "outputs": [
        {
          "output_type": "stream",
          "text": [
            "Q1 : 24405.0\n",
            "Q3 : 39400.0\n",
            "IQR : 14995.0\n",
            "-34695.0 83505.0\n"
          ],
          "name": "stdout"
        }
      ]
    },
    {
      "cell_type": "markdown",
      "metadata": {
        "id": "f7GDYbHtYghf"
      },
      "source": [
        "### Now lets Treat the value by imputing with Mean/Median"
      ]
    },
    {
      "cell_type": "code",
      "metadata": {
        "id": "mCYm1tIhYfcU"
      },
      "source": [
        "#CodeSection10\n",
        "# Replace Variable with Upper Whisker (there are other strategies)\n",
        "for data in all_data:\n",
        "  data['Annual_Premium'] = data['Annual_Premium'].apply(lambda x: Upper_Whisker if x > Upper_Whisker else x)"
      ],
      "execution_count": null,
      "outputs": []
    },
    {
      "cell_type": "code",
      "metadata": {
        "colab": {
          "base_uri": "https://localhost:8080/",
          "height": 351
        },
        "id": "elfBu1UpZStT",
        "outputId": "eb991ea3-4c8e-4639-fe6c-4c2f6624e216"
      },
      "source": [
        "#CodeSection11\n",
        "# Lets check again\n",
        "sns.boxplot(train['Annual_Premium'])\n",
        "# Now No Outliers"
      ],
      "execution_count": null,
      "outputs": [
        {
          "output_type": "stream",
          "text": [
            "/usr/local/lib/python3.7/dist-packages/seaborn/_decorators.py:43: FutureWarning: Pass the following variable as a keyword arg: x. From version 0.12, the only valid positional argument will be `data`, and passing other arguments without an explicit keyword will result in an error or misinterpretation.\n",
            "  FutureWarning\n"
          ],
          "name": "stderr"
        },
        {
          "output_type": "execute_result",
          "data": {
            "text/plain": [
              "<matplotlib.axes._subplots.AxesSubplot at 0x7f57e8ef9850>"
            ]
          },
          "metadata": {
            "tags": []
          },
          "execution_count": 18
        },
        {
          "output_type": "display_data",
          "data": {
            "image/png": "[encoded data removed]",
            "text/plain": [
              "<Figure size 432x288 with 1 Axes>"
            ]
          },
          "metadata": {
            "tags": [],
            "needs_background": "light"
          }
        }
      ]
    },
    {
      "cell_type": "markdown",
      "metadata": {
        "id": "KboVZiYca70C"
      },
      "source": [
        "### Replicate for other Numerical Variable/Features"
      ]
    },
    {
      "cell_type": "code",
      "metadata": {
        "id": "QITXr52ca70I"
      },
      "source": [
        "#CodeSection12\n",
        "\n",
        "# Identify all Numerical Variables \n",
        "numerical_features = ['Age','Vintage']\n",
        "\n",
        "# Write a loop to do the same \n",
        "for num_feat in numerical_features:\n",
        "  Q1 = train[num_feat].quantile(0.25)\n",
        "  Q3 = train[num_feat].quantile(0.75)\n",
        "\n",
        "  #Find IQR \n",
        "  IQR = Q3-Q1\n",
        "\n",
        "  #Find Lower Limit and Higher Limit\n",
        "  Lower_Whisker = Q1 - 1.5 * IQR\n",
        "  Upper_Whisker = Q3 + 1.5 * IQR\n",
        "\n",
        "  for data in all_data:\n",
        "    data[num_feat] = data[num_feat].apply(lambda x: Upper_Whisker if x > Upper_Whisker else x)"
      ],
      "execution_count": null,
      "outputs": []
    },
    {
      "cell_type": "markdown",
      "metadata": {
        "id": "am7cBDhea70L"
      },
      "source": [
        "## 5/ Impute Numerical Variables"
      ]
    },
    {
      "cell_type": "markdown",
      "metadata": {
        "id": "iYr79AHBa70L"
      },
      "source": [
        "### Impute all Numerical Variables at once\n",
        "\n"
      ]
    },
    {
      "cell_type": "code",
      "metadata": {
        "id": "HyWOSnV8a70M"
      },
      "source": [
        "#CodeSection13\n",
        "# Write a loop to Impute all Numerical Vairbales\n",
        "# for dataset in all_data:\n",
        "#   # Numerical Feature 1\n",
        "#   dataset['ApplicantIncome'] = dataset['ApplicantIncome'].fillna(dataset['ApplicantIncome'].median())\n",
        "  \n",
        "#   # Numerical Feature 2\n",
        "#   dataset['CoapplicantIncome'] = dataset['CoapplicantIncome'].fillna(dataset['CoapplicantIncome'].median())\n",
        "\n",
        "#   # Numerical Feature 3\n",
        "#   dataset['LoanAmount'] = dataset['LoanAmount'].fillna(dataset['LoanAmount'].median())\n",
        "  \n",
        "#   # Numerical Feature 4\n",
        "#   dataset['Loan_Amount_Term'] = dataset['Loan_Amount_Term'].fillna(dataset['Loan_Amount_Term'].median())\n",
        "\n",
        "#   # Numerical Feature 5\n",
        "#   dataset['Credit_History'] = dataset['Credit_History'].fillna(dataset['Credit_History'].median())"
      ],
      "execution_count": null,
      "outputs": []
    },
    {
      "cell_type": "markdown",
      "metadata": {
        "id": "HSChDYATa70P"
      },
      "source": [
        "## 6/ Impute Categorical Variables\n",
        "- Lets try another Strategy of Imputing \"Missing\" where a Category value is missing"
      ]
    },
    {
      "cell_type": "markdown",
      "metadata": {
        "id": "D-qhcS6Ma70P"
      },
      "source": [
        "### Impute all Categorical Variables at once"
      ]
    },
    {
      "cell_type": "code",
      "metadata": {
        "id": "_JgFfORJa70Q"
      },
      "source": [
        "#CodeSection14\n",
        "# for dataset in all_data:\n",
        "#   # Categorical Feature 1\n",
        "#   dataset['Gender'] = dataset['Gender'].fillna('Missing')\n",
        "\n",
        "#   # Categorical Feature 2\n",
        "#   dataset['Married'] = dataset['Married'].fillna('Missing')\n",
        "  \n",
        "#   # Categorical Feature 3\n",
        "#   dataset['Dependents'] = dataset['Dependents'].fillna('Missing')\n",
        "\n",
        "#   # Categorical Feature 4\n",
        "#   dataset['Self_Employed'] = dataset['Self_Employed'].fillna('Missing')"
      ],
      "execution_count": null,
      "outputs": []
    },
    {
      "cell_type": "markdown",
      "metadata": {
        "id": "Yn4guIioa70V"
      },
      "source": [
        "## 7/ Now Re Check all Features"
      ]
    },
    {
      "cell_type": "code",
      "metadata": {
        "id": "MHrl6vMma70W",
        "colab": {
          "base_uri": "https://localhost:8080/"
        },
        "outputId": "c8a3a5ae-83a9-413a-b4b2-feedf9b65460"
      },
      "source": [
        "#CodeSection15\n",
        "# Combine both to check Missing Value\n",
        "pd.concat([train, test], axis = 0).isnull().sum()"
      ],
      "execution_count": null,
      "outputs": [
        {
          "output_type": "execute_result",
          "data": {
            "text/plain": [
              "id                           0\n",
              "Gender                       0\n",
              "Age                          0\n",
              "Driving_License              0\n",
              "Region_Code                  0\n",
              "Previously_Insured           0\n",
              "Vehicle_Age                  0\n",
              "Vehicle_Damage               0\n",
              "Annual_Premium               0\n",
              "Policy_Sales_Channel         0\n",
              "Vintage                      0\n",
              "Response                127037\n",
              "dtype: int64"
            ]
          },
          "metadata": {
            "tags": []
          },
          "execution_count": 20
        }
      ]
    },
    {
      "cell_type": "markdown",
      "metadata": {
        "id": "6Ade98pva70W"
      },
      "source": [
        "## 8/ Prepare Data for Model Model"
      ]
    },
    {
      "cell_type": "code",
      "metadata": {
        "id": "TEySx0Nza70X",
        "colab": {
          "base_uri": "https://localhost:8080/",
          "height": 204
        },
        "outputId": "edb29968-93f9-48dc-cf59-224776540dab"
      },
      "source": [
        "#CodeSection16\n",
        "# Check First 5 Rows of Test Data\n",
        "test.head()"
      ],
      "execution_count": null,
      "outputs": [
        {
          "output_type": "execute_result",
          "data": {
            "text/html": [
              "<div>\n",
              "<style scoped>\n",
              "    .dataframe tbody tr th:only-of-type {\n",
              "        vertical-align: middle;\n",
              "    }\n",
              "\n",
              "    .dataframe tbody tr th {\n",
              "        vertical-align: top;\n",
              "    }\n",
              "\n",
              "    .dataframe thead th {\n",
              "        text-align: right;\n",
              "    }\n",
              "</style>\n",
              "<table border=\"1\" class=\"dataframe\">\n",
              "  <thead>\n",
              "    <tr style=\"text-align: right;\">\n",
              "      <th></th>\n",
              "      <th>id</th>\n",
              "      <th>Gender</th>\n",
              "      <th>Age</th>\n",
              "      <th>Driving_License</th>\n",
              "      <th>Region_Code</th>\n",
              "      <th>Previously_Insured</th>\n",
              "      <th>Vehicle_Age</th>\n",
              "      <th>Vehicle_Damage</th>\n",
              "      <th>Annual_Premium</th>\n",
              "      <th>Policy_Sales_Channel</th>\n",
              "      <th>Vintage</th>\n",
              "    </tr>\n",
              "  </thead>\n",
              "  <tbody>\n",
              "    <tr>\n",
              "      <th>0</th>\n",
              "      <td>381110</td>\n",
              "      <td>Male</td>\n",
              "      <td>25</td>\n",
              "      <td>1</td>\n",
              "      <td>11.0</td>\n",
              "      <td>1</td>\n",
              "      <td>&lt; 1 Year</td>\n",
              "      <td>No</td>\n",
              "      <td>35786.0</td>\n",
              "      <td>152.0</td>\n",
              "      <td>53</td>\n",
              "    </tr>\n",
              "    <tr>\n",
              "      <th>1</th>\n",
              "      <td>381111</td>\n",
              "      <td>Male</td>\n",
              "      <td>40</td>\n",
              "      <td>1</td>\n",
              "      <td>28.0</td>\n",
              "      <td>0</td>\n",
              "      <td>1-2 Year</td>\n",
              "      <td>Yes</td>\n",
              "      <td>33762.0</td>\n",
              "      <td>7.0</td>\n",
              "      <td>111</td>\n",
              "    </tr>\n",
              "    <tr>\n",
              "      <th>2</th>\n",
              "      <td>381112</td>\n",
              "      <td>Male</td>\n",
              "      <td>47</td>\n",
              "      <td>1</td>\n",
              "      <td>28.0</td>\n",
              "      <td>0</td>\n",
              "      <td>1-2 Year</td>\n",
              "      <td>Yes</td>\n",
              "      <td>40050.0</td>\n",
              "      <td>124.0</td>\n",
              "      <td>199</td>\n",
              "    </tr>\n",
              "    <tr>\n",
              "      <th>3</th>\n",
              "      <td>381113</td>\n",
              "      <td>Male</td>\n",
              "      <td>24</td>\n",
              "      <td>1</td>\n",
              "      <td>27.0</td>\n",
              "      <td>1</td>\n",
              "      <td>&lt; 1 Year</td>\n",
              "      <td>Yes</td>\n",
              "      <td>37356.0</td>\n",
              "      <td>152.0</td>\n",
              "      <td>187</td>\n",
              "    </tr>\n",
              "    <tr>\n",
              "      <th>4</th>\n",
              "      <td>381114</td>\n",
              "      <td>Male</td>\n",
              "      <td>27</td>\n",
              "      <td>1</td>\n",
              "      <td>28.0</td>\n",
              "      <td>1</td>\n",
              "      <td>&lt; 1 Year</td>\n",
              "      <td>No</td>\n",
              "      <td>59097.0</td>\n",
              "      <td>152.0</td>\n",
              "      <td>297</td>\n",
              "    </tr>\n",
              "  </tbody>\n",
              "</table>\n",
              "</div>"
            ],
            "text/plain": [
              "       id Gender  Age  ...  Annual_Premium  Policy_Sales_Channel  Vintage\n",
              "0  381110   Male   25  ...         35786.0                 152.0       53\n",
              "1  381111   Male   40  ...         33762.0                   7.0      111\n",
              "2  381112   Male   47  ...         40050.0                 124.0      199\n",
              "3  381113   Male   24  ...         37356.0                 152.0      187\n",
              "4  381114   Male   27  ...         59097.0                 152.0      297\n",
              "\n",
              "[5 rows x 11 columns]"
            ]
          },
          "metadata": {
            "tags": []
          },
          "execution_count": 21
        }
      ]
    },
    {
      "cell_type": "code",
      "metadata": {
        "id": "A6yS1pqza70X"
      },
      "source": [
        "#CodeSection17\n",
        "# Get X and y Variables for your Dataset\n",
        "X = train.drop(['id','Response'], axis =1)\n",
        "Y = train['Response']"
      ],
      "execution_count": null,
      "outputs": []
    },
    {
      "cell_type": "markdown",
      "metadata": {
        "id": "w1gJQ7Qsa70Y"
      },
      "source": [
        "### Create Dummy Variables for  Categorical Variables"
      ]
    },
    {
      "cell_type": "code",
      "metadata": {
        "id": "ipcXGR73a70Y"
      },
      "source": [
        "#CodeSection18\n",
        "# Get Dummy Variables\n",
        "X = pd.get_dummies(X)  # Keep only n - 1 Variables - Use \"drop_first = True\""
      ],
      "execution_count": null,
      "outputs": []
    },
    {
      "cell_type": "markdown",
      "metadata": {
        "id": "p62cfPzVa70Y"
      },
      "source": [
        "## 9/ Build Model"
      ]
    },
    {
      "cell_type": "code",
      "metadata": {
        "id": "GdLbPTCXa70Y"
      },
      "source": [
        "#CodeSection19\n",
        "#Import Logistic Regression Library\n",
        "from sklearn.linear_model import LogisticRegression\n",
        "\n",
        "#Initialize LR\n",
        "clf = LogisticRegression(max_iter = 1000)"
      ],
      "execution_count": null,
      "outputs": []
    },
    {
      "cell_type": "code",
      "metadata": {
        "id": "WrD0GfaSa70Z"
      },
      "source": [
        "#CodeSection20\n",
        "# Fit Model\n",
        "model = clf.fit(X, Y)"
      ],
      "execution_count": null,
      "outputs": []
    },
    {
      "cell_type": "markdown",
      "metadata": {
        "id": "Omv4nWgwa70Z"
      },
      "source": [
        "### Check Accuracy of Model on Train Data"
      ]
    },
    {
      "cell_type": "code",
      "metadata": {
        "id": "PQi2u6uQa70Z"
      },
      "source": [
        "#CodeSection21\n",
        "# Predict on Train Data\n",
        "y_pred = model.predict(X)"
      ],
      "execution_count": null,
      "outputs": []
    },
    {
      "cell_type": "markdown",
      "metadata": {
        "id": "AqPB9qLLa70a"
      },
      "source": [
        "### We can use a Accuracy Function from Metrics\n",
        "- Check Train Accuracy"
      ]
    },
    {
      "cell_type": "code",
      "metadata": {
        "id": "L8VJNsHIa70a"
      },
      "source": [
        "#CodeSection22\n",
        "# Import metrics library\n",
        "from sklearn.metrics import accuracy_score"
      ],
      "execution_count": null,
      "outputs": []
    },
    {
      "cell_type": "code",
      "metadata": {
        "id": "jeeS7nkja70a"
      },
      "source": [
        "#CodeSection23\n",
        "# get Actual \"y\" variables (use \"y_true\" as variable)\n",
        "y_true = train['Response']"
      ],
      "execution_count": null,
      "outputs": []
    },
    {
      "cell_type": "code",
      "metadata": {
        "id": "p7llEg7aa70b",
        "colab": {
          "base_uri": "https://localhost:8080/"
        },
        "outputId": "4cdaf5ce-15fc-4d94-d072-171110f977a0"
      },
      "source": [
        "#CodeSection24\n",
        "# Print Train Accuracy\n",
        "print(f\" Train Accuracy : {accuracy_score(y_true, y_pred):0.1%}\")"
      ],
      "execution_count": null,
      "outputs": [
        {
          "output_type": "stream",
          "text": [
            " Train Accuracy : 87.6%\n"
          ],
          "name": "stdout"
        }
      ]
    },
    {
      "cell_type": "markdown",
      "metadata": {
        "id": "QIMZgLEWa70b"
      },
      "source": [
        "## 10/ Predict and Submit"
      ]
    },
    {
      "cell_type": "markdown",
      "metadata": {
        "id": "BwZubGmra70b"
      },
      "source": [
        "### Predict"
      ]
    },
    {
      "cell_type": "code",
      "metadata": {
        "id": "7qnE4K9Ca70c"
      },
      "source": [
        "#CodeSection25\n",
        "# Get all the X Variables from the Test Dataset\n",
        "X_test = test.drop(['id'], axis =  1)"
      ],
      "execution_count": null,
      "outputs": []
    },
    {
      "cell_type": "code",
      "metadata": {
        "id": "0ivs1ED7a70d"
      },
      "source": [
        "#CodeSection26\n",
        "#Covert to Dummies\n",
        "X_test = pd.get_dummies(X_test)"
      ],
      "execution_count": null,
      "outputs": []
    },
    {
      "cell_type": "code",
      "metadata": {
        "id": "eE8sFN6Na70e"
      },
      "source": [
        "#CodeSection27\n",
        "# use this code if the next Code shows error\n",
        "#X_test['Married_Missing']  = 0"
      ],
      "execution_count": null,
      "outputs": []
    },
    {
      "cell_type": "code",
      "metadata": {
        "id": "cHsaBNQFa70e"
      },
      "source": [
        "#CodeSection28\n",
        "# Predict on X_test Data (\"X_test_prep\")\n",
        "X_test_prep = model.predict(X_test)"
      ],
      "execution_count": null,
      "outputs": []
    },
    {
      "cell_type": "markdown",
      "metadata": {
        "id": "xNsntVeVVZJJ"
      },
      "source": [
        "### Import Sample Submission"
      ]
    },
    {
      "cell_type": "code",
      "metadata": {
        "id": "RN-xBj4aa70f",
        "colab": {
          "base_uri": "https://localhost:8080/",
          "height": 204
        },
        "outputId": "bff65932-44b9-47b4-ec69-acb0530272ac"
      },
      "source": [
        "#CodeSection29\n",
        "sample_submission = pd.read_csv(\"/mntDrive/MyDrive/__DataScience/2 Cross Sell Prediction/input/sample_submission.csv\")\n",
        "sample_submission.head()"
      ],
      "execution_count": null,
      "outputs": [
        {
          "output_type": "execute_result",
          "data": {
            "text/html": [
              "<div>\n",
              "<style scoped>\n",
              "    .dataframe tbody tr th:only-of-type {\n",
              "        vertical-align: middle;\n",
              "    }\n",
              "\n",
              "    .dataframe tbody tr th {\n",
              "        vertical-align: top;\n",
              "    }\n",
              "\n",
              "    .dataframe thead th {\n",
              "        text-align: right;\n",
              "    }\n",
              "</style>\n",
              "<table border=\"1\" class=\"dataframe\">\n",
              "  <thead>\n",
              "    <tr style=\"text-align: right;\">\n",
              "      <th></th>\n",
              "      <th>id</th>\n",
              "      <th>Response</th>\n",
              "    </tr>\n",
              "  </thead>\n",
              "  <tbody>\n",
              "    <tr>\n",
              "      <th>0</th>\n",
              "      <td>381110</td>\n",
              "      <td>0</td>\n",
              "    </tr>\n",
              "    <tr>\n",
              "      <th>1</th>\n",
              "      <td>381111</td>\n",
              "      <td>0</td>\n",
              "    </tr>\n",
              "    <tr>\n",
              "      <th>2</th>\n",
              "      <td>381112</td>\n",
              "      <td>0</td>\n",
              "    </tr>\n",
              "    <tr>\n",
              "      <th>3</th>\n",
              "      <td>381113</td>\n",
              "      <td>0</td>\n",
              "    </tr>\n",
              "    <tr>\n",
              "      <th>4</th>\n",
              "      <td>381114</td>\n",
              "      <td>0</td>\n",
              "    </tr>\n",
              "  </tbody>\n",
              "</table>\n",
              "</div>"
            ],
            "text/plain": [
              "       id  Response\n",
              "0  381110         0\n",
              "1  381111         0\n",
              "2  381112         0\n",
              "3  381113         0\n",
              "4  381114         0"
            ]
          },
          "metadata": {
            "tags": []
          },
          "execution_count": 35
        }
      ]
    },
    {
      "cell_type": "markdown",
      "metadata": {
        "id": "SClle2xqa70e"
      },
      "source": [
        "### Create Submission File"
      ]
    },
    {
      "cell_type": "code",
      "metadata": {
        "id": "LgdlFL46a70f"
      },
      "source": [
        "#CodeSection30\n",
        "submission = pd.DataFrame({\n",
        "    'id' : test['id'],\n",
        "    'Response' : X_test_prep\n",
        "})"
      ],
      "execution_count": null,
      "outputs": []
    },
    {
      "cell_type": "markdown",
      "metadata": {
        "id": "MAZ0TP21a70g"
      },
      "source": [
        "### Export Submission File"
      ]
    },
    {
      "cell_type": "code",
      "metadata": {
        "id": "AnfbYZoKa70g"
      },
      "source": [
        "#CodeSection31\n",
        "submission.to_csv(\"/mntDrive/MyDrive/__DataScience/2 Cross Sell Prediction/output/O3_LR_Outlier.csv\", index = False)"
      ],
      "execution_count": null,
      "outputs": []
    },
    {
      "cell_type": "code",
      "metadata": {
        "id": "n13R8vTfa70g"
      },
      "source": [
        "# LB Accuracy : 0.502"
      ],
      "execution_count": null,
      "outputs": []
    }
  ]
}