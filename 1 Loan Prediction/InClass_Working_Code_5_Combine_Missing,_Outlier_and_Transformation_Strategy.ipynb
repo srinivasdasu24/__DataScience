{
  "nbformat": 4,
  "nbformat_minor": 0,
  "metadata": {
    "kernelspec": {
      "display_name": "Python 3",
      "language": "python",
      "name": "python3"
    },
    "language_info": {
      "codemirror_mode": {
        "name": "ipython",
        "version": 3
      },
      "file_extension": ".py",
      "mimetype": "text/x-python",
      "name": "python",
      "nbconvert_exporter": "python",
      "pygments_lexer": "ipython3",
      "version": "3.7.6"
    },
    "colab": {
      "name": "InClass Working Code 5 - Combine Missing, Outlier and Transformation Strategy.ipynb",
      "provenance": [],
      "include_colab_link": true
    }
  },
  "cells": [
    {
      "cell_type": "markdown",
      "metadata": {
        "id": "view-in-github",
        "colab_type": "text"
      },
      "source": [
        "<a href=\"https://colab.research.google.com/github/srinivasdasu24/__DataScience/blob/main/1%20Loan%20Prediction/InClass_Working_Code_5_Combine_Missing%2C_Outlier_and_Transformation_Strategy.ipynb\" target=\"_parent\"><img src=\"https://colab.research.google.com/assets/colab-badge.svg\" alt=\"Open In Colab\"/></a>"
      ]
    },
    {
      "cell_type": "markdown",
      "metadata": {
        "id": "lFwktUA6a7zH"
      },
      "source": [
        "# Code 5\n",
        "- Combine all Strategy\n",
        "  - Missing Value Imputation\n",
        "  - Outlier Startegy\n",
        "  - Tranformation Strategy"
      ]
    },
    {
      "cell_type": "markdown",
      "metadata": {
        "id": "9DXfa773a7zZ"
      },
      "source": [
        "## 1/ Import Libraries"
      ]
    },
    {
      "cell_type": "code",
      "metadata": {
        "colab": {
          "base_uri": "https://localhost:8080/"
        },
        "id": "s7o2t9blWo-b",
        "outputId": "ac80d9f4-15bb-4917-f268-33948aaeb6d4"
      },
      "source": [
        "#CodeSection1\n",
        "from google.colab import drive\n",
        "drive.mount('/mntDrive', force_remount='false')"
      ],
      "execution_count": null,
      "outputs": [
        {
          "output_type": "stream",
          "text": [
            "Mounted at /mntDrive\n"
          ],
          "name": "stdout"
        }
      ]
    },
    {
      "cell_type": "code",
      "metadata": {
        "id": "n8yqRIuha7zn"
      },
      "source": [
        "#CodeSection2\n",
        "import pandas as pd\n",
        "import numpy as np"
      ],
      "execution_count": null,
      "outputs": []
    },
    {
      "cell_type": "markdown",
      "metadata": {
        "id": "wRz6crvoa7zo"
      },
      "source": [
        "## 2/ Import Data"
      ]
    },
    {
      "cell_type": "code",
      "metadata": {
        "id": "3u-V5dA4a7zp"
      },
      "source": [
        "#CodeSection3\n",
        "train = pd.read_csv('/mntDrive/MyDrive/__DataScience/1 Loan Prediction/input/train.csv')\n",
        "test = pd.read_csv('/mntDrive/MyDrive/__DataScience/1 Loan Prediction/input/test.csv')"
      ],
      "execution_count": null,
      "outputs": []
    },
    {
      "cell_type": "markdown",
      "metadata": {
        "id": "k-SeaUk9a7zp"
      },
      "source": [
        "## 3/ Combine both Datasets (train, test)"
      ]
    },
    {
      "cell_type": "code",
      "metadata": {
        "id": "LOCJ0YdIa7zq"
      },
      "source": [
        "#CodeSection4\n",
        "all_data = [train, test]"
      ],
      "execution_count": null,
      "outputs": []
    },
    {
      "cell_type": "markdown",
      "metadata": {
        "id": "ox_afLNJtkyO"
      },
      "source": [
        "### Check Combined Data \n",
        "- Missing Value\n",
        "- Data Types"
      ]
    },
    {
      "cell_type": "code",
      "metadata": {
        "id": "T_aFcU3Na7zq",
        "colab": {
          "base_uri": "https://localhost:8080/"
        },
        "outputId": "634fcc6a-3788-4d9d-bf2e-24ecd69188f4"
      },
      "source": [
        "#CodeSection5\n",
        "# Combine both to check Missing Value\n",
        "pd.concat([train, test], axis = 0).isnull().sum()"
      ],
      "execution_count": null,
      "outputs": [
        {
          "output_type": "execute_result",
          "data": {
            "text/plain": [
              "Loan_ID                0\n",
              "Gender                24\n",
              "Married                3\n",
              "Dependents            25\n",
              "Education              0\n",
              "Self_Employed         55\n",
              "ApplicantIncome        0\n",
              "CoapplicantIncome      0\n",
              "LoanAmount            27\n",
              "Loan_Amount_Term      20\n",
              "Credit_History        79\n",
              "Property_Area          0\n",
              "Loan_Status          367\n",
              "dtype: int64"
            ]
          },
          "metadata": {
            "tags": []
          },
          "execution_count": 6
        }
      ]
    },
    {
      "cell_type": "code",
      "metadata": {
        "id": "yCMGv2mOa7zu",
        "colab": {
          "base_uri": "https://localhost:8080/"
        },
        "outputId": "7b7c7720-0974-4cb5-8439-3138d1b98e9d"
      },
      "source": [
        "#CodeSection6\n",
        "# Check Data types for each variable\n",
        "train.info()"
      ],
      "execution_count": null,
      "outputs": [
        {
          "output_type": "stream",
          "text": [
            "<class 'pandas.core.frame.DataFrame'>\n",
            "RangeIndex: 614 entries, 0 to 613\n",
            "Data columns (total 13 columns):\n",
            " #   Column             Non-Null Count  Dtype  \n",
            "---  ------             --------------  -----  \n",
            " 0   Loan_ID            614 non-null    object \n",
            " 1   Gender             601 non-null    object \n",
            " 2   Married            611 non-null    object \n",
            " 3   Dependents         599 non-null    object \n",
            " 4   Education          614 non-null    object \n",
            " 5   Self_Employed      582 non-null    object \n",
            " 6   ApplicantIncome    614 non-null    int64  \n",
            " 7   CoapplicantIncome  614 non-null    float64\n",
            " 8   LoanAmount         592 non-null    float64\n",
            " 9   Loan_Amount_Term   600 non-null    float64\n",
            " 10  Credit_History     564 non-null    float64\n",
            " 11  Property_Area      614 non-null    object \n",
            " 12  Loan_Status        614 non-null    object \n",
            "dtypes: float64(4), int64(1), object(8)\n",
            "memory usage: 62.5+ KB\n"
          ],
          "name": "stdout"
        }
      ]
    },
    {
      "cell_type": "markdown",
      "metadata": {
        "id": "I5pEcQeA-g8O"
      },
      "source": [
        "## 4/ Numerical Processing"
      ]
    },
    {
      "cell_type": "markdown",
      "metadata": {
        "id": "am7cBDhea70L"
      },
      "source": [
        "### 4.1/ Impute Numerical Variables"
      ]
    },
    {
      "cell_type": "code",
      "metadata": {
        "id": "HyWOSnV8a70M"
      },
      "source": [
        "#CodeSection7\n",
        "# Identify all Numerical features\n",
        "numerical_features = ['ApplicantIncome', 'CoapplicantIncome', 'LoanAmount', 'Loan_Amount_Term', 'Credit_History']"
      ],
      "execution_count": null,
      "outputs": []
    },
    {
      "cell_type": "code",
      "metadata": {
        "id": "wKeHM9QPw34r"
      },
      "source": [
        "#CodeSection8\n",
        "# Import SimpleImputer\n",
        "from sklearn.impute import SimpleImputer"
      ],
      "execution_count": null,
      "outputs": []
    },
    {
      "cell_type": "code",
      "metadata": {
        "colab": {
          "base_uri": "https://localhost:8080/"
        },
        "id": "m9x91IzDxJzs",
        "outputId": "6382e36c-025e-4927-ff28-441316f44e0c"
      },
      "source": [
        "#CodeSection9\n",
        "\n",
        "#Initiate SimpleImputer\n",
        "num_impute = SimpleImputer(strategy='median')\n",
        "\n",
        "# Fit SimpleImputer on Numerical Features\n",
        "num_impute.fit(train[numerical_features])"
      ],
      "execution_count": null,
      "outputs": [
        {
          "output_type": "execute_result",
          "data": {
            "text/plain": [
              "SimpleImputer(add_indicator=False, copy=True, fill_value=None,\n",
              "              missing_values=nan, strategy='median', verbose=0)"
            ]
          },
          "metadata": {
            "tags": []
          },
          "execution_count": 12
        }
      ]
    },
    {
      "cell_type": "code",
      "metadata": {
        "id": "epvvVNkayVtm"
      },
      "source": [
        "#CodeSection10\n",
        "# Impute Train and Test\n",
        "for data in all_data:\n",
        "  data[numerical_features] = num_impute.transform(data[numerical_features])"
      ],
      "execution_count": null,
      "outputs": []
    },
    {
      "cell_type": "markdown",
      "metadata": {
        "id": "RbXNGRsG0SPc"
      },
      "source": [
        "### 4.2/ Outlier Strategy"
      ]
    },
    {
      "cell_type": "code",
      "metadata": {
        "id": "Yq5wHuyv0Z8C"
      },
      "source": [
        "#CodeSection11\n",
        "\n",
        "# Write a loop to detect and impute Outliers\n",
        "for num_var in numerical_features:\n",
        "  Q1 = train[num_var].quantile(0.25)\n",
        "  Q3 = train[num_var].quantile(0.75)\n",
        "\n",
        "  IQR = Q3-Q1\n",
        "\n",
        "  Lower_Whisker = Q1 - 1.5*IQR\n",
        "  Upper_Whisker = Q3 + 1.5*IQR\n",
        "\n",
        "  for dataset in all_data:\n",
        "    dataset[num_var] = dataset[num_var].apply(lambda x : Upper_Whisker if x > Upper_Whisker else x)"
      ],
      "execution_count": null,
      "outputs": []
    },
    {
      "cell_type": "markdown",
      "metadata": {
        "id": "xeAnDRX-0sdl"
      },
      "source": [
        "### 4.3/ Transformation Strategy"
      ]
    },
    {
      "cell_type": "code",
      "metadata": {
        "id": "X_NG_Fhb-5JX"
      },
      "source": [
        "#CodeSection12\n",
        "# Import StandardScaler\n",
        "from sklearn.preprocessing import StandardScaler"
      ],
      "execution_count": null,
      "outputs": []
    },
    {
      "cell_type": "code",
      "metadata": {
        "colab": {
          "base_uri": "https://localhost:8080/"
        },
        "id": "dh5j-7VX_F17",
        "outputId": "300ec99c-8747-4b9f-f779-707dc8be2749"
      },
      "source": [
        "#CodeSection13\n",
        "\n",
        "#Initiate StandardScaler\n",
        "num_scale = StandardScaler()\n",
        "\n",
        "# Fit StandardScaler\n",
        "num_scale.fit(data[numerical_features])"
      ],
      "execution_count": null,
      "outputs": [
        {
          "output_type": "execute_result",
          "data": {
            "text/plain": [
              "StandardScaler(copy=True, with_mean=True, with_std=True)"
            ]
          },
          "metadata": {
            "tags": []
          },
          "execution_count": 16
        }
      ]
    },
    {
      "cell_type": "code",
      "metadata": {
        "id": "ut4Uq32Z_STX"
      },
      "source": [
        "#CodeSection14\n",
        "# Scale Train and Test\n",
        "for data in all_data:\n",
        "  data[numerical_features] = num_scale.transform(data[numerical_features])"
      ],
      "execution_count": null,
      "outputs": []
    },
    {
      "cell_type": "markdown",
      "metadata": {
        "id": "HSChDYATa70P"
      },
      "source": [
        "## 5/ Impute Categorical Variables"
      ]
    },
    {
      "cell_type": "markdown",
      "metadata": {
        "id": "D-qhcS6Ma70P"
      },
      "source": [
        "### Impute all Categorical Variables at once"
      ]
    },
    {
      "cell_type": "code",
      "metadata": {
        "id": "_JgFfORJa70Q"
      },
      "source": [
        "#CodeSection15\n",
        "# Identify all Categorical Features\n",
        "categorical_features = ['Gender', 'Married', 'Dependents', 'Education', 'Self_Employed', 'Property_Area']"
      ],
      "execution_count": null,
      "outputs": []
    },
    {
      "cell_type": "code",
      "metadata": {
        "id": "VDCqOfI9zJrF"
      },
      "source": [
        "#CodeSection16\n",
        "# Import SimpleImputer"
      ],
      "execution_count": null,
      "outputs": []
    },
    {
      "cell_type": "code",
      "metadata": {
        "colab": {
          "base_uri": "https://localhost:8080/"
        },
        "id": "jUWQ0FFpzMOa",
        "outputId": "99380c16-2eb4-49c8-e629-03fea2ac5268"
      },
      "source": [
        "#CodeSection17\n",
        "\n",
        "#Initiate SimpleImputer\n",
        "cat_impute = SimpleImputer(strategy='most_frequent')\n",
        "\n",
        "# Fit SimpleImputer\n",
        "cat_impute.fit(data[categorical_features])"
      ],
      "execution_count": null,
      "outputs": [
        {
          "output_type": "execute_result",
          "data": {
            "text/plain": [
              "SimpleImputer(add_indicator=False, copy=True, fill_value=None,\n",
              "              missing_values=nan, strategy='most_frequent', verbose=0)"
            ]
          },
          "metadata": {
            "tags": []
          },
          "execution_count": 19
        }
      ]
    },
    {
      "cell_type": "code",
      "metadata": {
        "id": "567yT6Eaz5jg"
      },
      "source": [
        "#CodeSection18\n",
        "# Impute Train and Test\n",
        "for data in all_data:\n",
        "  data[categorical_features] = cat_impute.transform(data[categorical_features])"
      ],
      "execution_count": null,
      "outputs": []
    },
    {
      "cell_type": "markdown",
      "metadata": {
        "id": "Yn4guIioa70V"
      },
      "source": [
        "## 6/ Now Re Check all Features"
      ]
    },
    {
      "cell_type": "code",
      "metadata": {
        "id": "MHrl6vMma70W",
        "colab": {
          "base_uri": "https://localhost:8080/"
        },
        "outputId": "880e645f-5450-4499-b3ce-afeca0bd0497"
      },
      "source": [
        "#CodeSection19\n",
        "# Combine both to check Missing Value\n",
        "pd.concat([train, test], axis = 0).isnull().sum()"
      ],
      "execution_count": null,
      "outputs": [
        {
          "output_type": "execute_result",
          "data": {
            "text/plain": [
              "Loan_ID                0\n",
              "Gender                 0\n",
              "Married                0\n",
              "Dependents             0\n",
              "Education              0\n",
              "Self_Employed          0\n",
              "ApplicantIncome        0\n",
              "CoapplicantIncome      0\n",
              "LoanAmount             0\n",
              "Loan_Amount_Term       0\n",
              "Credit_History         0\n",
              "Property_Area          0\n",
              "Loan_Status          367\n",
              "dtype: int64"
            ]
          },
          "metadata": {
            "tags": []
          },
          "execution_count": 21
        }
      ]
    },
    {
      "cell_type": "markdown",
      "metadata": {
        "id": "6Ade98pva70W"
      },
      "source": [
        "## 8/ Prepare Data for Model Model"
      ]
    },
    {
      "cell_type": "code",
      "metadata": {
        "id": "TEySx0Nza70X",
        "colab": {
          "base_uri": "https://localhost:8080/",
          "height": 204
        },
        "outputId": "a577ce7a-0f27-4e26-c0ab-12529341fefc"
      },
      "source": [
        "#CodeSection20\n",
        "# Check First 5 Rows of Test Data\n",
        "test.head()"
      ],
      "execution_count": null,
      "outputs": [
        {
          "output_type": "execute_result",
          "data": {
            "text/html": [
              "<div>\n",
              "<style scoped>\n",
              "    .dataframe tbody tr th:only-of-type {\n",
              "        vertical-align: middle;\n",
              "    }\n",
              "\n",
              "    .dataframe tbody tr th {\n",
              "        vertical-align: top;\n",
              "    }\n",
              "\n",
              "    .dataframe thead th {\n",
              "        text-align: right;\n",
              "    }\n",
              "</style>\n",
              "<table border=\"1\" class=\"dataframe\">\n",
              "  <thead>\n",
              "    <tr style=\"text-align: right;\">\n",
              "      <th></th>\n",
              "      <th>Loan_ID</th>\n",
              "      <th>Gender</th>\n",
              "      <th>Married</th>\n",
              "      <th>Dependents</th>\n",
              "      <th>Education</th>\n",
              "      <th>Self_Employed</th>\n",
              "      <th>ApplicantIncome</th>\n",
              "      <th>CoapplicantIncome</th>\n",
              "      <th>LoanAmount</th>\n",
              "      <th>Loan_Amount_Term</th>\n",
              "      <th>Credit_History</th>\n",
              "      <th>Property_Area</th>\n",
              "    </tr>\n",
              "  </thead>\n",
              "  <tbody>\n",
              "    <tr>\n",
              "      <th>0</th>\n",
              "      <td>LP001015</td>\n",
              "      <td>Male</td>\n",
              "      <td>Yes</td>\n",
              "      <td>0</td>\n",
              "      <td>Graduate</td>\n",
              "      <td>No</td>\n",
              "      <td>0.612566</td>\n",
              "      <td>-0.899112</td>\n",
              "      <td>-0.466495</td>\n",
              "      <td>0.322842</td>\n",
              "      <td>0.437674</td>\n",
              "      <td>Urban</td>\n",
              "    </tr>\n",
              "    <tr>\n",
              "      <th>1</th>\n",
              "      <td>LP001022</td>\n",
              "      <td>Male</td>\n",
              "      <td>Yes</td>\n",
              "      <td>1</td>\n",
              "      <td>Graduate</td>\n",
              "      <td>No</td>\n",
              "      <td>-0.575939</td>\n",
              "      <td>0.051833</td>\n",
              "      <td>-0.140373</td>\n",
              "      <td>0.322842</td>\n",
              "      <td>0.437674</td>\n",
              "      <td>Urban</td>\n",
              "    </tr>\n",
              "    <tr>\n",
              "      <th>2</th>\n",
              "      <td>LP001031</td>\n",
              "      <td>Male</td>\n",
              "      <td>Yes</td>\n",
              "      <td>2</td>\n",
              "      <td>Graduate</td>\n",
              "      <td>No</td>\n",
              "      <td>0.288919</td>\n",
              "      <td>0.242022</td>\n",
              "      <td>1.531000</td>\n",
              "      <td>0.322842</td>\n",
              "      <td>0.437674</td>\n",
              "      <td>Urban</td>\n",
              "    </tr>\n",
              "    <tr>\n",
              "      <th>3</th>\n",
              "      <td>LP001035</td>\n",
              "      <td>Male</td>\n",
              "      <td>Yes</td>\n",
              "      <td>2</td>\n",
              "      <td>Graduate</td>\n",
              "      <td>No</td>\n",
              "      <td>-0.906778</td>\n",
              "      <td>0.714959</td>\n",
              "      <td>-0.670321</td>\n",
              "      <td>0.322842</td>\n",
              "      <td>0.437674</td>\n",
              "      <td>Urban</td>\n",
              "    </tr>\n",
              "    <tr>\n",
              "      <th>4</th>\n",
              "      <td>LP001051</td>\n",
              "      <td>Male</td>\n",
              "      <td>No</td>\n",
              "      <td>0</td>\n",
              "      <td>Not Graduate</td>\n",
              "      <td>No</td>\n",
              "      <td>-0.486037</td>\n",
              "      <td>-0.899112</td>\n",
              "      <td>-1.118738</td>\n",
              "      <td>0.322842</td>\n",
              "      <td>0.437674</td>\n",
              "      <td>Urban</td>\n",
              "    </tr>\n",
              "  </tbody>\n",
              "</table>\n",
              "</div>"
            ],
            "text/plain": [
              "    Loan_ID Gender Married  ... Loan_Amount_Term Credit_History Property_Area\n",
              "0  LP001015   Male     Yes  ...         0.322842       0.437674         Urban\n",
              "1  LP001022   Male     Yes  ...         0.322842       0.437674         Urban\n",
              "2  LP001031   Male     Yes  ...         0.322842       0.437674         Urban\n",
              "3  LP001035   Male     Yes  ...         0.322842       0.437674         Urban\n",
              "4  LP001051   Male      No  ...         0.322842       0.437674         Urban\n",
              "\n",
              "[5 rows x 12 columns]"
            ]
          },
          "metadata": {
            "tags": []
          },
          "execution_count": 22
        }
      ]
    },
    {
      "cell_type": "code",
      "metadata": {
        "id": "A6yS1pqza70X"
      },
      "source": [
        "#CodeSection21\n",
        "# Get X and y Variables for your Dataset\n",
        "X = train.drop(['Loan_Status','Loan_ID'], axis =  1)\n",
        "y = train['Loan_Status']"
      ],
      "execution_count": null,
      "outputs": []
    },
    {
      "cell_type": "markdown",
      "metadata": {
        "id": "w1gJQ7Qsa70Y"
      },
      "source": [
        "### Create Dummy Variables for  Categorical Variables"
      ]
    },
    {
      "cell_type": "code",
      "metadata": {
        "id": "ipcXGR73a70Y"
      },
      "source": [
        "#CodeSection22\n",
        "# Get Dummy Variables\n",
        "X = pd.get_dummies(X, drop_first = True)  # Keep only n - 1 Variables - Use \"drop_first = True\""
      ],
      "execution_count": null,
      "outputs": []
    },
    {
      "cell_type": "markdown",
      "metadata": {
        "id": "p62cfPzVa70Y"
      },
      "source": [
        "## 9/ Build Model"
      ]
    },
    {
      "cell_type": "code",
      "metadata": {
        "id": "GdLbPTCXa70Y"
      },
      "source": [
        "#CodeSection23\n",
        "#Import Logistic Regression Library\n",
        "from sklearn.linear_model import LogisticRegression\n",
        "\n",
        "#Initialize LR\n",
        "clf = LogisticRegression(max_iter = 1000)"
      ],
      "execution_count": null,
      "outputs": []
    },
    {
      "cell_type": "code",
      "metadata": {
        "id": "WrD0GfaSa70Z"
      },
      "source": [
        "#CodeSection24\n",
        "# Fit Model\n",
        "model = clf.fit(X, y)"
      ],
      "execution_count": null,
      "outputs": []
    },
    {
      "cell_type": "markdown",
      "metadata": {
        "id": "Omv4nWgwa70Z"
      },
      "source": [
        "### Check Accuracy of Model on Train Data"
      ]
    },
    {
      "cell_type": "code",
      "metadata": {
        "id": "PQi2u6uQa70Z"
      },
      "source": [
        "#CodeSection25\n",
        "# Predict on Train Data\n",
        "y_pred = model.predict(X)"
      ],
      "execution_count": null,
      "outputs": []
    },
    {
      "cell_type": "markdown",
      "metadata": {
        "id": "AqPB9qLLa70a"
      },
      "source": [
        "### We can use a Accuracy Function from Metrics\n",
        "- Check Train Accuracy"
      ]
    },
    {
      "cell_type": "code",
      "metadata": {
        "id": "L8VJNsHIa70a"
      },
      "source": [
        "#CodeSection26\n",
        "# Import metrics library\n",
        "from sklearn.metrics import accuracy_score"
      ],
      "execution_count": null,
      "outputs": []
    },
    {
      "cell_type": "code",
      "metadata": {
        "id": "jeeS7nkja70a"
      },
      "source": [
        "#CodeSection27\n",
        "# get Actual \"y\" variables (use \"y_true\" as variable)\n",
        "y_true = train['Loan_Status']"
      ],
      "execution_count": null,
      "outputs": []
    },
    {
      "cell_type": "code",
      "metadata": {
        "id": "p7llEg7aa70b",
        "colab": {
          "base_uri": "https://localhost:8080/"
        },
        "outputId": "fae343a1-c9b4-4c32-a7c4-84f9dbb01a9b"
      },
      "source": [
        "#CodeSection28\n",
        "# Print Train Accuracy\n",
        "print(f\" Train Accuracy : {accuracy_score(y_true, y_pred):0.1%}\")"
      ],
      "execution_count": null,
      "outputs": [
        {
          "output_type": "stream",
          "text": [
            " Train Accuracy : 80.9%\n"
          ],
          "name": "stdout"
        }
      ]
    },
    {
      "cell_type": "markdown",
      "metadata": {
        "id": "QIMZgLEWa70b"
      },
      "source": [
        "## 10/ Predict and Submit"
      ]
    },
    {
      "cell_type": "markdown",
      "metadata": {
        "id": "BwZubGmra70b"
      },
      "source": [
        "### Predict"
      ]
    },
    {
      "cell_type": "code",
      "metadata": {
        "id": "7qnE4K9Ca70c"
      },
      "source": [
        "#CodeSection29\n",
        "# Get all the X Variables from the Test Dataset\n",
        "X_test = test.drop(['Loan_ID'], axis =  1)"
      ],
      "execution_count": null,
      "outputs": []
    },
    {
      "cell_type": "code",
      "metadata": {
        "id": "0ivs1ED7a70d"
      },
      "source": [
        "#CodeSection30\n",
        "#Covert to Dummies\n",
        "X_test = pd.get_dummies(X_test, drop_first = True)"
      ],
      "execution_count": null,
      "outputs": []
    },
    {
      "cell_type": "code",
      "metadata": {
        "id": "eE8sFN6Na70e"
      },
      "source": [
        "#CodeSection31\n",
        "# use this code if the next Code shows error\n",
        "#X_test['Married_Missing']  = 0"
      ],
      "execution_count": null,
      "outputs": []
    },
    {
      "cell_type": "code",
      "metadata": {
        "id": "cHsaBNQFa70e"
      },
      "source": [
        "#CodeSection32\n",
        "# Predict on X_test Data (\"X_test_prep\")\n",
        "X_test_prep = model.predict(X_test)"
      ],
      "execution_count": null,
      "outputs": []
    },
    {
      "cell_type": "markdown",
      "metadata": {
        "id": "SClle2xqa70e"
      },
      "source": [
        "### Create Submission File"
      ]
    },
    {
      "cell_type": "code",
      "metadata": {
        "id": "LgdlFL46a70f"
      },
      "source": [
        "#CodeSection33\n",
        "submission = pd.DataFrame({\n",
        "    'Loan_ID' : test['Loan_ID'],\n",
        "    'Loan_Status' : X_test_prep\n",
        "})"
      ],
      "execution_count": null,
      "outputs": []
    },
    {
      "cell_type": "markdown",
      "metadata": {
        "id": "MAZ0TP21a70g"
      },
      "source": [
        "### Export Submission File"
      ]
    },
    {
      "cell_type": "code",
      "metadata": {
        "id": "AnfbYZoKa70g"
      },
      "source": [
        "#CodeSection34\n",
        "submission.to_csv('/mntDrive/MyDrive/__DataScience/1 Loan Prediction/output/O5_Preproccesing_All.csv', index = False)"
      ],
      "execution_count": null,
      "outputs": []
    },
    {
      "cell_type": "code",
      "metadata": {
        "id": "n13R8vTfa70g"
      },
      "source": [
        "# LB Accuracy : 0.7777"
      ],
      "execution_count": null,
      "outputs": []
    }
  ]
}